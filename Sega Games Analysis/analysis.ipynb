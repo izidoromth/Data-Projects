{
 "cells": [
  {
   "cell_type": "code",
   "execution_count": 26,
   "metadata": {},
   "outputs": [],
   "source": [
    "import pandas as pd\n",
    "import seaborn as sns\n",
    "import plotly.express as px"
   ]
  },
  {
   "cell_type": "code",
   "execution_count": 63,
   "metadata": {},
   "outputs": [
    {
     "name": "stdout",
     "output_type": "stream",
     "text": [
      "(1481, 10)\n"
     ]
    },
    {
     "data": {
      "text/html": [
       "<div>\n",
       "<style scoped>\n",
       "    .dataframe tbody tr th:only-of-type {\n",
       "        vertical-align: middle;\n",
       "    }\n",
       "\n",
       "    .dataframe tbody tr th {\n",
       "        vertical-align: top;\n",
       "    }\n",
       "\n",
       "    .dataframe thead th {\n",
       "        text-align: right;\n",
       "    }\n",
       "</style>\n",
       "<table border=\"1\" class=\"dataframe\">\n",
       "  <thead>\n",
       "    <tr style=\"text-align: right;\">\n",
       "      <th></th>\n",
       "      <th>meta_score</th>\n",
       "      <th>title</th>\n",
       "      <th>platform</th>\n",
       "      <th>date</th>\n",
       "      <th>user_score</th>\n",
       "      <th>link</th>\n",
       "      <th>esrb_rating</th>\n",
       "      <th>developers</th>\n",
       "      <th>genres</th>\n",
       "      <th>date_dt</th>\n",
       "    </tr>\n",
       "  </thead>\n",
       "  <tbody>\n",
       "    <tr>\n",
       "      <th>0</th>\n",
       "      <td>NaN</td>\n",
       "      <td>Persona 3 Reload</td>\n",
       "      <td>XONE</td>\n",
       "      <td>Feb 2, 2024</td>\n",
       "      <td>NaN</td>\n",
       "      <td>/game/xbox-one/persona-3-reload</td>\n",
       "      <td>NaN</td>\n",
       "      <td>['P-Studio']</td>\n",
       "      <td>['Role-Playing', 'Japanese-Style']</td>\n",
       "      <td>2024-02-02</td>\n",
       "    </tr>\n",
       "    <tr>\n",
       "      <th>1</th>\n",
       "      <td>NaN</td>\n",
       "      <td>Persona 5 Tactica</td>\n",
       "      <td>PC</td>\n",
       "      <td>Nov 17, 2023</td>\n",
       "      <td>NaN</td>\n",
       "      <td>/game/pc/persona-5-tactica</td>\n",
       "      <td>NaN</td>\n",
       "      <td>['P-Studio']</td>\n",
       "      <td>['Strategy', 'Turn-Based', 'Tactics']</td>\n",
       "      <td>2023-11-17</td>\n",
       "    </tr>\n",
       "    <tr>\n",
       "      <th>2</th>\n",
       "      <td>NaN</td>\n",
       "      <td>Persona 5 Tactica</td>\n",
       "      <td>XONE</td>\n",
       "      <td>Nov 17, 2023</td>\n",
       "      <td>NaN</td>\n",
       "      <td>/game/xbox-one/persona-5-tactica</td>\n",
       "      <td>RP</td>\n",
       "      <td>['P-Studio']</td>\n",
       "      <td>['Strategy', 'Turn-Based', 'Tactics']</td>\n",
       "      <td>2023-11-17</td>\n",
       "    </tr>\n",
       "    <tr>\n",
       "      <th>3</th>\n",
       "      <td>NaN</td>\n",
       "      <td>Persona 5 Tactica</td>\n",
       "      <td>PS4</td>\n",
       "      <td>Nov 17, 2023</td>\n",
       "      <td>NaN</td>\n",
       "      <td>/game/playstation-4/persona-5-tactica</td>\n",
       "      <td>NaN</td>\n",
       "      <td>['P-Studio']</td>\n",
       "      <td>['Strategy', 'Turn-Based', 'Tactics']</td>\n",
       "      <td>2023-11-17</td>\n",
       "    </tr>\n",
       "    <tr>\n",
       "      <th>4</th>\n",
       "      <td>NaN</td>\n",
       "      <td>Persona 5 Tactica</td>\n",
       "      <td>Switch</td>\n",
       "      <td>Nov 17, 2023</td>\n",
       "      <td>NaN</td>\n",
       "      <td>/game/switch/persona-5-tactica</td>\n",
       "      <td>RP</td>\n",
       "      <td>['P-Studio']</td>\n",
       "      <td>['Strategy', 'Turn-Based', 'Tactics']</td>\n",
       "      <td>2023-11-17</td>\n",
       "    </tr>\n",
       "  </tbody>\n",
       "</table>\n",
       "</div>"
      ],
      "text/plain": [
       "   meta_score              title platform          date  user_score  \\\n",
       "0         NaN   Persona 3 Reload     XONE   Feb 2, 2024         NaN   \n",
       "1         NaN  Persona 5 Tactica       PC  Nov 17, 2023         NaN   \n",
       "2         NaN  Persona 5 Tactica     XONE  Nov 17, 2023         NaN   \n",
       "3         NaN  Persona 5 Tactica      PS4  Nov 17, 2023         NaN   \n",
       "4         NaN  Persona 5 Tactica   Switch  Nov 17, 2023         NaN   \n",
       "\n",
       "                                    link esrb_rating    developers  \\\n",
       "0        /game/xbox-one/persona-3-reload         NaN  ['P-Studio']   \n",
       "1             /game/pc/persona-5-tactica         NaN  ['P-Studio']   \n",
       "2       /game/xbox-one/persona-5-tactica          RP  ['P-Studio']   \n",
       "3  /game/playstation-4/persona-5-tactica         NaN  ['P-Studio']   \n",
       "4         /game/switch/persona-5-tactica          RP  ['P-Studio']   \n",
       "\n",
       "                                  genres    date_dt  \n",
       "0     ['Role-Playing', 'Japanese-Style'] 2024-02-02  \n",
       "1  ['Strategy', 'Turn-Based', 'Tactics'] 2023-11-17  \n",
       "2  ['Strategy', 'Turn-Based', 'Tactics'] 2023-11-17  \n",
       "3  ['Strategy', 'Turn-Based', 'Tactics'] 2023-11-17  \n",
       "4  ['Strategy', 'Turn-Based', 'Tactics'] 2023-11-17  "
      ]
     },
     "execution_count": 63,
     "metadata": {},
     "output_type": "execute_result"
    }
   ],
   "source": [
    "df = pd.read_csv('./SegaGames.csv')\n",
    "df['date_dt'] = pd.to_datetime(df['date'], errors='coerce')\n",
    "print(df.shape)\n",
    "df.head()"
   ]
  },
  {
   "cell_type": "code",
   "execution_count": 19,
   "metadata": {},
   "outputs": [
    {
     "data": {
      "text/plain": [
       "<Axes: xlabel='platform', ylabel='count'>"
      ]
     },
     "execution_count": 19,
     "metadata": {},
     "output_type": "execute_result"
    },
    {
     "data": {
      "image/png": "[encoded data removed]",
      "text/plain": [
       "<Figure size 640x480 with 1 Axes>"
      ]
     },
     "metadata": {},
     "output_type": "display_data"
    }
   ],
   "source": [
    "sns.barplot(data=df['platform'].value_counts().to_frame()[:10].reset_index(), x='platform', y='count')"
   ]
  },
  {
   "cell_type": "code",
   "execution_count": 79,
   "metadata": {},
   "outputs": [
    {
     "data": {
      "application/vnd.plotly.v1+json": {
       "config": {
        "plotlyServerURL": "https://plot.ly"
       },
       "data": [
        {
         "hovertemplate": "platform=1995)<br>date_dt=%{x}<br>count=%{y}<extra></extra>",
         "legendgroup": "1995)",
         "line": {
          "color": "#636efa",
          "dash": "solid"
         },
         "marker": {
          "symbol": "circle"
         },
         "mode": "lines",
         "name": "1995)",
         "orientation": "v",
         "showlegend": true,
         "type": "scatter",
         "x": [
          1996
         ],
         "xaxis": "x",
         "y": [
          1
         ],
         "yaxis": "y"
        },
        {
         "hovertemplate": "platform=PC<br>date_dt=%{x}<br>count=%{y}<extra></extra>",
         "legendgroup": "PC",
         "line": {
          "color": "#EF553B",
          "dash": "solid"
         },
         "marker": {
          "symbol": "circle"
         },
         "mode": "lines",
         "name": "PC",
         "orientation": "v",
         "showlegend": true,
         "type": "scatter",
         "x": [
          1996,
          1997,
          1998,
          1999,
          2001,
          2003,
          2004,
          2005,
          2006,
          2007,
          2008,
          2009,
          2010,
          2011,
          2012,
          2013,
          2014,
          2015,
          2016,
          2017,
          2018,
          2019,
          2020,
          2021,
          2022,
          2023
         ],
         "xaxis": "x",
         "y": [
          7,
          9,
          3,
          1,
          3,
          1,
          4,
          4,
          11,
          8,
          8,
          7,
          46,
          32,
          30,
          16,
          24,
          16,
          25,
          18,
          28,
          19,
          17,
          21,
          17,
          17
         ],
         "yaxis": "y"
        },
        {
         "hovertemplate": "platform=DC<br>date_dt=%{x}<br>count=%{y}<extra></extra>",
         "legendgroup": "DC",
         "line": {
          "color": "#00cc96",
          "dash": "solid"
         },
         "marker": {
          "symbol": "circle"
         },
         "mode": "lines",
         "name": "DC",
         "orientation": "v",
         "showlegend": true,
         "type": "scatter",
         "x": [
          1999,
          2000,
          2001,
          2002
         ],
         "xaxis": "x",
         "y": [
          1,
          14,
          20,
          1
         ],
         "yaxis": "y"
        },
        {
         "hovertemplate": "platform=GBA<br>date_dt=%{x}<br>count=%{y}<extra></extra>",
         "legendgroup": "GBA",
         "line": {
          "color": "#ab63fa",
          "dash": "solid"
         },
         "marker": {
          "symbol": "circle"
         },
         "mode": "lines",
         "name": "GBA",
         "orientation": "v",
         "showlegend": true,
         "type": "scatter",
         "x": [
          2001,
          2002,
          2003,
          2004,
          2005,
          2006
         ],
         "xaxis": "x",
         "y": [
          1,
          2,
          3,
          1,
          2,
          3
         ],
         "yaxis": "y"
        },
        {
         "hovertemplate": "platform=GC<br>date_dt=%{x}<br>count=%{y}<extra></extra>",
         "legendgroup": "GC",
         "line": {
          "color": "#FFA15A",
          "dash": "solid"
         },
         "marker": {
          "symbol": "circle"
         },
         "mode": "lines",
         "name": "GC",
         "orientation": "v",
         "showlegend": true,
         "type": "scatter",
         "x": [
          2001,
          2002,
          2003,
          2004,
          2005,
          2006
         ],
         "xaxis": "x",
         "y": [
          1,
          14,
          3,
          6,
          4,
          2
         ],
         "yaxis": "y"
        },
        {
         "hovertemplate": "platform=PS2<br>date_dt=%{x}<br>count=%{y}<extra></extra>",
         "legendgroup": "PS2",
         "line": {
          "color": "#19d3f3",
          "dash": "solid"
         },
         "marker": {
          "symbol": "circle"
         },
         "mode": "lines",
         "name": "PS2",
         "orientation": "v",
         "showlegend": true,
         "type": "scatter",
         "x": [
          2001,
          2002,
          2003,
          2004,
          2005,
          2006,
          2007,
          2008
         ],
         "xaxis": "x",
         "y": [
          1,
          14,
          9,
          13,
          11,
          6,
          3,
          6
         ],
         "yaxis": "y"
        },
        {
         "hovertemplate": "platform=XBOX<br>date_dt=%{x}<br>count=%{y}<extra></extra>",
         "legendgroup": "XBOX",
         "line": {
          "color": "#FF6692",
          "dash": "solid"
         },
         "marker": {
          "symbol": "circle"
         },
         "mode": "lines",
         "name": "XBOX",
         "orientation": "v",
         "showlegend": true,
         "type": "scatter",
         "x": [
          2002,
          2003,
          2004,
          2005,
          2006
         ],
         "xaxis": "x",
         "y": [
          14,
          7,
          10,
          8,
          2
         ],
         "yaxis": "y"
        },
        {
         "hovertemplate": "platform=2004)<br>date_dt=%{x}<br>count=%{y}<extra></extra>",
         "legendgroup": "2004)",
         "line": {
          "color": "#B6E880",
          "dash": "solid"
         },
         "marker": {
          "symbol": "circle"
         },
         "mode": "lines",
         "name": "2004)",
         "orientation": "v",
         "showlegend": true,
         "type": "scatter",
         "x": [
          2004
         ],
         "xaxis": "x",
         "y": [
          1
         ],
         "yaxis": "y"
        },
        {
         "hovertemplate": "platform=DS<br>date_dt=%{x}<br>count=%{y}<extra></extra>",
         "legendgroup": "DS",
         "line": {
          "color": "#FF97FF",
          "dash": "solid"
         },
         "marker": {
          "symbol": "circle"
         },
         "mode": "lines",
         "name": "DS",
         "orientation": "v",
         "showlegend": true,
         "type": "scatter",
         "x": [
          2004,
          2005,
          2006,
          2007,
          2008,
          2009,
          2010,
          2011
         ],
         "xaxis": "x",
         "y": [
          1,
          2,
          3,
          3,
          10,
          5,
          7,
          2
         ],
         "yaxis": "y"
        },
        {
         "hovertemplate": "platform=PSP<br>date_dt=%{x}<br>count=%{y}<extra></extra>",
         "legendgroup": "PSP",
         "line": {
          "color": "#FECB52",
          "dash": "solid"
         },
         "marker": {
          "symbol": "circle"
         },
         "mode": "lines",
         "name": "PSP",
         "orientation": "v",
         "showlegend": true,
         "type": "scatter",
         "x": [
          2005,
          2006,
          2007,
          2008,
          2009,
          2010,
          2011
         ],
         "xaxis": "x",
         "y": [
          1,
          5,
          9,
          1,
          3,
          5,
          2
         ],
         "yaxis": "y"
        },
        {
         "hovertemplate": "platform=X360<br>date_dt=%{x}<br>count=%{y}<extra></extra>",
         "legendgroup": "X360",
         "line": {
          "color": "#636efa",
          "dash": "solid"
         },
         "marker": {
          "symbol": "circle"
         },
         "mode": "lines",
         "name": "X360",
         "orientation": "v",
         "showlegend": true,
         "type": "scatter",
         "x": [
          2005,
          2006,
          2007,
          2008,
          2009,
          2010,
          2011,
          2012,
          2013,
          2014,
          2015,
          2018
         ],
         "xaxis": "x",
         "y": [
          1,
          4,
          10,
          11,
          19,
          13,
          15,
          20,
          8,
          5,
          3,
          1
         ],
         "yaxis": "y"
        },
        {
         "hovertemplate": "platform=Genesis)<br>date_dt=%{x}<br>count=%{y}<extra></extra>",
         "legendgroup": "Genesis)",
         "line": {
          "color": "#EF553B",
          "dash": "solid"
         },
         "marker": {
          "symbol": "circle"
         },
         "mode": "lines",
         "name": "Genesis)",
         "orientation": "v",
         "showlegend": true,
         "type": "scatter",
         "x": [
          2006,
          2008,
          2010
         ],
         "xaxis": "x",
         "y": [
          2,
          1,
          5
         ],
         "yaxis": "y"
        },
        {
         "hovertemplate": "platform=PS3<br>date_dt=%{x}<br>count=%{y}<extra></extra>",
         "legendgroup": "PS3",
         "line": {
          "color": "#00cc96",
          "dash": "solid"
         },
         "marker": {
          "symbol": "circle"
         },
         "mode": "lines",
         "name": "PS3",
         "orientation": "v",
         "showlegend": true,
         "type": "scatter",
         "x": [
          2006,
          2007,
          2008,
          2009,
          2010,
          2011,
          2012,
          2013,
          2014,
          2015
         ],
         "xaxis": "x",
         "y": [
          1,
          6,
          10,
          11,
          13,
          17,
          26,
          12,
          6,
          5
         ],
         "yaxis": "y"
        },
        {
         "hovertemplate": "platform=WII<br>date_dt=%{x}<br>count=%{y}<extra></extra>",
         "legendgroup": "WII",
         "line": {
          "color": "#ab63fa",
          "dash": "solid"
         },
         "marker": {
          "symbol": "circle"
         },
         "mode": "lines",
         "name": "WII",
         "orientation": "v",
         "showlegend": true,
         "type": "scatter",
         "x": [
          2006,
          2007,
          2008,
          2009,
          2010,
          2011
         ],
         "xaxis": "x",
         "y": [
          9,
          39,
          21,
          26,
          10,
          5
         ],
         "yaxis": "y"
        },
        {
         "hovertemplate": "platform=Live Arcade)<br>date_dt=%{x}<br>count=%{y}<extra></extra>",
         "legendgroup": "Live Arcade)",
         "line": {
          "color": "#FFA15A",
          "dash": "solid"
         },
         "marker": {
          "symbol": "circle"
         },
         "mode": "lines",
         "name": "Live Arcade)",
         "orientation": "v",
         "showlegend": true,
         "type": "scatter",
         "x": [
          2007
         ],
         "xaxis": "x",
         "y": [
          1
         ],
         "yaxis": "y"
        },
        {
         "hovertemplate": "platform=iOS<br>date_dt=%{x}<br>count=%{y}<extra></extra>",
         "legendgroup": "iOS",
         "line": {
          "color": "#19d3f3",
          "dash": "solid"
         },
         "marker": {
          "symbol": "circle"
         },
         "mode": "lines",
         "name": "iOS",
         "orientation": "v",
         "showlegend": true,
         "type": "scatter",
         "x": [
          2007,
          2008,
          2009,
          2010,
          2011,
          2012,
          2013,
          2014,
          2015,
          2016,
          2017,
          2018,
          2019,
          2020,
          2021,
          2022
         ],
         "xaxis": "x",
         "y": [
          1,
          2,
          4,
          18,
          16,
          15,
          12,
          8,
          9,
          4,
          14,
          6,
          6,
          4,
          2,
          2
         ],
         "yaxis": "y"
        },
        {
         "hovertemplate": "platform=Master System)<br>date_dt=%{x}<br>count=%{y}<extra></extra>",
         "legendgroup": "Master System)",
         "line": {
          "color": "#FF6692",
          "dash": "solid"
         },
         "marker": {
          "symbol": "circle"
         },
         "mode": "lines",
         "name": "Master System)",
         "orientation": "v",
         "showlegend": true,
         "type": "scatter",
         "x": [
          2008,
          2009
         ],
         "xaxis": "x",
         "y": [
          3,
          2
         ],
         "yaxis": "y"
        },
        {
         "hovertemplate": "platform=Arcade)<br>date_dt=%{x}<br>count=%{y}<extra></extra>",
         "legendgroup": "Arcade)",
         "line": {
          "color": "#B6E880",
          "dash": "solid"
         },
         "marker": {
          "symbol": "circle"
         },
         "mode": "lines",
         "name": "Arcade)",
         "orientation": "v",
         "showlegend": true,
         "type": "scatter",
         "x": [
          2009
         ],
         "xaxis": "x",
         "y": [
          3
         ],
         "yaxis": "y"
        },
        {
         "hovertemplate": "platform=2011)<br>date_dt=%{x}<br>count=%{y}<extra></extra>",
         "legendgroup": "2011)",
         "line": {
          "color": "#FF97FF",
          "dash": "solid"
         },
         "marker": {
          "symbol": "circle"
         },
         "mode": "lines",
         "name": "2011)",
         "orientation": "v",
         "showlegend": true,
         "type": "scatter",
         "x": [
          2011
         ],
         "xaxis": "x",
         "y": [
          1
         ],
         "yaxis": "y"
        },
        {
         "hovertemplate": "platform=3DS<br>date_dt=%{x}<br>count=%{y}<extra></extra>",
         "legendgroup": "3DS",
         "line": {
          "color": "#FECB52",
          "dash": "solid"
         },
         "marker": {
          "symbol": "circle"
         },
         "mode": "lines",
         "name": "3DS",
         "orientation": "v",
         "showlegend": true,
         "type": "scatter",
         "x": [
          2011,
          2012,
          2013,
          2014,
          2015,
          2016
         ],
         "xaxis": "x",
         "y": [
          5,
          3,
          10,
          1,
          9,
          3
         ],
         "yaxis": "y"
        },
        {
         "hovertemplate": "platform=Dreamcast Collection)<br>date_dt=%{x}<br>count=%{y}<extra></extra>",
         "legendgroup": "Dreamcast Collection)",
         "line": {
          "color": "#636efa",
          "dash": "solid"
         },
         "marker": {
          "symbol": "circle"
         },
         "mode": "lines",
         "name": "Dreamcast Collection)",
         "orientation": "v",
         "showlegend": true,
         "type": "scatter",
         "x": [
          2011
         ],
         "xaxis": "x",
         "y": [
          2
         ],
         "yaxis": "y"
        },
        {
         "hovertemplate": "platform=PSN)<br>date_dt=%{x}<br>count=%{y}<extra></extra>",
         "legendgroup": "PSN)",
         "line": {
          "color": "#EF553B",
          "dash": "solid"
         },
         "marker": {
          "symbol": "circle"
         },
         "mode": "lines",
         "name": "PSN)",
         "orientation": "v",
         "showlegend": true,
         "type": "scatter",
         "x": [
          2011
         ],
         "xaxis": "x",
         "y": [
          1
         ],
         "yaxis": "y"
        },
        {
         "hovertemplate": "platform=VITA<br>date_dt=%{x}<br>count=%{y}<extra></extra>",
         "legendgroup": "VITA",
         "line": {
          "color": "#00cc96",
          "dash": "solid"
         },
         "marker": {
          "symbol": "circle"
         },
         "mode": "lines",
         "name": "VITA",
         "orientation": "v",
         "showlegend": true,
         "type": "scatter",
         "x": [
          2012,
          2014,
          2015,
          2016,
          2017
         ],
         "xaxis": "x",
         "y": [
          4,
          3,
          1,
          1,
          2
         ],
         "yaxis": "y"
        },
        {
         "hovertemplate": "platform=WIIU<br>date_dt=%{x}<br>count=%{y}<extra></extra>",
         "legendgroup": "WIIU",
         "line": {
          "color": "#ab63fa",
          "dash": "solid"
         },
         "marker": {
          "symbol": "circle"
         },
         "mode": "lines",
         "name": "WIIU",
         "orientation": "v",
         "showlegend": true,
         "type": "scatter",
         "x": [
          2012,
          2013,
          2014
         ],
         "xaxis": "x",
         "y": [
          1,
          2,
          1
         ],
         "yaxis": "y"
        },
        {
         "hovertemplate": "platform=2013)<br>date_dt=%{x}<br>count=%{y}<extra></extra>",
         "legendgroup": "2013)",
         "line": {
          "color": "#FFA15A",
          "dash": "solid"
         },
         "marker": {
          "symbol": "circle"
         },
         "mode": "lines",
         "name": "2013)",
         "orientation": "v",
         "showlegend": true,
         "type": "scatter",
         "x": [
          2013
         ],
         "xaxis": "x",
         "y": [
          1
         ],
         "yaxis": "y"
        },
        {
         "hovertemplate": "platform=PS4<br>date_dt=%{x}<br>count=%{y}<extra></extra>",
         "legendgroup": "PS4",
         "line": {
          "color": "#19d3f3",
          "dash": "solid"
         },
         "marker": {
          "symbol": "circle"
         },
         "mode": "lines",
         "name": "PS4",
         "orientation": "v",
         "showlegend": true,
         "type": "scatter",
         "x": [
          2014,
          2015,
          2016,
          2017,
          2018,
          2019,
          2020,
          2021,
          2022,
          2023
         ],
         "xaxis": "x",
         "y": [
          5,
          4,
          3,
          15,
          15,
          9,
          11,
          13,
          8,
          11
         ],
         "yaxis": "y"
        },
        {
         "hovertemplate": "platform=XONE<br>date_dt=%{x}<br>count=%{y}<extra></extra>",
         "legendgroup": "XONE",
         "line": {
          "color": "#FF6692",
          "dash": "solid"
         },
         "marker": {
          "symbol": "circle"
         },
         "mode": "lines",
         "name": "XONE",
         "orientation": "v",
         "showlegend": true,
         "type": "scatter",
         "x": [
          2014,
          2015,
          2017,
          2018,
          2019,
          2020,
          2021,
          2022,
          2023,
          2024
         ],
         "xaxis": "x",
         "y": [
          5,
          5,
          4,
          12,
          6,
          12,
          14,
          7,
          11,
          1
         ],
         "yaxis": "y"
        },
        {
         "hovertemplate": "platform=Creative Assembly)<br>date_dt=%{x}<br>count=%{y}<extra></extra>",
         "legendgroup": "Creative Assembly)",
         "line": {
          "color": "#B6E880",
          "dash": "solid"
         },
         "marker": {
          "symbol": "circle"
         },
         "mode": "lines",
         "name": "Creative Assembly)",
         "orientation": "v",
         "showlegend": true,
         "type": "scatter",
         "x": [
          2016
         ],
         "xaxis": "x",
         "y": [
          1
         ],
         "yaxis": "y"
        },
        {
         "hovertemplate": "platform=Switch<br>date_dt=%{x}<br>count=%{y}<extra></extra>",
         "legendgroup": "Switch",
         "line": {
          "color": "#FF97FF",
          "dash": "solid"
         },
         "marker": {
          "symbol": "circle"
         },
         "mode": "lines",
         "name": "Switch",
         "orientation": "v",
         "showlegend": true,
         "type": "scatter",
         "x": [
          2017,
          2018,
          2019,
          2020,
          2021,
          2022,
          2023
         ],
         "xaxis": "x",
         "y": [
          4,
          18,
          18,
          14,
          7,
          9,
          14
         ],
         "yaxis": "y"
        }
       ],
       "layout": {
        "legend": {
         "title": {
          "text": "platform"
         },
         "tracegroupgap": 0
        },
        "margin": {
         "t": 60
        },
        "template": {
         "data": {
          "bar": [
           {
            "error_x": {
             "color": "#2a3f5f"
            },
            "error_y": {
             "color": "#2a3f5f"
            },
            "marker": {
             "line": {
              "color": "#E5ECF6",
              "width": 0.5
             },
             "pattern": {
              "fillmode": "overlay",
              "size": 10,
              "solidity": 0.2
             }
            },
            "type": "bar"
           }
          ],
          "barpolar": [
           {
            "marker": {
             "line": {
              "color": "#E5ECF6",
              "width": 0.5
             },
             "pattern": {
              "fillmode": "overlay",
              "size": 10,
              "solidity": 0.2
             }
            },
            "type": "barpolar"
           }
          ],
          "carpet": [
           {
            "aaxis": {
             "endlinecolor": "#2a3f5f",
             "gridcolor": "white",
             "linecolor": "white",
             "minorgridcolor": "white",
             "startlinecolor": "#2a3f5f"
            },
            "baxis": {
             "endlinecolor": "#2a3f5f",
             "gridcolor": "white",
             "linecolor": "white",
             "minorgridcolor": "white",
             "startlinecolor": "#2a3f5f"
            },
            "type": "carpet"
           }
          ],
          "choropleth": [
           {
            "colorbar": {
             "outlinewidth": 0,
             "ticks": ""
            },
            "type": "choropleth"
           }
          ],
          "contour": [
           {
            "colorbar": {
             "outlinewidth": 0,
             "ticks": ""
            },
            "colorscale": [
             [
              0,
              "#0d0887"
             ],
             [
              0.1111111111111111,
              "#46039f"
             ],
             [
              0.2222222222222222,
              "#7201a8"
             ],
             [
              0.3333333333333333,
              "#9c179e"
             ],
             [
              0.4444444444444444,
              "#bd3786"
             ],
             [
              0.5555555555555556,
              "#d8576b"
             ],
             [
              0.6666666666666666,
              "#ed7953"
             ],
             [
              0.7777777777777778,
              "#fb9f3a"
             ],
             [
              0.8888888888888888,
              "#fdca26"
             ],
             [
              1,
              "#f0f921"
             ]
            ],
            "type": "contour"
           }
          ],
          "contourcarpet": [
           {
            "colorbar": {
             "outlinewidth": 0,
             "ticks": ""
            },
            "type": "contourcarpet"
           }
          ],
          "heatmap": [
           {
            "colorbar": {
             "outlinewidth": 0,
             "ticks": ""
            },
            "colorscale": [
             [
              0,
              "#0d0887"
             ],
             [
              0.1111111111111111,
              "#46039f"
             ],
             [
              0.2222222222222222,
              "#7201a8"
             ],
             [
              0.3333333333333333,
              "#9c179e"
             ],
             [
              0.4444444444444444,
              "#bd3786"
             ],
             [
              0.5555555555555556,
              "#d8576b"
             ],
             [
              0.6666666666666666,
              "#ed7953"
             ],
             [
              0.7777777777777778,
              "#fb9f3a"
             ],
             [
              0.8888888888888888,
              "#fdca26"
             ],
             [
              1,
              "#f0f921"
             ]
            ],
            "type": "heatmap"
           }
          ],
          "heatmapgl": [
           {
            "colorbar": {
             "outlinewidth": 0,
             "ticks": ""
            },
            "colorscale": [
             [
              0,
              "#0d0887"
             ],
             [
              0.1111111111111111,
              "#46039f"
             ],
             [
              0.2222222222222222,
              "#7201a8"
             ],
             [
              0.3333333333333333,
              "#9c179e"
             ],
             [
              0.4444444444444444,
              "#bd3786"
             ],
             [
              0.5555555555555556,
              "#d8576b"
             ],
             [
              0.6666666666666666,
              "#ed7953"
             ],
             [
              0.7777777777777778,
              "#fb9f3a"
             ],
             [
              0.8888888888888888,
              "#fdca26"
             ],
             [
              1,
              "#f0f921"
             ]
            ],
            "type": "heatmapgl"
           }
          ],
          "histogram": [
           {
            "marker": {
             "pattern": {
              "fillmode": "overlay",
              "size": 10,
              "solidity": 0.2
             }
            },
            "type": "histogram"
           }
          ],
          "histogram2d": [
           {
            "colorbar": {
             "outlinewidth": 0,
             "ticks": ""
            },
            "colorscale": [
             [
              0,
              "#0d0887"
             ],
             [
              0.1111111111111111,
              "#46039f"
             ],
             [
              0.2222222222222222,
              "#7201a8"
             ],
             [
              0.3333333333333333,
              "#9c179e"
             ],
             [
              0.4444444444444444,
              "#bd3786"
             ],
             [
              0.5555555555555556,
              "#d8576b"
             ],
             [
              0.6666666666666666,
              "#ed7953"
             ],
             [
              0.7777777777777778,
              "#fb9f3a"
             ],
             [
              0.8888888888888888,
              "#fdca26"
             ],
             [
              1,
              "#f0f921"
             ]
            ],
            "type": "histogram2d"
           }
          ],
          "histogram2dcontour": [
           {
            "colorbar": {
             "outlinewidth": 0,
             "ticks": ""
            },
            "colorscale": [
             [
              0,
              "#0d0887"
             ],
             [
              0.1111111111111111,
              "#46039f"
             ],
             [
              0.2222222222222222,
              "#7201a8"
             ],
             [
              0.3333333333333333,
              "#9c179e"
             ],
             [
              0.4444444444444444,
              "#bd3786"
             ],
             [
              0.5555555555555556,
              "#d8576b"
             ],
             [
              0.6666666666666666,
              "#ed7953"
             ],
             [
              0.7777777777777778,
              "#fb9f3a"
             ],
             [
              0.8888888888888888,
              "#fdca26"
             ],
             [
              1,
              "#f0f921"
             ]
            ],
            "type": "histogram2dcontour"
           }
          ],
          "mesh3d": [
           {
            "colorbar": {
             "outlinewidth": 0,
             "ticks": ""
            },
            "type": "mesh3d"
           }
          ],
          "parcoords": [
           {
            "line": {
             "colorbar": {
              "outlinewidth": 0,
              "ticks": ""
             }
            },
            "type": "parcoords"
           }
          ],
          "pie": [
           {
            "automargin": true,
            "type": "pie"
           }
          ],
          "scatter": [
           {
            "fillpattern": {
             "fillmode": "overlay",
             "size": 10,
             "solidity": 0.2
            },
            "type": "scatter"
           }
          ],
          "scatter3d": [
           {
            "line": {
             "colorbar": {
              "outlinewidth": 0,
              "ticks": ""
             }
            },
            "marker": {
             "colorbar": {
              "outlinewidth": 0,
              "ticks": ""
             }
            },
            "type": "scatter3d"
           }
          ],
          "scattercarpet": [
           {
            "marker": {
             "colorbar": {
              "outlinewidth": 0,
              "ticks": ""
             }
            },
            "type": "scattercarpet"
           }
          ],
          "scattergeo": [
           {
            "marker": {
             "colorbar": {
              "outlinewidth": 0,
              "ticks": ""
             }
            },
            "type": "scattergeo"
           }
          ],
          "scattergl": [
           {
            "marker": {
             "colorbar": {
              "outlinewidth": 0,
              "ticks": ""
             }
            },
            "type": "scattergl"
           }
          ],
          "scattermapbox": [
           {
            "marker": {
             "colorbar": {
              "outlinewidth": 0,
              "ticks": ""
             }
            },
            "type": "scattermapbox"
           }
          ],
          "scatterpolar": [
           {
            "marker": {
             "colorbar": {
              "outlinewidth": 0,
              "ticks": ""
             }
            },
            "type": "scatterpolar"
           }
          ],
          "scatterpolargl": [
           {
            "marker": {
             "colorbar": {
              "outlinewidth": 0,
              "ticks": ""
             }
            },
            "type": "scatterpolargl"
           }
          ],
          "scatterternary": [
           {
            "marker": {
             "colorbar": {
              "outlinewidth": 0,
              "ticks": ""
             }
            },
            "type": "scatterternary"
           }
          ],
          "surface": [
           {
            "colorbar": {
             "outlinewidth": 0,
             "ticks": ""
            },
            "colorscale": [
             [
              0,
              "#0d0887"
             ],
             [
              0.1111111111111111,
              "#46039f"
             ],
             [
              0.2222222222222222,
              "#7201a8"
             ],
             [
              0.3333333333333333,
              "#9c179e"
             ],
             [
              0.4444444444444444,
              "#bd3786"
             ],
             [
              0.5555555555555556,
              "#d8576b"
             ],
             [
              0.6666666666666666,
              "#ed7953"
             ],
             [
              0.7777777777777778,
              "#fb9f3a"
             ],
             [
              0.8888888888888888,
              "#fdca26"
             ],
             [
              1,
              "#f0f921"
             ]
            ],
            "type": "surface"
           }
          ],
          "table": [
           {
            "cells": {
             "fill": {
              "color": "#EBF0F8"
             },
             "line": {
              "color": "white"
             }
            },
            "header": {
             "fill": {
              "color": "#C8D4E3"
             },
             "line": {
              "color": "white"
             }
            },
            "type": "table"
           }
          ]
         },
         "layout": {
          "annotationdefaults": {
           "arrowcolor": "#2a3f5f",
           "arrowhead": 0,
           "arrowwidth": 1
          },
          "autotypenumbers": "strict",
          "coloraxis": {
           "colorbar": {
            "outlinewidth": 0,
            "ticks": ""
           }
          },
          "colorscale": {
           "diverging": [
            [
             0,
             "#8e0152"
            ],
            [
             0.1,
             "#c51b7d"
            ],
            [
             0.2,
             "#de77ae"
            ],
            [
             0.3,
             "#f1b6da"
            ],
            [
             0.4,
             "#fde0ef"
            ],
            [
             0.5,
             "#f7f7f7"
            ],
            [
             0.6,
             "#e6f5d0"
            ],
            [
             0.7,
             "#b8e186"
            ],
            [
             0.8,
             "#7fbc41"
            ],
            [
             0.9,
             "#4d9221"
            ],
            [
             1,
             "#276419"
            ]
           ],
           "sequential": [
            [
             0,
             "#0d0887"
            ],
            [
             0.1111111111111111,
             "#46039f"
            ],
            [
             0.2222222222222222,
             "#7201a8"
            ],
            [
             0.3333333333333333,
             "#9c179e"
            ],
            [
             0.4444444444444444,
             "#bd3786"
            ],
            [
             0.5555555555555556,
             "#d8576b"
            ],
            [
             0.6666666666666666,
             "#ed7953"
            ],
            [
             0.7777777777777778,
             "#fb9f3a"
            ],
            [
             0.8888888888888888,
             "#fdca26"
            ],
            [
             1,
             "#f0f921"
            ]
           ],
           "sequentialminus": [
            [
             0,
             "#0d0887"
            ],
            [
             0.1111111111111111,
             "#46039f"
            ],
            [
             0.2222222222222222,
             "#7201a8"
            ],
            [
             0.3333333333333333,
             "#9c179e"
            ],
            [
             0.4444444444444444,
             "#bd3786"
            ],
            [
             0.5555555555555556,
             "#d8576b"
            ],
            [
             0.6666666666666666,
             "#ed7953"
            ],
            [
             0.7777777777777778,
             "#fb9f3a"
            ],
            [
             0.8888888888888888,
             "#fdca26"
            ],
            [
             1,
             "#f0f921"
            ]
           ]
          },
          "colorway": [
           "#636efa",
           "#EF553B",
           "#00cc96",
           "#ab63fa",
           "#FFA15A",
           "#19d3f3",
           "#FF6692",
           "#B6E880",
           "#FF97FF",
           "#FECB52"
          ],
          "font": {
           "color": "#2a3f5f"
          },
          "geo": {
           "bgcolor": "white",
           "lakecolor": "white",
           "landcolor": "#E5ECF6",
           "showlakes": true,
           "showland": true,
           "subunitcolor": "white"
          },
          "hoverlabel": {
           "align": "left"
          },
          "hovermode": "closest",
          "mapbox": {
           "style": "light"
          },
          "paper_bgcolor": "white",
          "plot_bgcolor": "#E5ECF6",
          "polar": {
           "angularaxis": {
            "gridcolor": "white",
            "linecolor": "white",
            "ticks": ""
           },
           "bgcolor": "#E5ECF6",
           "radialaxis": {
            "gridcolor": "white",
            "linecolor": "white",
            "ticks": ""
           }
          },
          "scene": {
           "xaxis": {
            "backgroundcolor": "#E5ECF6",
            "gridcolor": "white",
            "gridwidth": 2,
            "linecolor": "white",
            "showbackground": true,
            "ticks": "",
            "zerolinecolor": "white"
           },
           "yaxis": {
            "backgroundcolor": "#E5ECF6",
            "gridcolor": "white",
            "gridwidth": 2,
            "linecolor": "white",
            "showbackground": true,
            "ticks": "",
            "zerolinecolor": "white"
           },
           "zaxis": {
            "backgroundcolor": "#E5ECF6",
            "gridcolor": "white",
            "gridwidth": 2,
            "linecolor": "white",
            "showbackground": true,
            "ticks": "",
            "zerolinecolor": "white"
           }
          },
          "shapedefaults": {
           "line": {
            "color": "#2a3f5f"
           }
          },
          "ternary": {
           "aaxis": {
            "gridcolor": "white",
            "linecolor": "white",
            "ticks": ""
           },
           "baxis": {
            "gridcolor": "white",
            "linecolor": "white",
            "ticks": ""
           },
           "bgcolor": "#E5ECF6",
           "caxis": {
            "gridcolor": "white",
            "linecolor": "white",
            "ticks": ""
           }
          },
          "title": {
           "x": 0.05
          },
          "xaxis": {
           "automargin": true,
           "gridcolor": "white",
           "linecolor": "white",
           "ticks": "",
           "title": {
            "standoff": 15
           },
           "zerolinecolor": "white",
           "zerolinewidth": 2
          },
          "yaxis": {
           "automargin": true,
           "gridcolor": "white",
           "linecolor": "white",
           "ticks": "",
           "title": {
            "standoff": 15
           },
           "zerolinecolor": "white",
           "zerolinewidth": 2
          }
         }
        },
        "xaxis": {
         "anchor": "y",
         "domain": [
          0,
          1
         ],
         "title": {
          "text": "date_dt"
         }
        },
        "yaxis": {
         "anchor": "x",
         "domain": [
          0,
          1
         ],
         "title": {
          "text": "count"
         }
        }
       }
      }
     },
     "metadata": {},
     "output_type": "display_data"
    }
   ],
   "source": [
    "px.line(df.groupby(by=[df['date_dt'].dt.year, df['platform']]).size().to_frame().reset_index().rename(columns={0:'count'}), x='date_dt', y='count', color='platform')"
   ]
  },
  {
   "cell_type": "code",
   "execution_count": 90,
   "metadata": {},
   "outputs": [
    {
     "data": {
      "text/html": [
       "<div>\n",
       "<style scoped>\n",
       "    .dataframe tbody tr th:only-of-type {\n",
       "        vertical-align: middle;\n",
       "    }\n",
       "\n",
       "    .dataframe tbody tr th {\n",
       "        vertical-align: top;\n",
       "    }\n",
       "\n",
       "    .dataframe thead th {\n",
       "        text-align: right;\n",
       "    }\n",
       "</style>\n",
       "<table border=\"1\" class=\"dataframe\">\n",
       "  <thead>\n",
       "    <tr style=\"text-align: right;\">\n",
       "      <th></th>\n",
       "      <th>meta_score</th>\n",
       "      <th>title</th>\n",
       "      <th>platform</th>\n",
       "      <th>date</th>\n",
       "      <th>user_score</th>\n",
       "      <th>link</th>\n",
       "      <th>esrb_rating</th>\n",
       "      <th>developers</th>\n",
       "      <th>genres</th>\n",
       "      <th>date_dt</th>\n",
       "    </tr>\n",
       "  </thead>\n",
       "  <tbody>\n",
       "    <tr>\n",
       "      <th>204</th>\n",
       "      <td>77.0</td>\n",
       "      <td>Vanquish</td>\n",
       "      <td>PS4</td>\n",
       "      <td>Feb 18, 2020</td>\n",
       "      <td>9.6</td>\n",
       "      <td>/game/playstation-4/vanquish</td>\n",
       "      <td>M</td>\n",
       "      <td>['PlatinumGames']</td>\n",
       "      <td>['Action', 'Shooter', 'Third-Person', 'Arcade']</td>\n",
       "      <td>2020-02-18</td>\n",
       "    </tr>\n",
       "    <tr>\n",
       "      <th>206</th>\n",
       "      <td>NaN</td>\n",
       "      <td>Vanquish</td>\n",
       "      <td>XONE</td>\n",
       "      <td>Feb 18, 2020</td>\n",
       "      <td>9.5</td>\n",
       "      <td>/game/xbox-one/vanquish</td>\n",
       "      <td>M</td>\n",
       "      <td>['Sega']</td>\n",
       "      <td>['Action', 'Shooter', 'Third-Person', 'Arcade']</td>\n",
       "      <td>2020-02-18</td>\n",
       "    </tr>\n",
       "    <tr>\n",
       "      <th>389</th>\n",
       "      <td>78.0</td>\n",
       "      <td>Vanquish</td>\n",
       "      <td>PC</td>\n",
       "      <td>May 25, 2017</td>\n",
       "      <td>9.0</td>\n",
       "      <td>/game/pc/vanquish</td>\n",
       "      <td>M</td>\n",
       "      <td>['PlatinumGames']</td>\n",
       "      <td>['Action', 'Shooter', 'Third-Person', 'Arcade']</td>\n",
       "      <td>2017-05-25</td>\n",
       "    </tr>\n",
       "    <tr>\n",
       "      <th>843</th>\n",
       "      <td>84.0</td>\n",
       "      <td>Vanquish</td>\n",
       "      <td>PS3</td>\n",
       "      <td>Oct 19, 2010</td>\n",
       "      <td>9.5</td>\n",
       "      <td>/game/playstation-3/vanquish</td>\n",
       "      <td>M</td>\n",
       "      <td>['PlatinumGames']</td>\n",
       "      <td>['Action', 'Shooter', 'Shooter', 'Third-Person...</td>\n",
       "      <td>2010-10-19</td>\n",
       "    </tr>\n",
       "    <tr>\n",
       "      <th>844</th>\n",
       "      <td>84.0</td>\n",
       "      <td>Vanquish</td>\n",
       "      <td>X360</td>\n",
       "      <td>Oct 19, 2010</td>\n",
       "      <td>9.6</td>\n",
       "      <td>/game/xbox-360/vanquish</td>\n",
       "      <td>M</td>\n",
       "      <td>['PlatinumGames']</td>\n",
       "      <td>['Action', 'Shooter', 'Shooter', 'Third-Person...</td>\n",
       "      <td>2010-10-19</td>\n",
       "    </tr>\n",
       "  </tbody>\n",
       "</table>\n",
       "</div>"
      ],
      "text/plain": [
       "     meta_score     title platform          date  user_score  \\\n",
       "204        77.0  Vanquish      PS4  Feb 18, 2020         9.6   \n",
       "206         NaN  Vanquish     XONE  Feb 18, 2020         9.5   \n",
       "389        78.0  Vanquish       PC  May 25, 2017         9.0   \n",
       "843        84.0  Vanquish      PS3  Oct 19, 2010         9.5   \n",
       "844        84.0  Vanquish     X360  Oct 19, 2010         9.6   \n",
       "\n",
       "                             link esrb_rating         developers  \\\n",
       "204  /game/playstation-4/vanquish           M  ['PlatinumGames']   \n",
       "206       /game/xbox-one/vanquish           M           ['Sega']   \n",
       "389             /game/pc/vanquish           M  ['PlatinumGames']   \n",
       "843  /game/playstation-3/vanquish           M  ['PlatinumGames']   \n",
       "844       /game/xbox-360/vanquish           M  ['PlatinumGames']   \n",
       "\n",
       "                                                genres    date_dt  \n",
       "204    ['Action', 'Shooter', 'Third-Person', 'Arcade'] 2020-02-18  \n",
       "206    ['Action', 'Shooter', 'Third-Person', 'Arcade'] 2020-02-18  \n",
       "389    ['Action', 'Shooter', 'Third-Person', 'Arcade'] 2017-05-25  \n",
       "843  ['Action', 'Shooter', 'Shooter', 'Third-Person... 2010-10-19  \n",
       "844  ['Action', 'Shooter', 'Shooter', 'Third-Person... 2010-10-19  "
      ]
     },
     "execution_count": 90,
     "metadata": {},
     "output_type": "execute_result"
    }
   ],
   "source": [
    "df[df['title'] == 'Vanquish']"
   ]
  },
  {
   "cell_type": "code",
   "execution_count": 91,
   "metadata": {},
   "outputs": [
    {
     "data": {
      "application/vnd.plotly.v1+json": {
       "config": {
        "plotlyServerURL": "https://plot.ly"
       },
       "data": [
        {
         "alignmentgroup": "True",
         "hovertemplate": "platform=PS4<br>title=%{x}<br>user_score=%{y}<extra></extra>",
         "legendgroup": "PS4",
         "marker": {
          "color": "#636efa",
          "pattern": {
           "shape": ""
          }
         },
         "name": "PS4",
         "offsetgroup": "PS4",
         "orientation": "v",
         "showlegend": true,
         "textposition": "auto",
         "type": "bar",
         "x": [
          "Vanquish",
          "Bayonetta & Vanquish"
         ],
         "xaxis": "x",
         "y": [
          9.6,
          9.5
         ],
         "yaxis": "y"
        },
        {
         "alignmentgroup": "True",
         "hovertemplate": "platform=X360<br>title=%{x}<br>user_score=%{y}<extra></extra>",
         "legendgroup": "X360",
         "marker": {
          "color": "#EF553B",
          "pattern": {
           "shape": ""
          }
         },
         "name": "X360",
         "offsetgroup": "X360",
         "orientation": "v",
         "showlegend": true,
         "textposition": "auto",
         "type": "bar",
         "x": [
          "Vanquish",
          "Sonic the Hedgehog 3"
         ],
         "xaxis": "x",
         "y": [
          9.6,
          8.8
         ],
         "yaxis": "y"
        },
        {
         "alignmentgroup": "True",
         "hovertemplate": "platform=XONE<br>title=%{x}<br>user_score=%{y}<extra></extra>",
         "legendgroup": "XONE",
         "marker": {
          "color": "#00cc96",
          "pattern": {
           "shape": ""
          }
         },
         "name": "XONE",
         "offsetgroup": "XONE",
         "orientation": "v",
         "showlegend": true,
         "textposition": "auto",
         "type": "bar",
         "x": [
          "Bayonetta & Vanquish",
          "Vanquish",
          "Persona 4 Golden",
          "Like a Dragon: Ishin!"
         ],
         "xaxis": "x",
         "y": [
          9.5,
          9.5,
          9.4,
          8.9
         ],
         "yaxis": "y"
        },
        {
         "alignmentgroup": "True",
         "hovertemplate": "platform=PS3<br>title=%{x}<br>user_score=%{y}<extra></extra>",
         "legendgroup": "PS3",
         "marker": {
          "color": "#ab63fa",
          "pattern": {
           "shape": ""
          }
         },
         "name": "PS3",
         "offsetgroup": "PS3",
         "orientation": "v",
         "showlegend": true,
         "textposition": "auto",
         "type": "bar",
         "x": [
          "Vanquish"
         ],
         "xaxis": "x",
         "y": [
          9.5
         ],
         "yaxis": "y"
        },
        {
         "alignmentgroup": "True",
         "hovertemplate": "platform=PC<br>title=%{x}<br>user_score=%{y}<extra></extra>",
         "legendgroup": "PC",
         "marker": {
          "color": "#FFA15A",
          "pattern": {
           "shape": ""
          }
         },
         "name": "PC",
         "offsetgroup": "PC",
         "orientation": "v",
         "showlegend": true,
         "textposition": "auto",
         "type": "bar",
         "x": [
          "Vanquish",
          "Persona 4 Golden",
          "Medieval II: Total War",
          "Streets of Rage 2",
          "Medieval II: Total War Kingdoms",
          "Puyo Puyo Tetris 2",
          "Sonic 3 & Knuckles"
         ],
         "xaxis": "x",
         "y": [
          9,
          8.9,
          8.9,
          8.9,
          8.8,
          8.8,
          8.8
         ],
         "yaxis": "y"
        },
        {
         "alignmentgroup": "True",
         "hovertemplate": "platform=Switch<br>title=%{x}<br>user_score=%{y}<extra></extra>",
         "legendgroup": "Switch",
         "marker": {
          "color": "#19d3f3",
          "pattern": {
           "shape": ""
          }
         },
         "name": "Switch",
         "offsetgroup": "Switch",
         "orientation": "v",
         "showlegend": true,
         "textposition": "auto",
         "type": "bar",
         "x": [
          "13 Sentinels: Aegis Rim"
         ],
         "xaxis": "x",
         "y": [
          8.9
         ],
         "yaxis": "y"
        },
        {
         "alignmentgroup": "True",
         "hovertemplate": "platform=VITA<br>title=%{x}<br>user_score=%{y}<extra></extra>",
         "legendgroup": "VITA",
         "marker": {
          "color": "#FF6692",
          "pattern": {
           "shape": ""
          }
         },
         "name": "VITA",
         "offsetgroup": "VITA",
         "orientation": "v",
         "showlegend": true,
         "textposition": "auto",
         "type": "bar",
         "x": [
          "Utawarerumono: Mask of Deception"
         ],
         "xaxis": "x",
         "y": [
          8.9
         ],
         "yaxis": "y"
        },
        {
         "alignmentgroup": "True",
         "hovertemplate": "platform=DC<br>title=%{x}<br>user_score=%{y}<extra></extra>",
         "legendgroup": "DC",
         "marker": {
          "color": "#B6E880",
          "pattern": {
           "shape": ""
          }
         },
         "name": "DC",
         "offsetgroup": "DC",
         "orientation": "v",
         "showlegend": true,
         "textposition": "auto",
         "type": "bar",
         "x": [
          "Skies of Arcadia"
         ],
         "xaxis": "x",
         "y": [
          8.9
         ],
         "yaxis": "y"
        },
        {
         "alignmentgroup": "True",
         "hovertemplate": "platform=WII<br>title=%{x}<br>user_score=%{y}<extra></extra>",
         "legendgroup": "WII",
         "marker": {
          "color": "#FF97FF",
          "pattern": {
           "shape": ""
          }
         },
         "name": "WII",
         "offsetgroup": "WII",
         "orientation": "v",
         "showlegend": true,
         "textposition": "auto",
         "type": "bar",
         "x": [
          "The Revenge of Shinobi"
         ],
         "xaxis": "x",
         "y": [
          8.8
         ],
         "yaxis": "y"
        }
       ],
       "layout": {
        "barmode": "relative",
        "legend": {
         "title": {
          "text": "platform"
         },
         "tracegroupgap": 0
        },
        "margin": {
         "t": 60
        },
        "template": {
         "data": {
          "bar": [
           {
            "error_x": {
             "color": "#2a3f5f"
            },
            "error_y": {
             "color": "#2a3f5f"
            },
            "marker": {
             "line": {
              "color": "#E5ECF6",
              "width": 0.5
             },
             "pattern": {
              "fillmode": "overlay",
              "size": 10,
              "solidity": 0.2
             }
            },
            "type": "bar"
           }
          ],
          "barpolar": [
           {
            "marker": {
             "line": {
              "color": "#E5ECF6",
              "width": 0.5
             },
             "pattern": {
              "fillmode": "overlay",
              "size": 10,
              "solidity": 0.2
             }
            },
            "type": "barpolar"
           }
          ],
          "carpet": [
           {
            "aaxis": {
             "endlinecolor": "#2a3f5f",
             "gridcolor": "white",
             "linecolor": "white",
             "minorgridcolor": "white",
             "startlinecolor": "#2a3f5f"
            },
            "baxis": {
             "endlinecolor": "#2a3f5f",
             "gridcolor": "white",
             "linecolor": "white",
             "minorgridcolor": "white",
             "startlinecolor": "#2a3f5f"
            },
            "type": "carpet"
           }
          ],
          "choropleth": [
           {
            "colorbar": {
             "outlinewidth": 0,
             "ticks": ""
            },
            "type": "choropleth"
           }
          ],
          "contour": [
           {
            "colorbar": {
             "outlinewidth": 0,
             "ticks": ""
            },
            "colorscale": [
             [
              0,
              "#0d0887"
             ],
             [
              0.1111111111111111,
              "#46039f"
             ],
             [
              0.2222222222222222,
              "#7201a8"
             ],
             [
              0.3333333333333333,
              "#9c179e"
             ],
             [
              0.4444444444444444,
              "#bd3786"
             ],
             [
              0.5555555555555556,
              "#d8576b"
             ],
             [
              0.6666666666666666,
              "#ed7953"
             ],
             [
              0.7777777777777778,
              "#fb9f3a"
             ],
             [
              0.8888888888888888,
              "#fdca26"
             ],
             [
              1,
              "#f0f921"
             ]
            ],
            "type": "contour"
           }
          ],
          "contourcarpet": [
           {
            "colorbar": {
             "outlinewidth": 0,
             "ticks": ""
            },
            "type": "contourcarpet"
           }
          ],
          "heatmap": [
           {
            "colorbar": {
             "outlinewidth": 0,
             "ticks": ""
            },
            "colorscale": [
             [
              0,
              "#0d0887"
             ],
             [
              0.1111111111111111,
              "#46039f"
             ],
             [
              0.2222222222222222,
              "#7201a8"
             ],
             [
              0.3333333333333333,
              "#9c179e"
             ],
             [
              0.4444444444444444,
              "#bd3786"
             ],
             [
              0.5555555555555556,
              "#d8576b"
             ],
             [
              0.6666666666666666,
              "#ed7953"
             ],
             [
              0.7777777777777778,
              "#fb9f3a"
             ],
             [
              0.8888888888888888,
              "#fdca26"
             ],
             [
              1,
              "#f0f921"
             ]
            ],
            "type": "heatmap"
           }
          ],
          "heatmapgl": [
           {
            "colorbar": {
             "outlinewidth": 0,
             "ticks": ""
            },
            "colorscale": [
             [
              0,
              "#0d0887"
             ],
             [
              0.1111111111111111,
              "#46039f"
             ],
             [
              0.2222222222222222,
              "#7201a8"
             ],
             [
              0.3333333333333333,
              "#9c179e"
             ],
             [
              0.4444444444444444,
              "#bd3786"
             ],
             [
              0.5555555555555556,
              "#d8576b"
             ],
             [
              0.6666666666666666,
              "#ed7953"
             ],
             [
              0.7777777777777778,
              "#fb9f3a"
             ],
             [
              0.8888888888888888,
              "#fdca26"
             ],
             [
              1,
              "#f0f921"
             ]
            ],
            "type": "heatmapgl"
           }
          ],
          "histogram": [
           {
            "marker": {
             "pattern": {
              "fillmode": "overlay",
              "size": 10,
              "solidity": 0.2
             }
            },
            "type": "histogram"
           }
          ],
          "histogram2d": [
           {
            "colorbar": {
             "outlinewidth": 0,
             "ticks": ""
            },
            "colorscale": [
             [
              0,
              "#0d0887"
             ],
             [
              0.1111111111111111,
              "#46039f"
             ],
             [
              0.2222222222222222,
              "#7201a8"
             ],
             [
              0.3333333333333333,
              "#9c179e"
             ],
             [
              0.4444444444444444,
              "#bd3786"
             ],
             [
              0.5555555555555556,
              "#d8576b"
             ],
             [
              0.6666666666666666,
              "#ed7953"
             ],
             [
              0.7777777777777778,
              "#fb9f3a"
             ],
             [
              0.8888888888888888,
              "#fdca26"
             ],
             [
              1,
              "#f0f921"
             ]
            ],
            "type": "histogram2d"
           }
          ],
          "histogram2dcontour": [
           {
            "colorbar": {
             "outlinewidth": 0,
             "ticks": ""
            },
            "colorscale": [
             [
              0,
              "#0d0887"
             ],
             [
              0.1111111111111111,
              "#46039f"
             ],
             [
              0.2222222222222222,
              "#7201a8"
             ],
             [
              0.3333333333333333,
              "#9c179e"
             ],
             [
              0.4444444444444444,
              "#bd3786"
             ],
             [
              0.5555555555555556,
              "#d8576b"
             ],
             [
              0.6666666666666666,
              "#ed7953"
             ],
             [
              0.7777777777777778,
              "#fb9f3a"
             ],
             [
              0.8888888888888888,
              "#fdca26"
             ],
             [
              1,
              "#f0f921"
             ]
            ],
            "type": "histogram2dcontour"
           }
          ],
          "mesh3d": [
           {
            "colorbar": {
             "outlinewidth": 0,
             "ticks": ""
            },
            "type": "mesh3d"
           }
          ],
          "parcoords": [
           {
            "line": {
             "colorbar": {
              "outlinewidth": 0,
              "ticks": ""
             }
            },
            "type": "parcoords"
           }
          ],
          "pie": [
           {
            "automargin": true,
            "type": "pie"
           }
          ],
          "scatter": [
           {
            "fillpattern": {
             "fillmode": "overlay",
             "size": 10,
             "solidity": 0.2
            },
            "type": "scatter"
           }
          ],
          "scatter3d": [
           {
            "line": {
             "colorbar": {
              "outlinewidth": 0,
              "ticks": ""
             }
            },
            "marker": {
             "colorbar": {
              "outlinewidth": 0,
              "ticks": ""
             }
            },
            "type": "scatter3d"
           }
          ],
          "scattercarpet": [
           {
            "marker": {
             "colorbar": {
              "outlinewidth": 0,
              "ticks": ""
             }
            },
            "type": "scattercarpet"
           }
          ],
          "scattergeo": [
           {
            "marker": {
             "colorbar": {
              "outlinewidth": 0,
              "ticks": ""
             }
            },
            "type": "scattergeo"
           }
          ],
          "scattergl": [
           {
            "marker": {
             "colorbar": {
              "outlinewidth": 0,
              "ticks": ""
             }
            },
            "type": "scattergl"
           }
          ],
          "scattermapbox": [
           {
            "marker": {
             "colorbar": {
              "outlinewidth": 0,
              "ticks": ""
             }
            },
            "type": "scattermapbox"
           }
          ],
          "scatterpolar": [
           {
            "marker": {
             "colorbar": {
              "outlinewidth": 0,
              "ticks": ""
             }
            },
            "type": "scatterpolar"
           }
          ],
          "scatterpolargl": [
           {
            "marker": {
             "colorbar": {
              "outlinewidth": 0,
              "ticks": ""
             }
            },
            "type": "scatterpolargl"
           }
          ],
          "scatterternary": [
           {
            "marker": {
             "colorbar": {
              "outlinewidth": 0,
              "ticks": ""
             }
            },
            "type": "scatterternary"
           }
          ],
          "surface": [
           {
            "colorbar": {
             "outlinewidth": 0,
             "ticks": ""
            },
            "colorscale": [
             [
              0,
              "#0d0887"
             ],
             [
              0.1111111111111111,
              "#46039f"
             ],
             [
              0.2222222222222222,
              "#7201a8"
             ],
             [
              0.3333333333333333,
              "#9c179e"
             ],
             [
              0.4444444444444444,
              "#bd3786"
             ],
             [
              0.5555555555555556,
              "#d8576b"
             ],
             [
              0.6666666666666666,
              "#ed7953"
             ],
             [
              0.7777777777777778,
              "#fb9f3a"
             ],
             [
              0.8888888888888888,
              "#fdca26"
             ],
             [
              1,
              "#f0f921"
             ]
            ],
            "type": "surface"
           }
          ],
          "table": [
           {
            "cells": {
             "fill": {
              "color": "#EBF0F8"
             },
             "line": {
              "color": "white"
             }
            },
            "header": {
             "fill": {
              "color": "#C8D4E3"
             },
             "line": {
              "color": "white"
             }
            },
            "type": "table"
           }
          ]
         },
         "layout": {
          "annotationdefaults": {
           "arrowcolor": "#2a3f5f",
           "arrowhead": 0,
           "arrowwidth": 1
          },
          "autotypenumbers": "strict",
          "coloraxis": {
           "colorbar": {
            "outlinewidth": 0,
            "ticks": ""
           }
          },
          "colorscale": {
           "diverging": [
            [
             0,
             "#8e0152"
            ],
            [
             0.1,
             "#c51b7d"
            ],
            [
             0.2,
             "#de77ae"
            ],
            [
             0.3,
             "#f1b6da"
            ],
            [
             0.4,
             "#fde0ef"
            ],
            [
             0.5,
             "#f7f7f7"
            ],
            [
             0.6,
             "#e6f5d0"
            ],
            [
             0.7,
             "#b8e186"
            ],
            [
             0.8,
             "#7fbc41"
            ],
            [
             0.9,
             "#4d9221"
            ],
            [
             1,
             "#276419"
            ]
           ],
           "sequential": [
            [
             0,
             "#0d0887"
            ],
            [
             0.1111111111111111,
             "#46039f"
            ],
            [
             0.2222222222222222,
             "#7201a8"
            ],
            [
             0.3333333333333333,
             "#9c179e"
            ],
            [
             0.4444444444444444,
             "#bd3786"
            ],
            [
             0.5555555555555556,
             "#d8576b"
            ],
            [
             0.6666666666666666,
             "#ed7953"
            ],
            [
             0.7777777777777778,
             "#fb9f3a"
            ],
            [
             0.8888888888888888,
             "#fdca26"
            ],
            [
             1,
             "#f0f921"
            ]
           ],
           "sequentialminus": [
            [
             0,
             "#0d0887"
            ],
            [
             0.1111111111111111,
             "#46039f"
            ],
            [
             0.2222222222222222,
             "#7201a8"
            ],
            [
             0.3333333333333333,
             "#9c179e"
            ],
            [
             0.4444444444444444,
             "#bd3786"
            ],
            [
             0.5555555555555556,
             "#d8576b"
            ],
            [
             0.6666666666666666,
             "#ed7953"
            ],
            [
             0.7777777777777778,
             "#fb9f3a"
            ],
            [
             0.8888888888888888,
             "#fdca26"
            ],
            [
             1,
             "#f0f921"
            ]
           ]
          },
          "colorway": [
           "#636efa",
           "#EF553B",
           "#00cc96",
           "#ab63fa",
           "#FFA15A",
           "#19d3f3",
           "#FF6692",
           "#B6E880",
           "#FF97FF",
           "#FECB52"
          ],
          "font": {
           "color": "#2a3f5f"
          },
          "geo": {
           "bgcolor": "white",
           "lakecolor": "white",
           "landcolor": "#E5ECF6",
           "showlakes": true,
           "showland": true,
           "subunitcolor": "white"
          },
          "hoverlabel": {
           "align": "left"
          },
          "hovermode": "closest",
          "mapbox": {
           "style": "light"
          },
          "paper_bgcolor": "white",
          "plot_bgcolor": "#E5ECF6",
          "polar": {
           "angularaxis": {
            "gridcolor": "white",
            "linecolor": "white",
            "ticks": ""
           },
           "bgcolor": "#E5ECF6",
           "radialaxis": {
            "gridcolor": "white",
            "linecolor": "white",
            "ticks": ""
           }
          },
          "scene": {
           "xaxis": {
            "backgroundcolor": "#E5ECF6",
            "gridcolor": "white",
            "gridwidth": 2,
            "linecolor": "white",
            "showbackground": true,
            "ticks": "",
            "zerolinecolor": "white"
           },
           "yaxis": {
            "backgroundcolor": "#E5ECF6",
            "gridcolor": "white",
            "gridwidth": 2,
            "linecolor": "white",
            "showbackground": true,
            "ticks": "",
            "zerolinecolor": "white"
           },
           "zaxis": {
            "backgroundcolor": "#E5ECF6",
            "gridcolor": "white",
            "gridwidth": 2,
            "linecolor": "white",
            "showbackground": true,
            "ticks": "",
            "zerolinecolor": "white"
           }
          },
          "shapedefaults": {
           "line": {
            "color": "#2a3f5f"
           }
          },
          "ternary": {
           "aaxis": {
            "gridcolor": "white",
            "linecolor": "white",
            "ticks": ""
           },
           "baxis": {
            "gridcolor": "white",
            "linecolor": "white",
            "ticks": ""
           },
           "bgcolor": "#E5ECF6",
           "caxis": {
            "gridcolor": "white",
            "linecolor": "white",
            "ticks": ""
           }
          },
          "title": {
           "x": 0.05
          },
          "xaxis": {
           "automargin": true,
           "gridcolor": "white",
           "linecolor": "white",
           "ticks": "",
           "title": {
            "standoff": 15
           },
           "zerolinecolor": "white",
           "zerolinewidth": 2
          },
          "yaxis": {
           "automargin": true,
           "gridcolor": "white",
           "linecolor": "white",
           "ticks": "",
           "title": {
            "standoff": 15
           },
           "zerolinecolor": "white",
           "zerolinewidth": 2
          }
         }
        },
        "xaxis": {
         "anchor": "y",
         "domain": [
          0,
          1
         ],
         "title": {
          "text": "title"
         }
        },
        "yaxis": {
         "anchor": "x",
         "domain": [
          0,
          1
         ],
         "title": {
          "text": "user_score"
         }
        }
       }
      }
     },
     "metadata": {},
     "output_type": "display_data"
    }
   ],
   "source": [
    "px.bar(df.sort_values(by='user_score', ascending=False)[:20], x='title', y='user_score', color='platform')"
   ]
  },
  {
   "cell_type": "code",
   "execution_count": 112,
   "metadata": {},
   "outputs": [],
   "source": [
    "import ast\n",
    "df['genres_array'] = df['genres'].apply(lambda s: ast.literal_eval(f'{s}'.replace('nan', 'None')))"
   ]
  },
  {
   "cell_type": "code",
   "execution_count": 131,
   "metadata": {},
   "outputs": [],
   "source": [
    "aux = df['genres_array'].value_counts().to_frame().isna().reset_index()"
   ]
  },
  {
   "cell_type": "code",
   "execution_count": 142,
   "metadata": {},
   "outputs": [],
   "source": [
    "import math"
   ]
  },
  {
   "cell_type": "code",
   "execution_count": 168,
   "metadata": {},
   "outputs": [],
   "source": [
    "genres = []\n",
    "for row in df['genres_array']:\n",
    "  if row is not None:\n",
    "    for genre in row:\n",
    "      if genre not in genres:\n",
    "        genres.append(genre)\n",
    "\n",
    "for genre in genres:\n",
    "  genre_to_append = []\n",
    "  for row in df['genres_array']:\n",
    "    if row is not None:\n",
    "      if genre in row:\n",
    "        genre_to_append.append(1)\n",
    "      else:\n",
    "        genre_to_append.append(0)\n",
    "    else:\n",
    "      genre_to_append.append(None)\n",
    "  df[genre] = genre_to_append\n"
   ]
  },
  {
   "cell_type": "code",
   "execution_count": 166,
   "metadata": {},
   "outputs": [
    {
     "data": {
      "text/html": [
       "<div>\n",
       "<style scoped>\n",
       "    .dataframe tbody tr th:only-of-type {\n",
       "        vertical-align: middle;\n",
       "    }\n",
       "\n",
       "    .dataframe tbody tr th {\n",
       "        vertical-align: top;\n",
       "    }\n",
       "\n",
       "    .dataframe thead th {\n",
       "        text-align: right;\n",
       "    }\n",
       "</style>\n",
       "<table border=\"1\" class=\"dataframe\">\n",
       "  <thead>\n",
       "    <tr style=\"text-align: right;\">\n",
       "      <th></th>\n",
       "      <th>genres_array</th>\n",
       "      <th>Role-Playing</th>\n",
       "      <th>Japanese-Style</th>\n",
       "      <th>Strategy</th>\n",
       "      <th>Turn-Based</th>\n",
       "      <th>Tactics</th>\n",
       "      <th>Action Adventure</th>\n",
       "      <th>General</th>\n",
       "      <th>Real-Time</th>\n",
       "      <th>Action</th>\n",
       "      <th>Platformer</th>\n",
       "      <th>2D</th>\n",
       "      <th>Rhythm</th>\n",
       "      <th>Music</th>\n",
       "      <th>Management</th>\n",
       "    </tr>\n",
       "  </thead>\n",
       "  <tbody>\n",
       "    <tr>\n",
       "      <th>0</th>\n",
       "      <td>[Role-Playing, Japanese-Style]</td>\n",
       "      <td>1.0</td>\n",
       "      <td>1.0</td>\n",
       "      <td>0.0</td>\n",
       "      <td>0.0</td>\n",
       "      <td>0.0</td>\n",
       "      <td>0.0</td>\n",
       "      <td>0.0</td>\n",
       "      <td>0.0</td>\n",
       "      <td>0.0</td>\n",
       "      <td>0.0</td>\n",
       "      <td>0.0</td>\n",
       "      <td>0.0</td>\n",
       "      <td>0.0</td>\n",
       "      <td>0.0</td>\n",
       "    </tr>\n",
       "    <tr>\n",
       "      <th>1</th>\n",
       "      <td>[Strategy, Turn-Based, Tactics]</td>\n",
       "      <td>0.0</td>\n",
       "      <td>0.0</td>\n",
       "      <td>1.0</td>\n",
       "      <td>1.0</td>\n",
       "      <td>1.0</td>\n",
       "      <td>0.0</td>\n",
       "      <td>0.0</td>\n",
       "      <td>0.0</td>\n",
       "      <td>0.0</td>\n",
       "      <td>0.0</td>\n",
       "      <td>0.0</td>\n",
       "      <td>0.0</td>\n",
       "      <td>0.0</td>\n",
       "      <td>0.0</td>\n",
       "    </tr>\n",
       "    <tr>\n",
       "      <th>2</th>\n",
       "      <td>[Strategy, Turn-Based, Tactics]</td>\n",
       "      <td>0.0</td>\n",
       "      <td>0.0</td>\n",
       "      <td>1.0</td>\n",
       "      <td>1.0</td>\n",
       "      <td>1.0</td>\n",
       "      <td>0.0</td>\n",
       "      <td>0.0</td>\n",
       "      <td>0.0</td>\n",
       "      <td>0.0</td>\n",
       "      <td>0.0</td>\n",
       "      <td>0.0</td>\n",
       "      <td>0.0</td>\n",
       "      <td>0.0</td>\n",
       "      <td>0.0</td>\n",
       "    </tr>\n",
       "    <tr>\n",
       "      <th>3</th>\n",
       "      <td>[Strategy, Turn-Based, Tactics]</td>\n",
       "      <td>0.0</td>\n",
       "      <td>0.0</td>\n",
       "      <td>1.0</td>\n",
       "      <td>1.0</td>\n",
       "      <td>1.0</td>\n",
       "      <td>0.0</td>\n",
       "      <td>0.0</td>\n",
       "      <td>0.0</td>\n",
       "      <td>0.0</td>\n",
       "      <td>0.0</td>\n",
       "      <td>0.0</td>\n",
       "      <td>0.0</td>\n",
       "      <td>0.0</td>\n",
       "      <td>0.0</td>\n",
       "    </tr>\n",
       "    <tr>\n",
       "      <th>4</th>\n",
       "      <td>[Strategy, Turn-Based, Tactics]</td>\n",
       "      <td>0.0</td>\n",
       "      <td>0.0</td>\n",
       "      <td>1.0</td>\n",
       "      <td>1.0</td>\n",
       "      <td>1.0</td>\n",
       "      <td>0.0</td>\n",
       "      <td>0.0</td>\n",
       "      <td>0.0</td>\n",
       "      <td>0.0</td>\n",
       "      <td>0.0</td>\n",
       "      <td>0.0</td>\n",
       "      <td>0.0</td>\n",
       "      <td>0.0</td>\n",
       "      <td>0.0</td>\n",
       "    </tr>\n",
       "    <tr>\n",
       "      <th>...</th>\n",
       "      <td>...</td>\n",
       "      <td>...</td>\n",
       "      <td>...</td>\n",
       "      <td>...</td>\n",
       "      <td>...</td>\n",
       "      <td>...</td>\n",
       "      <td>...</td>\n",
       "      <td>...</td>\n",
       "      <td>...</td>\n",
       "      <td>...</td>\n",
       "      <td>...</td>\n",
       "      <td>...</td>\n",
       "      <td>...</td>\n",
       "      <td>...</td>\n",
       "      <td>...</td>\n",
       "    </tr>\n",
       "    <tr>\n",
       "      <th>1476</th>\n",
       "      <td>[Action, Rhythm, Music]</td>\n",
       "      <td>0.0</td>\n",
       "      <td>0.0</td>\n",
       "      <td>0.0</td>\n",
       "      <td>0.0</td>\n",
       "      <td>0.0</td>\n",
       "      <td>0.0</td>\n",
       "      <td>0.0</td>\n",
       "      <td>0.0</td>\n",
       "      <td>1.0</td>\n",
       "      <td>0.0</td>\n",
       "      <td>0.0</td>\n",
       "      <td>1.0</td>\n",
       "      <td>1.0</td>\n",
       "      <td>0.0</td>\n",
       "    </tr>\n",
       "    <tr>\n",
       "      <th>1477</th>\n",
       "      <td>[Action Adventure, General]</td>\n",
       "      <td>0.0</td>\n",
       "      <td>0.0</td>\n",
       "      <td>0.0</td>\n",
       "      <td>0.0</td>\n",
       "      <td>0.0</td>\n",
       "      <td>1.0</td>\n",
       "      <td>1.0</td>\n",
       "      <td>0.0</td>\n",
       "      <td>0.0</td>\n",
       "      <td>0.0</td>\n",
       "      <td>0.0</td>\n",
       "      <td>0.0</td>\n",
       "      <td>0.0</td>\n",
       "      <td>0.0</td>\n",
       "    </tr>\n",
       "    <tr>\n",
       "      <th>1478</th>\n",
       "      <td>[Action Adventure, General]</td>\n",
       "      <td>0.0</td>\n",
       "      <td>0.0</td>\n",
       "      <td>0.0</td>\n",
       "      <td>0.0</td>\n",
       "      <td>0.0</td>\n",
       "      <td>1.0</td>\n",
       "      <td>1.0</td>\n",
       "      <td>0.0</td>\n",
       "      <td>0.0</td>\n",
       "      <td>0.0</td>\n",
       "      <td>0.0</td>\n",
       "      <td>0.0</td>\n",
       "      <td>0.0</td>\n",
       "      <td>0.0</td>\n",
       "    </tr>\n",
       "    <tr>\n",
       "      <th>1479</th>\n",
       "      <td>[Action Adventure, General]</td>\n",
       "      <td>0.0</td>\n",
       "      <td>0.0</td>\n",
       "      <td>0.0</td>\n",
       "      <td>0.0</td>\n",
       "      <td>0.0</td>\n",
       "      <td>1.0</td>\n",
       "      <td>1.0</td>\n",
       "      <td>0.0</td>\n",
       "      <td>0.0</td>\n",
       "      <td>0.0</td>\n",
       "      <td>0.0</td>\n",
       "      <td>0.0</td>\n",
       "      <td>0.0</td>\n",
       "      <td>0.0</td>\n",
       "    </tr>\n",
       "    <tr>\n",
       "      <th>1480</th>\n",
       "      <td>[Action, Rhythm, Music]</td>\n",
       "      <td>0.0</td>\n",
       "      <td>0.0</td>\n",
       "      <td>0.0</td>\n",
       "      <td>0.0</td>\n",
       "      <td>0.0</td>\n",
       "      <td>0.0</td>\n",
       "      <td>0.0</td>\n",
       "      <td>0.0</td>\n",
       "      <td>1.0</td>\n",
       "      <td>0.0</td>\n",
       "      <td>0.0</td>\n",
       "      <td>1.0</td>\n",
       "      <td>1.0</td>\n",
       "      <td>0.0</td>\n",
       "    </tr>\n",
       "  </tbody>\n",
       "</table>\n",
       "<p>1481 rows × 15 columns</p>\n",
       "</div>"
      ],
      "text/plain": [
       "                         genres_array  Role-Playing  Japanese-Style  Strategy  \\\n",
       "0      [Role-Playing, Japanese-Style]           1.0             1.0       0.0   \n",
       "1     [Strategy, Turn-Based, Tactics]           0.0             0.0       1.0   \n",
       "2     [Strategy, Turn-Based, Tactics]           0.0             0.0       1.0   \n",
       "3     [Strategy, Turn-Based, Tactics]           0.0             0.0       1.0   \n",
       "4     [Strategy, Turn-Based, Tactics]           0.0             0.0       1.0   \n",
       "...                               ...           ...             ...       ...   \n",
       "1476          [Action, Rhythm, Music]           0.0             0.0       0.0   \n",
       "1477      [Action Adventure, General]           0.0             0.0       0.0   \n",
       "1478      [Action Adventure, General]           0.0             0.0       0.0   \n",
       "1479      [Action Adventure, General]           0.0             0.0       0.0   \n",
       "1480          [Action, Rhythm, Music]           0.0             0.0       0.0   \n",
       "\n",
       "      Turn-Based  Tactics  Action Adventure  General  Real-Time  Action  \\\n",
       "0            0.0      0.0               0.0      0.0        0.0     0.0   \n",
       "1            1.0      1.0               0.0      0.0        0.0     0.0   \n",
       "2            1.0      1.0               0.0      0.0        0.0     0.0   \n",
       "3            1.0      1.0               0.0      0.0        0.0     0.0   \n",
       "4            1.0      1.0               0.0      0.0        0.0     0.0   \n",
       "...          ...      ...               ...      ...        ...     ...   \n",
       "1476         0.0      0.0               0.0      0.0        0.0     1.0   \n",
       "1477         0.0      0.0               1.0      1.0        0.0     0.0   \n",
       "1478         0.0      0.0               1.0      1.0        0.0     0.0   \n",
       "1479         0.0      0.0               1.0      1.0        0.0     0.0   \n",
       "1480         0.0      0.0               0.0      0.0        0.0     1.0   \n",
       "\n",
       "      Platformer   2D  Rhythm  Music  Management  \n",
       "0            0.0  0.0     0.0    0.0         0.0  \n",
       "1            0.0  0.0     0.0    0.0         0.0  \n",
       "2            0.0  0.0     0.0    0.0         0.0  \n",
       "3            0.0  0.0     0.0    0.0         0.0  \n",
       "4            0.0  0.0     0.0    0.0         0.0  \n",
       "...          ...  ...     ...    ...         ...  \n",
       "1476         0.0  0.0     1.0    1.0         0.0  \n",
       "1477         0.0  0.0     0.0    0.0         0.0  \n",
       "1478         0.0  0.0     0.0    0.0         0.0  \n",
       "1479         0.0  0.0     0.0    0.0         0.0  \n",
       "1480         0.0  0.0     1.0    1.0         0.0  \n",
       "\n",
       "[1481 rows x 15 columns]"
      ]
     },
     "execution_count": 166,
     "metadata": {},
     "output_type": "execute_result"
    }
   ],
   "source": [
    "df[df.columns[10:25]]"
   ]
  },
  {
   "cell_type": "code",
   "execution_count": 197,
   "metadata": {},
   "outputs": [
    {
     "name": "stderr",
     "output_type": "stream",
     "text": [
      "c:\\Python310\\lib\\site-packages\\sklearn\\cluster\\_kmeans.py:1930: FutureWarning:\n",
      "\n",
      "The default value of `n_init` will change from 3 to 'auto' in 1.4. Set the value of `n_init` explicitly to suppress the warning\n",
      "\n",
      "c:\\Python310\\lib\\site-packages\\sklearn\\cluster\\_kmeans.py:1930: FutureWarning:\n",
      "\n",
      "The default value of `n_init` will change from 3 to 'auto' in 1.4. Set the value of `n_init` explicitly to suppress the warning\n",
      "\n",
      "c:\\Python310\\lib\\site-packages\\sklearn\\cluster\\_kmeans.py:1930: FutureWarning:\n",
      "\n",
      "The default value of `n_init` will change from 3 to 'auto' in 1.4. Set the value of `n_init` explicitly to suppress the warning\n",
      "\n",
      "c:\\Python310\\lib\\site-packages\\sklearn\\cluster\\_kmeans.py:1930: FutureWarning:\n",
      "\n",
      "The default value of `n_init` will change from 3 to 'auto' in 1.4. Set the value of `n_init` explicitly to suppress the warning\n",
      "\n",
      "c:\\Python310\\lib\\site-packages\\sklearn\\cluster\\_kmeans.py:1930: FutureWarning:\n",
      "\n",
      "The default value of `n_init` will change from 3 to 'auto' in 1.4. Set the value of `n_init` explicitly to suppress the warning\n",
      "\n",
      "c:\\Python310\\lib\\site-packages\\sklearn\\cluster\\_kmeans.py:1930: FutureWarning:\n",
      "\n",
      "The default value of `n_init` will change from 3 to 'auto' in 1.4. Set the value of `n_init` explicitly to suppress the warning\n",
      "\n",
      "c:\\Python310\\lib\\site-packages\\sklearn\\cluster\\_kmeans.py:1930: FutureWarning:\n",
      "\n",
      "The default value of `n_init` will change from 3 to 'auto' in 1.4. Set the value of `n_init` explicitly to suppress the warning\n",
      "\n",
      "c:\\Python310\\lib\\site-packages\\sklearn\\cluster\\_kmeans.py:1930: FutureWarning:\n",
      "\n",
      "The default value of `n_init` will change from 3 to 'auto' in 1.4. Set the value of `n_init` explicitly to suppress the warning\n",
      "\n",
      "c:\\Python310\\lib\\site-packages\\sklearn\\cluster\\_kmeans.py:1930: FutureWarning:\n",
      "\n",
      "The default value of `n_init` will change from 3 to 'auto' in 1.4. Set the value of `n_init` explicitly to suppress the warning\n",
      "\n",
      "c:\\Python310\\lib\\site-packages\\sklearn\\cluster\\_kmeans.py:1930: FutureWarning:\n",
      "\n",
      "The default value of `n_init` will change from 3 to 'auto' in 1.4. Set the value of `n_init` explicitly to suppress the warning\n",
      "\n",
      "c:\\Python310\\lib\\site-packages\\sklearn\\cluster\\_kmeans.py:1930: FutureWarning:\n",
      "\n",
      "The default value of `n_init` will change from 3 to 'auto' in 1.4. Set the value of `n_init` explicitly to suppress the warning\n",
      "\n",
      "c:\\Python310\\lib\\site-packages\\sklearn\\cluster\\_kmeans.py:1930: FutureWarning:\n",
      "\n",
      "The default value of `n_init` will change from 3 to 'auto' in 1.4. Set the value of `n_init` explicitly to suppress the warning\n",
      "\n",
      "c:\\Python310\\lib\\site-packages\\sklearn\\cluster\\_kmeans.py:1930: FutureWarning:\n",
      "\n",
      "The default value of `n_init` will change from 3 to 'auto' in 1.4. Set the value of `n_init` explicitly to suppress the warning\n",
      "\n",
      "c:\\Python310\\lib\\site-packages\\sklearn\\cluster\\_kmeans.py:1930: FutureWarning:\n",
      "\n",
      "The default value of `n_init` will change from 3 to 'auto' in 1.4. Set the value of `n_init` explicitly to suppress the warning\n",
      "\n",
      "c:\\Python310\\lib\\site-packages\\sklearn\\cluster\\_kmeans.py:1930: FutureWarning:\n",
      "\n",
      "The default value of `n_init` will change from 3 to 'auto' in 1.4. Set the value of `n_init` explicitly to suppress the warning\n",
      "\n",
      "c:\\Python310\\lib\\site-packages\\sklearn\\cluster\\_kmeans.py:1930: FutureWarning:\n",
      "\n",
      "The default value of `n_init` will change from 3 to 'auto' in 1.4. Set the value of `n_init` explicitly to suppress the warning\n",
      "\n",
      "c:\\Python310\\lib\\site-packages\\sklearn\\cluster\\_kmeans.py:1930: FutureWarning:\n",
      "\n",
      "The default value of `n_init` will change from 3 to 'auto' in 1.4. Set the value of `n_init` explicitly to suppress the warning\n",
      "\n",
      "c:\\Python310\\lib\\site-packages\\sklearn\\cluster\\_kmeans.py:1930: FutureWarning:\n",
      "\n",
      "The default value of `n_init` will change from 3 to 'auto' in 1.4. Set the value of `n_init` explicitly to suppress the warning\n",
      "\n",
      "c:\\Python310\\lib\\site-packages\\sklearn\\cluster\\_kmeans.py:1930: FutureWarning:\n",
      "\n",
      "The default value of `n_init` will change from 3 to 'auto' in 1.4. Set the value of `n_init` explicitly to suppress the warning\n",
      "\n",
      "c:\\Python310\\lib\\site-packages\\sklearn\\cluster\\_kmeans.py:1930: FutureWarning:\n",
      "\n",
      "The default value of `n_init` will change from 3 to 'auto' in 1.4. Set the value of `n_init` explicitly to suppress the warning\n",
      "\n",
      "c:\\Python310\\lib\\site-packages\\sklearn\\cluster\\_kmeans.py:1930: FutureWarning:\n",
      "\n",
      "The default value of `n_init` will change from 3 to 'auto' in 1.4. Set the value of `n_init` explicitly to suppress the warning\n",
      "\n",
      "c:\\Python310\\lib\\site-packages\\sklearn\\cluster\\_kmeans.py:1930: FutureWarning:\n",
      "\n",
      "The default value of `n_init` will change from 3 to 'auto' in 1.4. Set the value of `n_init` explicitly to suppress the warning\n",
      "\n",
      "c:\\Python310\\lib\\site-packages\\sklearn\\cluster\\_kmeans.py:1930: FutureWarning:\n",
      "\n",
      "The default value of `n_init` will change from 3 to 'auto' in 1.4. Set the value of `n_init` explicitly to suppress the warning\n",
      "\n",
      "c:\\Python310\\lib\\site-packages\\sklearn\\cluster\\_kmeans.py:1930: FutureWarning:\n",
      "\n",
      "The default value of `n_init` will change from 3 to 'auto' in 1.4. Set the value of `n_init` explicitly to suppress the warning\n",
      "\n",
      "c:\\Python310\\lib\\site-packages\\sklearn\\cluster\\_kmeans.py:1930: FutureWarning:\n",
      "\n",
      "The default value of `n_init` will change from 3 to 'auto' in 1.4. Set the value of `n_init` explicitly to suppress the warning\n",
      "\n",
      "c:\\Python310\\lib\\site-packages\\sklearn\\cluster\\_kmeans.py:1930: FutureWarning:\n",
      "\n",
      "The default value of `n_init` will change from 3 to 'auto' in 1.4. Set the value of `n_init` explicitly to suppress the warning\n",
      "\n",
      "c:\\Python310\\lib\\site-packages\\sklearn\\cluster\\_kmeans.py:1930: FutureWarning:\n",
      "\n",
      "The default value of `n_init` will change from 3 to 'auto' in 1.4. Set the value of `n_init` explicitly to suppress the warning\n",
      "\n",
      "c:\\Python310\\lib\\site-packages\\sklearn\\cluster\\_kmeans.py:1930: FutureWarning:\n",
      "\n",
      "The default value of `n_init` will change from 3 to 'auto' in 1.4. Set the value of `n_init` explicitly to suppress the warning\n",
      "\n",
      "c:\\Python310\\lib\\site-packages\\sklearn\\cluster\\_kmeans.py:1930: FutureWarning:\n",
      "\n",
      "The default value of `n_init` will change from 3 to 'auto' in 1.4. Set the value of `n_init` explicitly to suppress the warning\n",
      "\n",
      "c:\\Python310\\lib\\site-packages\\sklearn\\cluster\\_kmeans.py:1930: FutureWarning:\n",
      "\n",
      "The default value of `n_init` will change from 3 to 'auto' in 1.4. Set the value of `n_init` explicitly to suppress the warning\n",
      "\n",
      "c:\\Python310\\lib\\site-packages\\sklearn\\cluster\\_kmeans.py:1930: FutureWarning:\n",
      "\n",
      "The default value of `n_init` will change from 3 to 'auto' in 1.4. Set the value of `n_init` explicitly to suppress the warning\n",
      "\n",
      "c:\\Python310\\lib\\site-packages\\sklearn\\cluster\\_kmeans.py:1930: FutureWarning:\n",
      "\n",
      "The default value of `n_init` will change from 3 to 'auto' in 1.4. Set the value of `n_init` explicitly to suppress the warning\n",
      "\n",
      "c:\\Python310\\lib\\site-packages\\sklearn\\cluster\\_kmeans.py:1930: FutureWarning:\n",
      "\n",
      "The default value of `n_init` will change from 3 to 'auto' in 1.4. Set the value of `n_init` explicitly to suppress the warning\n",
      "\n",
      "c:\\Python310\\lib\\site-packages\\sklearn\\cluster\\_kmeans.py:1930: FutureWarning:\n",
      "\n",
      "The default value of `n_init` will change from 3 to 'auto' in 1.4. Set the value of `n_init` explicitly to suppress the warning\n",
      "\n",
      "c:\\Python310\\lib\\site-packages\\sklearn\\cluster\\_kmeans.py:1930: FutureWarning:\n",
      "\n",
      "The default value of `n_init` will change from 3 to 'auto' in 1.4. Set the value of `n_init` explicitly to suppress the warning\n",
      "\n",
      "c:\\Python310\\lib\\site-packages\\sklearn\\cluster\\_kmeans.py:1930: FutureWarning:\n",
      "\n",
      "The default value of `n_init` will change from 3 to 'auto' in 1.4. Set the value of `n_init` explicitly to suppress the warning\n",
      "\n",
      "c:\\Python310\\lib\\site-packages\\sklearn\\cluster\\_kmeans.py:1930: FutureWarning:\n",
      "\n",
      "The default value of `n_init` will change from 3 to 'auto' in 1.4. Set the value of `n_init` explicitly to suppress the warning\n",
      "\n",
      "c:\\Python310\\lib\\site-packages\\sklearn\\cluster\\_kmeans.py:1930: FutureWarning:\n",
      "\n",
      "The default value of `n_init` will change from 3 to 'auto' in 1.4. Set the value of `n_init` explicitly to suppress the warning\n",
      "\n",
      "c:\\Python310\\lib\\site-packages\\sklearn\\cluster\\_kmeans.py:1930: FutureWarning:\n",
      "\n",
      "The default value of `n_init` will change from 3 to 'auto' in 1.4. Set the value of `n_init` explicitly to suppress the warning\n",
      "\n",
      "c:\\Python310\\lib\\site-packages\\sklearn\\cluster\\_kmeans.py:1930: FutureWarning:\n",
      "\n",
      "The default value of `n_init` will change from 3 to 'auto' in 1.4. Set the value of `n_init` explicitly to suppress the warning\n",
      "\n",
      "c:\\Python310\\lib\\site-packages\\sklearn\\cluster\\_kmeans.py:1930: FutureWarning:\n",
      "\n",
      "The default value of `n_init` will change from 3 to 'auto' in 1.4. Set the value of `n_init` explicitly to suppress the warning\n",
      "\n",
      "c:\\Python310\\lib\\site-packages\\sklearn\\cluster\\_kmeans.py:1930: FutureWarning:\n",
      "\n",
      "The default value of `n_init` will change from 3 to 'auto' in 1.4. Set the value of `n_init` explicitly to suppress the warning\n",
      "\n",
      "c:\\Python310\\lib\\site-packages\\sklearn\\cluster\\_kmeans.py:1930: FutureWarning:\n",
      "\n",
      "The default value of `n_init` will change from 3 to 'auto' in 1.4. Set the value of `n_init` explicitly to suppress the warning\n",
      "\n",
      "c:\\Python310\\lib\\site-packages\\sklearn\\cluster\\_kmeans.py:1930: FutureWarning:\n",
      "\n",
      "The default value of `n_init` will change from 3 to 'auto' in 1.4. Set the value of `n_init` explicitly to suppress the warning\n",
      "\n",
      "c:\\Python310\\lib\\site-packages\\sklearn\\cluster\\_kmeans.py:1930: FutureWarning:\n",
      "\n",
      "The default value of `n_init` will change from 3 to 'auto' in 1.4. Set the value of `n_init` explicitly to suppress the warning\n",
      "\n",
      "c:\\Python310\\lib\\site-packages\\sklearn\\cluster\\_kmeans.py:1930: FutureWarning:\n",
      "\n",
      "The default value of `n_init` will change from 3 to 'auto' in 1.4. Set the value of `n_init` explicitly to suppress the warning\n",
      "\n",
      "c:\\Python310\\lib\\site-packages\\sklearn\\cluster\\_kmeans.py:1930: FutureWarning:\n",
      "\n",
      "The default value of `n_init` will change from 3 to 'auto' in 1.4. Set the value of `n_init` explicitly to suppress the warning\n",
      "\n",
      "c:\\Python310\\lib\\site-packages\\sklearn\\cluster\\_kmeans.py:1930: FutureWarning:\n",
      "\n",
      "The default value of `n_init` will change from 3 to 'auto' in 1.4. Set the value of `n_init` explicitly to suppress the warning\n",
      "\n",
      "c:\\Python310\\lib\\site-packages\\sklearn\\cluster\\_kmeans.py:1930: FutureWarning:\n",
      "\n",
      "The default value of `n_init` will change from 3 to 'auto' in 1.4. Set the value of `n_init` explicitly to suppress the warning\n",
      "\n"
     ]
    },
    {
     "data": {
      "text/plain": [
       "Text(0, 0.5, 'Sum of squared distance')"
      ]
     },
     "execution_count": 197,
     "metadata": {},
     "output_type": "execute_result"
    },
    {
     "data": {
      "image/png": "[encoded data removed]",
      "text/plain": [
       "<Figure size 600x600 with 1 Axes>"
      ]
     },
     "metadata": {},
     "output_type": "display_data"
    }
   ],
   "source": [
    "from sklearn.cluster import MiniBatchKMeans\n",
    "import matplotlib.pyplot as plt\n",
    "\n",
    "kmeans = MiniBatchKMeans(n_clusters=2, random_state=0, batch_size=6, n_init=\"auto\")\n",
    "sse = []\n",
    "list_k = list(range(1, 50))\n",
    "\n",
    "for k in list_k:\n",
    "    km = MiniBatchKMeans(n_clusters=k)\n",
    "    km.fit(df[genres + ['user_score']][~df['genres'].isna() & ~df['user_score'].isna()])\n",
    "    sse.append(km.inertia_)\n",
    "\n",
    "# Plot sse against k\n",
    "plt.figure(figsize=(6, 6))\n",
    "plt.plot(list_k, sse, '-o')\n",
    "plt.xlabel(r'Number of clusters *k*')\n",
    "plt.ylabel('Sum of squared distance')"
   ]
  },
  {
   "cell_type": "code",
   "execution_count": 198,
   "metadata": {},
   "outputs": [
    {
     "name": "stderr",
     "output_type": "stream",
     "text": [
      "c:\\Python310\\lib\\site-packages\\sklearn\\cluster\\_kmeans.py:1930: FutureWarning:\n",
      "\n",
      "The default value of `n_init` will change from 3 to 'auto' in 1.4. Set the value of `n_init` explicitly to suppress the warning\n",
      "\n"
     ]
    },
    {
     "data": {
      "text/html": [
       "<style>#sk-container-id-2 {color: black;}#sk-container-id-2 pre{padding: 0;}#sk-container-id-2 div.sk-toggleable {background-color: white;}#sk-container-id-2 label.sk-toggleable__label {cursor: pointer;display: block;width: 100%;margin-bottom: 0;padding: 0.3em;box-sizing: border-box;text-align: center;}#sk-container-id-2 label.sk-toggleable__label-arrow:before {content: \"▸\";float: left;margin-right: 0.25em;color: #696969;}#sk-container-id-2 label.sk-toggleable__label-arrow:hover:before {color: black;}#sk-container-id-2 div.sk-estimator:hover label.sk-toggleable__label-arrow:before {color: black;}#sk-container-id-2 div.sk-toggleable__content {max-height: 0;max-width: 0;overflow: hidden;text-align: left;background-color: #f0f8ff;}#sk-container-id-2 div.sk-toggleable__content pre {margin: 0.2em;color: black;border-radius: 0.25em;background-color: #f0f8ff;}#sk-container-id-2 input.sk-toggleable__control:checked~div.sk-toggleable__content {max-height: 200px;max-width: 100%;overflow: auto;}#sk-container-id-2 input.sk-toggleable__control:checked~label.sk-toggleable__label-arrow:before {content: \"▾\";}#sk-container-id-2 div.sk-estimator input.sk-toggleable__control:checked~label.sk-toggleable__label {background-color: #d4ebff;}#sk-container-id-2 div.sk-label input.sk-toggleable__control:checked~label.sk-toggleable__label {background-color: #d4ebff;}#sk-container-id-2 input.sk-hidden--visually {border: 0;clip: rect(1px 1px 1px 1px);clip: rect(1px, 1px, 1px, 1px);height: 1px;margin: -1px;overflow: hidden;padding: 0;position: absolute;width: 1px;}#sk-container-id-2 div.sk-estimator {font-family: monospace;background-color: #f0f8ff;border: 1px dotted black;border-radius: 0.25em;box-sizing: border-box;margin-bottom: 0.5em;}#sk-container-id-2 div.sk-estimator:hover {background-color: #d4ebff;}#sk-container-id-2 div.sk-parallel-item::after {content: \"\";width: 100%;border-bottom: 1px solid gray;flex-grow: 1;}#sk-container-id-2 div.sk-label:hover label.sk-toggleable__label {background-color: #d4ebff;}#sk-container-id-2 div.sk-serial::before {content: \"\";position: absolute;border-left: 1px solid gray;box-sizing: border-box;top: 0;bottom: 0;left: 50%;z-index: 0;}#sk-container-id-2 div.sk-serial {display: flex;flex-direction: column;align-items: center;background-color: white;padding-right: 0.2em;padding-left: 0.2em;position: relative;}#sk-container-id-2 div.sk-item {position: relative;z-index: 1;}#sk-container-id-2 div.sk-parallel {display: flex;align-items: stretch;justify-content: center;background-color: white;position: relative;}#sk-container-id-2 div.sk-item::before, #sk-container-id-2 div.sk-parallel-item::before {content: \"\";position: absolute;border-left: 1px solid gray;box-sizing: border-box;top: 0;bottom: 0;left: 50%;z-index: -1;}#sk-container-id-2 div.sk-parallel-item {display: flex;flex-direction: column;z-index: 1;position: relative;background-color: white;}#sk-container-id-2 div.sk-parallel-item:first-child::after {align-self: flex-end;width: 50%;}#sk-container-id-2 div.sk-parallel-item:last-child::after {align-self: flex-start;width: 50%;}#sk-container-id-2 div.sk-parallel-item:only-child::after {width: 0;}#sk-container-id-2 div.sk-dashed-wrapped {border: 1px dashed gray;margin: 0 0.4em 0.5em 0.4em;box-sizing: border-box;padding-bottom: 0.4em;background-color: white;}#sk-container-id-2 div.sk-label label {font-family: monospace;font-weight: bold;display: inline-block;line-height: 1.2em;}#sk-container-id-2 div.sk-label-container {text-align: center;}#sk-container-id-2 div.sk-container {/* jupyter's `normalize.less` sets `[hidden] { display: none; }` but bootstrap.min.css set `[hidden] { display: none !important; }` so we also need the `!important` here to be able to override the default hidden behavior on the sphinx rendered scikit-learn.org. See: https://github.com/scikit-learn/scikit-learn/issues/21755 */display: inline-block !important;position: relative;}#sk-container-id-2 div.sk-text-repr-fallback {display: none;}</style><div id=\"sk-container-id-2\" class=\"sk-top-container\"><div class=\"sk-text-repr-fallback\"><pre>MiniBatchKMeans(n_clusters=50)</pre><b>In a Jupyter environment, please rerun this cell to show the HTML representation or trust the notebook. <br />On GitHub, the HTML representation is unable to render, please try loading this page with nbviewer.org.</b></div><div class=\"sk-container\" hidden><div class=\"sk-item\"><div class=\"sk-estimator sk-toggleable\"><input class=\"sk-toggleable__control sk-hidden--visually\" id=\"sk-estimator-id-2\" type=\"checkbox\" checked><label for=\"sk-estimator-id-2\" class=\"sk-toggleable__label sk-toggleable__label-arrow\">MiniBatchKMeans</label><div class=\"sk-toggleable__content\"><pre>MiniBatchKMeans(n_clusters=50)</pre></div></div></div></div></div>"
      ],
      "text/plain": [
       "MiniBatchKMeans(n_clusters=50)"
      ]
     },
     "execution_count": 198,
     "metadata": {},
     "output_type": "execute_result"
    }
   ],
   "source": [
    "km = MiniBatchKMeans(n_clusters=50)\n",
    "km.fit(df[genres + ['user_score']][~df['genres'].isna() & ~df['user_score'].isna()])"
   ]
  },
  {
   "cell_type": "code",
   "execution_count": 206,
   "metadata": {},
   "outputs": [],
   "source": [
    "df['cluster'] = np.zeros(df.shape[0])\n",
    "df.loc[~df['genres'].isna() & ~df['user_score'].isna(), 'cluster'] = km.predict(df[genres + ['user_score']][~df['genres'].isna() & ~df['user_score'].isna()])"
   ]
  },
  {
   "cell_type": "code",
   "execution_count": 258,
   "metadata": {},
   "outputs": [
    {
     "data": {
      "application/vnd.plotly.v1+json": {
       "config": {
        "plotlyServerURL": "https://plot.ly"
       },
       "data": [
        {
         "alignmentgroup": "True",
         "hovertemplate": "cluster=%{x}<br>user_score=%{y}<extra></extra>",
         "legendgroup": "",
         "marker": {
          "color": "#636efa",
          "pattern": {
           "shape": ""
          }
         },
         "name": "",
         "offsetgroup": "",
         "orientation": "v",
         "showlegend": false,
         "textposition": "auto",
         "type": "bar",
         "x": [
          0,
          0,
          0,
          0,
          0,
          0,
          0,
          0,
          0,
          0,
          0,
          0,
          0,
          0,
          0,
          0,
          0,
          0,
          0,
          0,
          10,
          0,
          8,
          0,
          0,
          0,
          0,
          0,
          0,
          0,
          10,
          0,
          0,
          0,
          0,
          0,
          11,
          41,
          7,
          0,
          0,
          0,
          0,
          42,
          7,
          7,
          7,
          35,
          35,
          28,
          28,
          19,
          19,
          28,
          0,
          0,
          0,
          29,
          29,
          29,
          29,
          15,
          0,
          0,
          0,
          28,
          28,
          28,
          7,
          7,
          0,
          19,
          35,
          35,
          35,
          0,
          0,
          0,
          0,
          42,
          0,
          10,
          8,
          8,
          8,
          45,
          0,
          21,
          41,
          0,
          0,
          0,
          20,
          0,
          0,
          11,
          0,
          0,
          0,
          21,
          15,
          0,
          0,
          15,
          45,
          45,
          45,
          10,
          8,
          8,
          10,
          7,
          27,
          46,
          2,
          2,
          2,
          0,
          14,
          18,
          26,
          32,
          26,
          26,
          42,
          0,
          45,
          0,
          0,
          28,
          19,
          28,
          11,
          7,
          7,
          7,
          49,
          18,
          0,
          0,
          0,
          4,
          0,
          4,
          10,
          10,
          7,
          7,
          7,
          7,
          7,
          7,
          0,
          0,
          20,
          23,
          49,
          49,
          49,
          0,
          15,
          15,
          0,
          0,
          28,
          28,
          28,
          0,
          0,
          0,
          0,
          0,
          9,
          0,
          23,
          0,
          0,
          18,
          11,
          7,
          0,
          28,
          0,
          35,
          0,
          21,
          0,
          32,
          33,
          37,
          7,
          23,
          0,
          11,
          28,
          7,
          0,
          0,
          0,
          3,
          49,
          10,
          10,
          7,
          25,
          27,
          25,
          7,
          7,
          3,
          9,
          18,
          42,
          0,
          15,
          36,
          0,
          0,
          15,
          0,
          32,
          8,
          8,
          8,
          7,
          0,
          0,
          0,
          0,
          0,
          0,
          0,
          0,
          23,
          49,
          10,
          42,
          0,
          27,
          0,
          27,
          0,
          0,
          22,
          1,
          0,
          7,
          19,
          28,
          0,
          0,
          18,
          38,
          38,
          38,
          38,
          34,
          7,
          49,
          42,
          0,
          0,
          0,
          0,
          0,
          0,
          7,
          0,
          22,
          36,
          0,
          28,
          10,
          15,
          0,
          29,
          0,
          0,
          0,
          0,
          4,
          0,
          18,
          0,
          0,
          0,
          0,
          15,
          0,
          15,
          37,
          0,
          0,
          0,
          0,
          4,
          0,
          37,
          37,
          37,
          37,
          0,
          0,
          0,
          0,
          0,
          0,
          0,
          0,
          0,
          0,
          0,
          0,
          9,
          3,
          0,
          7,
          10,
          10,
          10,
          11,
          14,
          0,
          7,
          19,
          46,
          0,
          0,
          3,
          3,
          3,
          3,
          0,
          4,
          4,
          4,
          4,
          0,
          18,
          10,
          10,
          10,
          0,
          7,
          15,
          23,
          0,
          0,
          49,
          18,
          0,
          0,
          0,
          11,
          0,
          12,
          0,
          0,
          0,
          2,
          29,
          2,
          2,
          29,
          29,
          29,
          2,
          0,
          16,
          18,
          0,
          0,
          18,
          7,
          0,
          3,
          3,
          3,
          3,
          14,
          0,
          0,
          0,
          35,
          35,
          35,
          0,
          0,
          0,
          25,
          41,
          14,
          42,
          49,
          49,
          7,
          0,
          9,
          0,
          14,
          0,
          0,
          7,
          0,
          21,
          21,
          21,
          14,
          0,
          0,
          0,
          34,
          0,
          15,
          0,
          0,
          14,
          0,
          21,
          0,
          46,
          11,
          21,
          21,
          42,
          0,
          0,
          0,
          0,
          0,
          20,
          0,
          0,
          0,
          0,
          0,
          28,
          14,
          0,
          37,
          10,
          42,
          11,
          0,
          18,
          7,
          0,
          0,
          0,
          15,
          2,
          1,
          3,
          2,
          3,
          3,
          0,
          21,
          11,
          0,
          9,
          24,
          0,
          1,
          1,
          1,
          0,
          34,
          0,
          46,
          9,
          0,
          0,
          48,
          0,
          22,
          0,
          0,
          0,
          0,
          0,
          0,
          18,
          0,
          9,
          0,
          0,
          0,
          0,
          0,
          9,
          0,
          0,
          0,
          1,
          0,
          0,
          34,
          2,
          0,
          0,
          0,
          0,
          0,
          0,
          15,
          21,
          21,
          11,
          17,
          46,
          37,
          0,
          0,
          0,
          0,
          15,
          0,
          27,
          0,
          0,
          0,
          27,
          0,
          0,
          0,
          1,
          1,
          1,
          1,
          0,
          0,
          0,
          0,
          0,
          1,
          27,
          18,
          0,
          0,
          18,
          38,
          46,
          18,
          0,
          20,
          0,
          15,
          11,
          0,
          21,
          0,
          0,
          5,
          0,
          24,
          3,
          0,
          23,
          11,
          3,
          0,
          23,
          38,
          46,
          0,
          0,
          11,
          15,
          16,
          2,
          34,
          0,
          39,
          0,
          46,
          46,
          46,
          0,
          42,
          21,
          20,
          0,
          0,
          42,
          0,
          0,
          0,
          0,
          0,
          0,
          0,
          0,
          0,
          0,
          0,
          0,
          0,
          16,
          14,
          0,
          17,
          17,
          38,
          17,
          47,
          5,
          3,
          3,
          3,
          46,
          0,
          24,
          24,
          0,
          0,
          0,
          5,
          15,
          0,
          17,
          45,
          45,
          45,
          45,
          45,
          45,
          2,
          16,
          5,
          5,
          5,
          0,
          16,
          46,
          34,
          0,
          15,
          0,
          0,
          0,
          0,
          40,
          0,
          0,
          39,
          27,
          38,
          29,
          16,
          0,
          46,
          29,
          29,
          16,
          16,
          3,
          3,
          16,
          16,
          16,
          20,
          0,
          0,
          0,
          21,
          32,
          32,
          32,
          0,
          0,
          0,
          45,
          45,
          10,
          10,
          13,
          3,
          10,
          0,
          0,
          46,
          22,
          46,
          0,
          0,
          46,
          46,
          46,
          46,
          0,
          0,
          0,
          0,
          24,
          0,
          19,
          28,
          24,
          0,
          0,
          44,
          42,
          0,
          30,
          0,
          0,
          14,
          1,
          16,
          44,
          44,
          13,
          32,
          23,
          46,
          0,
          0,
          0,
          0,
          3,
          0,
          0,
          0,
          0,
          20,
          0,
          3,
          3,
          0,
          0,
          2,
          32,
          39,
          16,
          16,
          16,
          34,
          22,
          20,
          30,
          38,
          15,
          0,
          0,
          4,
          3,
          21,
          26,
          0,
          0,
          14,
          0,
          34,
          17,
          34,
          36,
          0,
          0,
          3,
          1,
          1,
          1,
          46,
          24,
          0,
          13,
          5,
          0,
          38,
          0,
          38,
          0,
          13,
          13,
          13,
          17,
          20,
          34,
          34,
          0,
          0,
          44,
          3,
          0,
          4,
          3,
          20,
          0,
          7,
          14,
          0,
          12,
          22,
          43,
          21,
          16,
          8,
          10,
          3,
          9,
          24,
          3,
          7,
          0,
          37,
          37,
          0,
          3,
          24,
          0,
          0,
          39,
          0,
          0,
          0,
          0,
          10,
          0,
          0,
          20,
          0,
          15,
          38,
          0,
          16,
          16,
          38,
          26,
          15,
          0,
          0,
          0,
          0,
          0,
          0,
          0,
          0,
          0,
          24,
          3,
          0,
          0,
          25,
          25,
          10,
          0,
          0,
          20,
          46,
          46,
          20,
          0,
          16,
          16,
          4,
          0,
          46,
          0,
          0,
          49,
          0,
          0,
          0,
          0,
          3,
          3,
          20,
          0,
          37,
          30,
          0,
          0,
          0,
          18,
          14,
          0,
          0,
          19,
          19,
          19,
          0,
          0,
          3,
          39,
          0,
          24,
          0,
          0,
          2,
          0,
          3,
          10,
          0,
          0,
          27,
          20,
          27,
          20,
          20,
          47,
          33,
          39,
          0,
          0,
          0,
          0,
          0,
          28,
          19,
          19,
          7,
          5,
          3,
          0,
          5,
          5,
          5,
          5,
          18,
          44,
          44,
          44,
          3,
          34,
          0,
          0,
          0,
          0,
          0,
          26,
          19,
          32,
          32,
          24,
          24,
          15,
          34,
          0,
          0,
          0,
          0,
          20,
          38,
          4,
          7,
          15,
          0,
          24,
          32,
          32,
          11,
          0,
          0,
          14,
          3,
          0,
          28,
          3,
          8,
          0,
          0,
          0,
          0,
          44,
          0,
          0,
          0,
          40,
          9,
          0,
          0,
          9,
          39,
          3,
          46,
          3,
          19,
          13,
          13,
          13,
          13,
          0,
          0,
          0,
          0,
          0,
          0,
          45,
          0,
          0,
          0,
          22,
          0,
          0,
          11,
          11,
          11,
          10,
          0,
          0,
          0,
          24,
          0,
          0,
          18,
          4,
          16,
          30,
          10,
          10,
          0,
          46,
          0,
          42,
          0,
          28,
          0,
          29,
          46,
          41,
          29,
          46,
          34,
          15,
          0,
          37,
          0,
          20,
          20,
          45,
          14,
          19,
          28,
          21,
          0,
          7,
          0,
          35,
          26,
          3,
          0,
          0,
          32,
          32,
          20,
          20,
          3,
          27,
          20,
          1,
          1,
          0,
          20,
          0,
          17,
          20,
          20,
          20,
          20,
          20,
          20,
          19,
          0,
          0,
          18,
          1,
          1,
          36,
          13,
          13,
          13,
          13,
          13,
          36,
          30,
          0,
          28,
          0,
          43,
          44,
          44,
          20,
          0,
          18,
          0,
          32,
          22,
          22,
          0,
          16,
          16,
          0,
          42,
          18,
          27,
          27,
          27,
          1,
          27,
          27,
          0,
          0,
          4,
          28,
          4,
          30,
          38,
          2,
          22,
          32,
          3,
          45,
          15,
          0,
          45,
          38,
          38,
          45,
          38,
          24,
          3,
          0,
          3,
          3,
          0,
          24,
          18,
          0,
          39,
          0,
          10,
          3,
          4,
          4,
          28,
          3,
          24,
          0,
          0,
          3,
          46,
          16,
          0,
          24,
          0,
          0,
          0,
          13,
          33,
          33,
          13,
          13,
          4,
          13,
          33,
          33,
          0,
          40,
          10,
          0,
          0,
          2,
          45,
          0,
          34,
          17,
          0,
          0,
          34,
          0,
          30,
          0,
          33,
          0,
          0,
          0,
          24,
          3,
          0,
          20,
          22,
          22,
          10,
          18,
          2,
          8,
          0,
          0,
          17,
          18,
          10,
          8,
          4,
          4,
          4,
          48,
          7,
          2,
          2,
          0,
          16,
          33,
          22,
          18,
          22,
          22,
          22,
          36,
          10,
          40,
          22,
          22,
          22,
          33,
          0,
          40,
          36,
          10,
          3,
          2,
          2,
          2,
          16,
          0,
          7,
          7,
          10,
          7,
          30,
          0,
          4,
          0,
          13,
          12,
          18,
          10,
          28,
          24,
          45,
          4,
          8,
          14,
          40,
          14,
          40,
          41,
          7,
          35,
          4,
          15,
          14,
          16,
          31,
          31,
          40,
          40,
          10,
          10,
          7,
          12,
          31,
          31,
          1,
          7,
          1,
          28,
          16,
          48,
          48,
          14,
          34,
          30,
          6,
          49,
          6,
          48,
          48,
          29,
          20,
          10,
          24,
          16,
          22,
          16,
          16,
          31,
          12,
          31,
          31,
          0,
          16,
          12,
          48,
          6,
          6,
          7,
          45,
          16,
          14,
          40,
          0,
          48,
          33,
          0,
          48,
          3,
          28,
          23,
          12,
          31,
          0,
          31,
          12,
          24,
          48,
          10,
          28,
          23,
          1,
          31,
          31,
          12,
          8,
          0,
          30,
          6,
          6,
          22,
          40,
          6,
          12,
          0,
          12,
          6,
          6,
          13,
          22,
          40,
          12,
          48,
          12,
          44,
          48,
          6,
          45,
          31,
          16,
          48,
          16,
          3,
          31,
          12,
          23,
          6,
          40,
          18,
          13,
          31,
          0,
          28,
          30,
          12,
          20,
          6,
          43,
          0,
          44,
          34,
          34,
          43,
          16,
          40,
          22,
          38,
          30,
          22,
          10,
          28,
          34,
          22,
          28,
          40,
          31,
          16,
          44,
          21,
          22,
          7,
          12,
          22,
          36,
          43,
          41,
          48,
          24,
          0,
          22,
          0,
          0,
          0,
          22,
          0,
          2,
          45,
          0,
          0,
          0,
          22,
          0,
          30,
          10,
          49,
          16,
          45,
          3,
          3,
          0,
          0,
          0,
          0,
          0,
          0,
          22,
          0,
          15,
          0,
          0,
          0,
          0,
          0,
          0,
          0,
          0,
          0,
          0,
          0,
          0,
          0,
          0,
          0,
          0,
          0,
          0,
          0,
          0,
          0,
          0,
          0,
          0,
          0,
          0,
          0,
          0,
          0,
          0,
          0,
          0,
          0,
          0,
          0,
          0,
          0,
          0,
          0,
          0,
          0,
          0,
          0,
          0,
          0,
          0,
          0,
          0,
          0,
          0,
          0,
          0,
          0,
          0,
          0
         ],
         "xaxis": "x",
         "y": [
          null,
          null,
          null,
          null,
          null,
          null,
          null,
          null,
          null,
          null,
          null,
          null,
          null,
          null,
          null,
          null,
          null,
          null,
          null,
          null,
          8.8,
          null,
          6.4,
          null,
          null,
          null,
          null,
          null,
          null,
          null,
          7.3,
          null,
          null,
          null,
          null,
          null,
          6.6,
          8.6,
          8.6,
          null,
          null,
          null,
          null,
          4.6,
          8.7,
          7.9,
          8.9,
          4.7,
          6.1,
          9.4,
          8.8,
          6.7,
          6.7,
          8.6,
          null,
          null,
          null,
          8.2,
          8.2,
          8.1,
          8.6,
          6.5,
          null,
          null,
          null,
          8,
          8.5,
          8.4,
          8.2,
          8.1,
          null,
          6.8,
          5.3,
          5.9,
          4.3,
          null,
          7.1,
          6.4,
          null,
          4.3,
          null,
          6.8,
          5.9,
          5.1,
          4.8,
          6.6,
          null,
          6.5,
          8.9,
          null,
          null,
          null,
          4.9,
          null,
          null,
          5.2,
          null,
          null,
          null,
          7.8,
          7.3,
          null,
          null,
          5.7,
          6.9,
          7.3,
          8.5,
          7.3,
          6.5,
          5.4,
          7,
          8.4,
          5.5,
          6.8,
          5.3,
          6.5,
          5.7,
          null,
          6.7,
          7.8,
          4.8,
          6.4,
          4.8,
          5.4,
          2.9,
          null,
          6.6,
          null,
          null,
          8.1,
          7.5,
          7.7,
          5.5,
          8,
          7.3,
          7.7,
          8.8,
          7,
          null,
          null,
          null,
          8.4,
          null,
          8,
          8.3,
          8.2,
          6.7,
          7.5,
          7.8,
          6.7,
          7.1,
          6.8,
          null,
          null,
          5.4,
          6.3,
          8.2,
          6.6,
          7.6,
          null,
          7.3,
          6.5,
          null,
          null,
          8.1,
          7.9,
          8.5,
          null,
          null,
          null,
          null,
          null,
          8.5,
          null,
          6.3,
          null,
          null,
          7.7,
          6.1,
          8.3,
          null,
          8.9,
          null,
          5.1,
          null,
          8.6,
          null,
          6.5,
          7.4,
          7.7,
          8,
          7.5,
          null,
          6.5,
          8.2,
          8.2,
          7.3,
          6.7,
          8.2,
          7.9,
          7.8,
          9.5,
          9.5,
          7.4,
          9.6,
          5.1,
          9.5,
          7.4,
          7.9,
          8.5,
          8.2,
          7,
          4,
          null,
          8.2,
          8.6,
          null,
          null,
          6.2,
          null,
          6.9,
          5,
          5.5,
          5.3,
          7.5,
          null,
          null,
          null,
          null,
          null,
          null,
          null,
          null,
          8.2,
          7.8,
          7.8,
          3.4,
          null,
          6,
          null,
          4,
          null,
          null,
          7.9,
          7.4,
          null,
          8.5,
          6.7,
          8.5,
          null,
          null,
          7.6,
          7.2,
          7.2,
          7.2,
          7.5,
          8,
          8.3,
          6.3,
          3.6,
          null,
          null,
          null,
          null,
          null,
          null,
          7.9,
          null,
          7.9,
          7.7,
          null,
          8.1,
          8.2,
          7.2,
          null,
          8,
          null,
          null,
          null,
          null,
          6.8,
          null,
          7.5,
          null,
          null,
          null,
          null,
          7.1,
          null,
          8.3,
          8.1,
          null,
          null,
          null,
          null,
          7.7,
          null,
          8.1,
          7.3,
          8.4,
          8.3,
          null,
          null,
          null,
          null,
          null,
          null,
          null,
          null,
          null,
          null,
          null,
          null,
          7,
          8.1,
          7.5,
          8.4,
          8.3,
          7.9,
          7.8,
          6,
          7.7,
          null,
          8.6,
          6.9,
          6.1,
          null,
          null,
          8.7,
          8.4,
          8.3,
          8.4,
          null,
          7.2,
          7.9,
          8.1,
          7.7,
          null,
          8.5,
          7.8,
          7.4,
          7.9,
          null,
          8.4,
          6.8,
          8.3,
          null,
          null,
          6.4,
          7.1,
          null,
          null,
          null,
          5.7,
          null,
          6.1,
          null,
          null,
          null,
          6.6,
          6.9,
          6.3,
          6,
          7,
          7.9,
          7.5,
          6.7,
          null,
          7.6,
          7.7,
          null,
          null,
          7.9,
          7.9,
          null,
          8.4,
          8.3,
          8.5,
          8.6,
          7.7,
          null,
          null,
          null,
          5.7,
          4.9,
          4.8,
          null,
          null,
          null,
          9,
          8.9,
          7.8,
          4.6,
          7.5,
          8.1,
          8.1,
          null,
          7.6,
          null,
          6.8,
          null,
          null,
          8.6,
          null,
          7.9,
          7.7,
          7.5,
          6.5,
          null,
          null,
          null,
          8.2,
          null,
          5.5,
          null,
          null,
          6.9,
          null,
          7.1,
          null,
          7.2,
          5.8,
          8,
          7.4,
          4.5,
          null,
          null,
          null,
          null,
          null,
          5,
          null,
          null,
          null,
          null,
          null,
          7.9,
          7.4,
          null,
          8.2,
          7.6,
          2.6,
          5.2,
          null,
          8.4,
          8.5,
          null,
          null,
          null,
          7.1,
          6.6,
          7.4,
          8.2,
          6.5,
          8,
          8.3,
          null,
          8.2,
          6.3,
          null,
          7.9,
          7.7,
          null,
          6.7,
          6.8,
          7.3,
          null,
          8.1,
          null,
          7.1,
          7.2,
          7,
          null,
          7.5,
          null,
          8.1,
          null,
          null,
          null,
          null,
          null,
          null,
          7.4,
          null,
          7.2,
          null,
          null,
          null,
          null,
          null,
          7.8,
          null,
          null,
          null,
          6.7,
          null,
          null,
          8.3,
          6.7,
          null,
          null,
          null,
          null,
          null,
          null,
          6.8,
          8,
          8,
          6.3,
          3.6,
          6.1,
          8.2,
          null,
          null,
          null,
          null,
          6.2,
          null,
          5.8,
          null,
          null,
          null,
          4.5,
          null,
          null,
          null,
          8.3,
          8.4,
          8.3,
          8.2,
          null,
          null,
          null,
          null,
          null,
          8.5,
          4.3,
          7.3,
          null,
          null,
          7.5,
          6.8,
          7.2,
          6.9,
          null,
          5.2,
          null,
          7.3,
          5.6,
          null,
          8.1,
          null,
          null,
          7.1,
          null,
          7.6,
          7.7,
          null,
          8,
          4.7,
          8.1,
          null,
          7.4,
          7.2,
          7.1,
          null,
          null,
          6,
          5.7,
          7.2,
          6.2,
          7.5,
          null,
          6.8,
          null,
          7,
          6.9,
          7.3,
          null,
          4.4,
          7.8,
          5.5,
          null,
          null,
          2.2,
          null,
          null,
          null,
          null,
          null,
          null,
          null,
          null,
          null,
          null,
          null,
          null,
          null,
          7.4,
          8.2,
          null,
          3.9,
          3.7,
          5.8,
          3.6,
          1.7,
          8.5,
          7.6,
          7.7,
          7.6,
          7.3,
          null,
          8,
          8.1,
          null,
          null,
          null,
          7.8,
          6.4,
          null,
          3.5,
          6.8,
          7.8,
          6.6,
          6,
          6.8,
          7.1,
          6.2,
          8.1,
          8.1,
          8.3,
          8,
          null,
          8.6,
          7.1,
          7.1,
          null,
          6.9,
          null,
          null,
          null,
          null,
          7.3,
          null,
          null,
          7.6,
          5.5,
          7.6,
          7.8,
          8,
          null,
          7.1,
          7.9,
          8.3,
          8.1,
          7.4,
          8.4,
          7.9,
          7.6,
          7.6,
          7.3,
          6.3,
          null,
          null,
          null,
          8.1,
          6.4,
          6.6,
          6.2,
          null,
          null,
          null,
          7.9,
          6.2,
          8.7,
          7.9,
          7.7,
          8,
          8.2,
          null,
          null,
          7.3,
          8.3,
          7.4,
          null,
          null,
          6.7,
          6.7,
          6.5,
          6.6,
          null,
          null,
          null,
          null,
          8.6,
          null,
          6.5,
          8.6,
          7.1,
          null,
          null,
          7.8,
          4.6,
          null,
          7.7,
          null,
          null,
          8.5,
          7.5,
          7.4,
          8.1,
          8.2,
          7.9,
          6.4,
          7.1,
          5.7,
          null,
          null,
          null,
          null,
          7.6,
          null,
          null,
          null,
          null,
          5.7,
          null,
          8.5,
          8.4,
          null,
          null,
          6.8,
          7.9,
          7.3,
          8.4,
          8.2,
          8.4,
          7.3,
          8.1,
          6.5,
          7.6,
          6.9,
          8,
          null,
          null,
          8.2,
          8.1,
          7.9,
          3.4,
          null,
          null,
          8.2,
          null,
          7.7,
          4.2,
          7.1,
          7.7,
          null,
          null,
          7.9,
          6.7,
          7.4,
          7.2,
          6.1,
          8.2,
          null,
          7.2,
          8,
          null,
          7.5,
          null,
          5.6,
          null,
          6.6,
          6.5,
          7.5,
          4.5,
          5.7,
          8,
          7.6,
          null,
          null,
          7.7,
          8.2,
          null,
          7.3,
          8.3,
          5.4,
          null,
          8.1,
          8.3,
          null,
          6.3,
          7.8,
          6.7,
          7.2,
          7.8,
          5.4,
          7.4,
          8.5,
          7.5,
          8.9,
          8.3,
          8.5,
          null,
          8.4,
          8.7,
          null,
          8.8,
          8.4,
          null,
          null,
          7.6,
          null,
          null,
          null,
          null,
          8.3,
          null,
          null,
          6.3,
          null,
          6.7,
          7.2,
          null,
          8.1,
          8.1,
          7.4,
          2.6,
          8.3,
          null,
          null,
          null,
          null,
          null,
          null,
          null,
          null,
          null,
          8.2,
          8.2,
          null,
          null,
          9.5,
          9.6,
          8.5,
          null,
          null,
          5.1,
          6,
          6.4,
          5.7,
          null,
          7.5,
          7.8,
          8.1,
          null,
          6.5,
          null,
          null,
          7.8,
          null,
          null,
          null,
          null,
          8.4,
          8.5,
          6.1,
          null,
          8.4,
          8,
          null,
          null,
          null,
          7.5,
          7.3,
          null,
          null,
          7,
          7.2,
          7.5,
          null,
          null,
          8.2,
          8.3,
          null,
          8.1,
          null,
          null,
          6.3,
          null,
          8.2,
          8.5,
          null,
          null,
          5.1,
          5.8,
          4.3,
          6.4,
          6,
          3.5,
          8.7,
          8.4,
          null,
          null,
          null,
          null,
          null,
          8.2,
          8,
          7.7,
          8,
          8.5,
          7.7,
          null,
          8.1,
          8.2,
          7.8,
          8.1,
          7.9,
          7.5,
          7.4,
          7.4,
          8.4,
          6.8,
          null,
          null,
          null,
          null,
          null,
          3.5,
          7.9,
          6.7,
          5.8,
          7.7,
          8.1,
          6.4,
          8.7,
          null,
          null,
          null,
          null,
          5.8,
          6.2,
          7.8,
          8.6,
          8.7,
          null,
          8.5,
          8,
          7.5,
          5.5,
          null,
          null,
          7.6,
          8.8,
          null,
          8.2,
          8.8,
          5.5,
          null,
          null,
          null,
          null,
          8.1,
          null,
          null,
          null,
          6.7,
          7.8,
          null,
          null,
          7.9,
          7.5,
          8.8,
          6.7,
          8.2,
          6.6,
          6.6,
          6.3,
          6.3,
          7.3,
          null,
          null,
          null,
          null,
          null,
          null,
          8.3,
          null,
          null,
          null,
          8.2,
          null,
          null,
          5.1,
          6.6,
          4.9,
          8.1,
          null,
          null,
          null,
          8.6,
          null,
          null,
          7,
          7.8,
          7.1,
          8.6,
          7.8,
          7.9,
          null,
          6.8,
          null,
          3.1,
          null,
          8.5,
          null,
          8.3,
          7,
          8.2,
          8.5,
          7.3,
          7.2,
          7.4,
          null,
          8.7,
          null,
          5.9,
          5.7,
          7.8,
          8.3,
          6.9,
          7.9,
          8.1,
          null,
          8.7,
          null,
          6.2,
          4.1,
          8,
          null,
          null,
          6.5,
          5.7,
          5.1,
          5.8,
          7.8,
          4.6,
          6.3,
          7.3,
          6.7,
          null,
          6,
          null,
          2.7,
          5.8,
          6,
          6.1,
          5.4,
          5.4,
          6.3,
          7.8,
          null,
          null,
          8.5,
          7.1,
          8.1,
          7.9,
          7.6,
          7.2,
          8.4,
          7,
          8,
          8.4,
          7.6,
          null,
          8.4,
          null,
          5.9,
          6.8,
          6.5,
          5.9,
          null,
          8.6,
          null,
          7,
          8,
          8.4,
          null,
          8.6,
          8,
          null,
          3,
          8.5,
          4.3,
          4.8,
          5.3,
          6.4,
          4,
          5.2,
          null,
          null,
          7.8,
          7.7,
          7.4,
          7.7,
          7.5,
          6.5,
          8,
          7.6,
          7.8,
          7.8,
          7.3,
          null,
          7.4,
          7.2,
          7.3,
          7.3,
          7.4,
          8.2,
          8.1,
          null,
          8.5,
          8.6,
          null,
          8.6,
          8.8,
          null,
          8,
          null,
          7,
          8.5,
          7.4,
          6.7,
          8.6,
          8.5,
          8.2,
          null,
          null,
          8.5,
          6.8,
          8.4,
          null,
          8.1,
          null,
          null,
          null,
          7.8,
          7,
          7.5,
          7.1,
          7.9,
          7.8,
          7.5,
          7.5,
          6.6,
          null,
          7.2,
          8.4,
          null,
          null,
          6.2,
          7.3,
          null,
          6.8,
          4.6,
          null,
          null,
          7.3,
          null,
          8.8,
          null,
          7.8,
          null,
          null,
          null,
          8.4,
          8.5,
          null,
          4.8,
          8.2,
          7.7,
          8.3,
          7.9,
          5.3,
          5.8,
          null,
          null,
          2.4,
          8.9,
          8.5,
          6,
          7.5,
          8.1,
          6.6,
          8.4,
          8.3,
          6.4,
          6.7,
          null,
          7.1,
          6.9,
          7.9,
          7.6,
          8.7,
          8.5,
          8.1,
          7.7,
          7.8,
          7.7,
          7.7,
          8.3,
          8.1,
          7.7,
          null,
          7.7,
          8.2,
          8.3,
          8.1,
          6,
          6.4,
          6,
          8.2,
          null,
          8.3,
          8.7,
          7.9,
          8.8,
          8,
          null,
          8.3,
          null,
          8.1,
          6.6,
          8.4,
          8.2,
          8.8,
          6.6,
          7.2,
          6.6,
          6.3,
          7.9,
          7.8,
          7.8,
          7.8,
          8.3,
          7.8,
          5.2,
          7.6,
          8.3,
          7.4,
          7.4,
          8.1,
          7.8,
          7.5,
          7,
          8.6,
          8.3,
          7.8,
          6.9,
          7.5,
          7.9,
          7.1,
          8.2,
          6.3,
          8.5,
          8.3,
          8.2,
          8,
          7,
          7.4,
          8.7,
          8.6,
          8.1,
          8.1,
          8.7,
          7.4,
          8.4,
          6.2,
          8.1,
          7.8,
          7.4,
          7.7,
          7.9,
          7.9,
          8.5,
          6.6,
          7.6,
          8.4,
          null,
          8.5,
          7,
          7.5,
          8.5,
          7.8,
          8.4,
          8.7,
          7.9,
          7.8,
          6.9,
          null,
          8.6,
          7.5,
          null,
          7.3,
          7.8,
          8.6,
          8.4,
          6.2,
          8.2,
          null,
          8.4,
          6.5,
          8.2,
          7.8,
          8.5,
          8.5,
          7.3,
          6.9,
          7.9,
          7.7,
          6.3,
          5.5,
          null,
          8,
          8,
          8.4,
          7.9,
          8.2,
          8.3,
          6.5,
          null,
          7,
          8.3,
          7.6,
          8.4,
          8,
          7.3,
          6.6,
          7.3,
          6,
          6.5,
          7.5,
          7.8,
          8,
          7.6,
          8.3,
          8.1,
          8.5,
          7.9,
          7.9,
          7.3,
          8.3,
          7.4,
          8,
          8.6,
          8,
          7.4,
          null,
          8.6,
          7.7,
          7.2,
          6.2,
          8.5,
          8.3,
          null,
          7.7,
          7.2,
          8,
          6.6,
          8.5,
          7.2,
          8.3,
          6.9,
          8.2,
          8.4,
          7.5,
          8.4,
          7.6,
          8.7,
          8.9,
          7.4,
          7.2,
          8.3,
          8.3,
          8.4,
          8.1,
          8.1,
          6.4,
          8,
          8,
          7.3,
          8.5,
          7.2,
          8.2,
          null,
          8.1,
          null,
          null,
          null,
          8.8,
          null,
          6.1,
          7.5,
          null,
          null,
          null,
          8.2,
          null,
          8,
          8.2,
          8,
          7.3,
          8.3,
          8.6,
          8.5,
          null,
          null,
          null,
          null,
          null,
          null,
          8.1,
          null,
          8.6,
          null,
          null,
          null,
          null,
          null,
          null,
          null,
          null,
          null,
          null,
          null,
          null,
          null,
          null,
          null,
          null,
          null,
          null,
          null,
          null,
          null,
          null,
          null,
          null,
          null,
          null,
          null,
          null,
          null,
          null,
          null,
          null,
          null,
          null,
          null,
          null,
          null,
          null,
          null,
          null,
          null,
          null,
          null,
          null,
          null,
          null,
          null,
          null,
          null,
          null,
          null,
          null,
          null,
          null,
          null
         ],
         "yaxis": "y"
        }
       ],
       "layout": {
        "barmode": "relative",
        "legend": {
         "tracegroupgap": 0
        },
        "margin": {
         "t": 60
        },
        "template": {
         "data": {
          "bar": [
           {
            "error_x": {
             "color": "#2a3f5f"
            },
            "error_y": {
             "color": "#2a3f5f"
            },
            "marker": {
             "line": {
              "color": "#E5ECF6",
              "width": 0.5
             },
             "pattern": {
              "fillmode": "overlay",
              "size": 10,
              "solidity": 0.2
             }
            },
            "type": "bar"
           }
          ],
          "barpolar": [
           {
            "marker": {
             "line": {
              "color": "#E5ECF6",
              "width": 0.5
             },
             "pattern": {
              "fillmode": "overlay",
              "size": 10,
              "solidity": 0.2
             }
            },
            "type": "barpolar"
           }
          ],
          "carpet": [
           {
            "aaxis": {
             "endlinecolor": "#2a3f5f",
             "gridcolor": "white",
             "linecolor": "white",
             "minorgridcolor": "white",
             "startlinecolor": "#2a3f5f"
            },
            "baxis": {
             "endlinecolor": "#2a3f5f",
             "gridcolor": "white",
             "linecolor": "white",
             "minorgridcolor": "white",
             "startlinecolor": "#2a3f5f"
            },
            "type": "carpet"
           }
          ],
          "choropleth": [
           {
            "colorbar": {
             "outlinewidth": 0,
             "ticks": ""
            },
            "type": "choropleth"
           }
          ],
          "contour": [
           {
            "colorbar": {
             "outlinewidth": 0,
             "ticks": ""
            },
            "colorscale": [
             [
              0,
              "#0d0887"
             ],
             [
              0.1111111111111111,
              "#46039f"
             ],
             [
              0.2222222222222222,
              "#7201a8"
             ],
             [
              0.3333333333333333,
              "#9c179e"
             ],
             [
              0.4444444444444444,
              "#bd3786"
             ],
             [
              0.5555555555555556,
              "#d8576b"
             ],
             [
              0.6666666666666666,
              "#ed7953"
             ],
             [
              0.7777777777777778,
              "#fb9f3a"
             ],
             [
              0.8888888888888888,
              "#fdca26"
             ],
             [
              1,
              "#f0f921"
             ]
            ],
            "type": "contour"
           }
          ],
          "contourcarpet": [
           {
            "colorbar": {
             "outlinewidth": 0,
             "ticks": ""
            },
            "type": "contourcarpet"
           }
          ],
          "heatmap": [
           {
            "colorbar": {
             "outlinewidth": 0,
             "ticks": ""
            },
            "colorscale": [
             [
              0,
              "#0d0887"
             ],
             [
              0.1111111111111111,
              "#46039f"
             ],
             [
              0.2222222222222222,
              "#7201a8"
             ],
             [
              0.3333333333333333,
              "#9c179e"
             ],
             [
              0.4444444444444444,
              "#bd3786"
             ],
             [
              0.5555555555555556,
              "#d8576b"
             ],
             [
              0.6666666666666666,
              "#ed7953"
             ],
             [
              0.7777777777777778,
              "#fb9f3a"
             ],
             [
              0.8888888888888888,
              "#fdca26"
             ],
             [
              1,
              "#f0f921"
             ]
            ],
            "type": "heatmap"
           }
          ],
          "heatmapgl": [
           {
            "colorbar": {
             "outlinewidth": 0,
             "ticks": ""
            },
            "colorscale": [
             [
              0,
              "#0d0887"
             ],
             [
              0.1111111111111111,
              "#46039f"
             ],
             [
              0.2222222222222222,
              "#7201a8"
             ],
             [
              0.3333333333333333,
              "#9c179e"
             ],
             [
              0.4444444444444444,
              "#bd3786"
             ],
             [
              0.5555555555555556,
              "#d8576b"
             ],
             [
              0.6666666666666666,
              "#ed7953"
             ],
             [
              0.7777777777777778,
              "#fb9f3a"
             ],
             [
              0.8888888888888888,
              "#fdca26"
             ],
             [
              1,
              "#f0f921"
             ]
            ],
            "type": "heatmapgl"
           }
          ],
          "histogram": [
           {
            "marker": {
             "pattern": {
              "fillmode": "overlay",
              "size": 10,
              "solidity": 0.2
             }
            },
            "type": "histogram"
           }
          ],
          "histogram2d": [
           {
            "colorbar": {
             "outlinewidth": 0,
             "ticks": ""
            },
            "colorscale": [
             [
              0,
              "#0d0887"
             ],
             [
              0.1111111111111111,
              "#46039f"
             ],
             [
              0.2222222222222222,
              "#7201a8"
             ],
             [
              0.3333333333333333,
              "#9c179e"
             ],
             [
              0.4444444444444444,
              "#bd3786"
             ],
             [
              0.5555555555555556,
              "#d8576b"
             ],
             [
              0.6666666666666666,
              "#ed7953"
             ],
             [
              0.7777777777777778,
              "#fb9f3a"
             ],
             [
              0.8888888888888888,
              "#fdca26"
             ],
             [
              1,
              "#f0f921"
             ]
            ],
            "type": "histogram2d"
           }
          ],
          "histogram2dcontour": [
           {
            "colorbar": {
             "outlinewidth": 0,
             "ticks": ""
            },
            "colorscale": [
             [
              0,
              "#0d0887"
             ],
             [
              0.1111111111111111,
              "#46039f"
             ],
             [
              0.2222222222222222,
              "#7201a8"
             ],
             [
              0.3333333333333333,
              "#9c179e"
             ],
             [
              0.4444444444444444,
              "#bd3786"
             ],
             [
              0.5555555555555556,
              "#d8576b"
             ],
             [
              0.6666666666666666,
              "#ed7953"
             ],
             [
              0.7777777777777778,
              "#fb9f3a"
             ],
             [
              0.8888888888888888,
              "#fdca26"
             ],
             [
              1,
              "#f0f921"
             ]
            ],
            "type": "histogram2dcontour"
           }
          ],
          "mesh3d": [
           {
            "colorbar": {
             "outlinewidth": 0,
             "ticks": ""
            },
            "type": "mesh3d"
           }
          ],
          "parcoords": [
           {
            "line": {
             "colorbar": {
              "outlinewidth": 0,
              "ticks": ""
             }
            },
            "type": "parcoords"
           }
          ],
          "pie": [
           {
            "automargin": true,
            "type": "pie"
           }
          ],
          "scatter": [
           {
            "fillpattern": {
             "fillmode": "overlay",
             "size": 10,
             "solidity": 0.2
            },
            "type": "scatter"
           }
          ],
          "scatter3d": [
           {
            "line": {
             "colorbar": {
              "outlinewidth": 0,
              "ticks": ""
             }
            },
            "marker": {
             "colorbar": {
              "outlinewidth": 0,
              "ticks": ""
             }
            },
            "type": "scatter3d"
           }
          ],
          "scattercarpet": [
           {
            "marker": {
             "colorbar": {
              "outlinewidth": 0,
              "ticks": ""
             }
            },
            "type": "scattercarpet"
           }
          ],
          "scattergeo": [
           {
            "marker": {
             "colorbar": {
              "outlinewidth": 0,
              "ticks": ""
             }
            },
            "type": "scattergeo"
           }
          ],
          "scattergl": [
           {
            "marker": {
             "colorbar": {
              "outlinewidth": 0,
              "ticks": ""
             }
            },
            "type": "scattergl"
           }
          ],
          "scattermapbox": [
           {
            "marker": {
             "colorbar": {
              "outlinewidth": 0,
              "ticks": ""
             }
            },
            "type": "scattermapbox"
           }
          ],
          "scatterpolar": [
           {
            "marker": {
             "colorbar": {
              "outlinewidth": 0,
              "ticks": ""
             }
            },
            "type": "scatterpolar"
           }
          ],
          "scatterpolargl": [
           {
            "marker": {
             "colorbar": {
              "outlinewidth": 0,
              "ticks": ""
             }
            },
            "type": "scatterpolargl"
           }
          ],
          "scatterternary": [
           {
            "marker": {
             "colorbar": {
              "outlinewidth": 0,
              "ticks": ""
             }
            },
            "type": "scatterternary"
           }
          ],
          "surface": [
           {
            "colorbar": {
             "outlinewidth": 0,
             "ticks": ""
            },
            "colorscale": [
             [
              0,
              "#0d0887"
             ],
             [
              0.1111111111111111,
              "#46039f"
             ],
             [
              0.2222222222222222,
              "#7201a8"
             ],
             [
              0.3333333333333333,
              "#9c179e"
             ],
             [
              0.4444444444444444,
              "#bd3786"
             ],
             [
              0.5555555555555556,
              "#d8576b"
             ],
             [
              0.6666666666666666,
              "#ed7953"
             ],
             [
              0.7777777777777778,
              "#fb9f3a"
             ],
             [
              0.8888888888888888,
              "#fdca26"
             ],
             [
              1,
              "#f0f921"
             ]
            ],
            "type": "surface"
           }
          ],
          "table": [
           {
            "cells": {
             "fill": {
              "color": "#EBF0F8"
             },
             "line": {
              "color": "white"
             }
            },
            "header": {
             "fill": {
              "color": "#C8D4E3"
             },
             "line": {
              "color": "white"
             }
            },
            "type": "table"
           }
          ]
         },
         "layout": {
          "annotationdefaults": {
           "arrowcolor": "#2a3f5f",
           "arrowhead": 0,
           "arrowwidth": 1
          },
          "autotypenumbers": "strict",
          "coloraxis": {
           "colorbar": {
            "outlinewidth": 0,
            "ticks": ""
           }
          },
          "colorscale": {
           "diverging": [
            [
             0,
             "#8e0152"
            ],
            [
             0.1,
             "#c51b7d"
            ],
            [
             0.2,
             "#de77ae"
            ],
            [
             0.3,
             "#f1b6da"
            ],
            [
             0.4,
             "#fde0ef"
            ],
            [
             0.5,
             "#f7f7f7"
            ],
            [
             0.6,
             "#e6f5d0"
            ],
            [
             0.7,
             "#b8e186"
            ],
            [
             0.8,
             "#7fbc41"
            ],
            [
             0.9,
             "#4d9221"
            ],
            [
             1,
             "#276419"
            ]
           ],
           "sequential": [
            [
             0,
             "#0d0887"
            ],
            [
             0.1111111111111111,
             "#46039f"
            ],
            [
             0.2222222222222222,
             "#7201a8"
            ],
            [
             0.3333333333333333,
             "#9c179e"
            ],
            [
             0.4444444444444444,
             "#bd3786"
            ],
            [
             0.5555555555555556,
             "#d8576b"
            ],
            [
             0.6666666666666666,
             "#ed7953"
            ],
            [
             0.7777777777777778,
             "#fb9f3a"
            ],
            [
             0.8888888888888888,
             "#fdca26"
            ],
            [
             1,
             "#f0f921"
            ]
           ],
           "sequentialminus": [
            [
             0,
             "#0d0887"
            ],
            [
             0.1111111111111111,
             "#46039f"
            ],
            [
             0.2222222222222222,
             "#7201a8"
            ],
            [
             0.3333333333333333,
             "#9c179e"
            ],
            [
             0.4444444444444444,
             "#bd3786"
            ],
            [
             0.5555555555555556,
             "#d8576b"
            ],
            [
             0.6666666666666666,
             "#ed7953"
            ],
            [
             0.7777777777777778,
             "#fb9f3a"
            ],
            [
             0.8888888888888888,
             "#fdca26"
            ],
            [
             1,
             "#f0f921"
            ]
           ]
          },
          "colorway": [
           "#636efa",
           "#EF553B",
           "#00cc96",
           "#ab63fa",
           "#FFA15A",
           "#19d3f3",
           "#FF6692",
           "#B6E880",
           "#FF97FF",
           "#FECB52"
          ],
          "font": {
           "color": "#2a3f5f"
          },
          "geo": {
           "bgcolor": "white",
           "lakecolor": "white",
           "landcolor": "#E5ECF6",
           "showlakes": true,
           "showland": true,
           "subunitcolor": "white"
          },
          "hoverlabel": {
           "align": "left"
          },
          "hovermode": "closest",
          "mapbox": {
           "style": "light"
          },
          "paper_bgcolor": "white",
          "plot_bgcolor": "#E5ECF6",
          "polar": {
           "angularaxis": {
            "gridcolor": "white",
            "linecolor": "white",
            "ticks": ""
           },
           "bgcolor": "#E5ECF6",
           "radialaxis": {
            "gridcolor": "white",
            "linecolor": "white",
            "ticks": ""
           }
          },
          "scene": {
           "xaxis": {
            "backgroundcolor": "#E5ECF6",
            "gridcolor": "white",
            "gridwidth": 2,
            "linecolor": "white",
            "showbackground": true,
            "ticks": "",
            "zerolinecolor": "white"
           },
           "yaxis": {
            "backgroundcolor": "#E5ECF6",
            "gridcolor": "white",
            "gridwidth": 2,
            "linecolor": "white",
            "showbackground": true,
            "ticks": "",
            "zerolinecolor": "white"
           },
           "zaxis": {
            "backgroundcolor": "#E5ECF6",
            "gridcolor": "white",
            "gridwidth": 2,
            "linecolor": "white",
            "showbackground": true,
            "ticks": "",
            "zerolinecolor": "white"
           }
          },
          "shapedefaults": {
           "line": {
            "color": "#2a3f5f"
           }
          },
          "ternary": {
           "aaxis": {
            "gridcolor": "white",
            "linecolor": "white",
            "ticks": ""
           },
           "baxis": {
            "gridcolor": "white",
            "linecolor": "white",
            "ticks": ""
           },
           "bgcolor": "#E5ECF6",
           "caxis": {
            "gridcolor": "white",
            "linecolor": "white",
            "ticks": ""
           }
          },
          "title": {
           "x": 0.05
          },
          "xaxis": {
           "automargin": true,
           "gridcolor": "white",
           "linecolor": "white",
           "ticks": "",
           "title": {
            "standoff": 15
           },
           "zerolinecolor": "white",
           "zerolinewidth": 2
          },
          "yaxis": {
           "automargin": true,
           "gridcolor": "white",
           "linecolor": "white",
           "ticks": "",
           "title": {
            "standoff": 15
           },
           "zerolinecolor": "white",
           "zerolinewidth": 2
          }
         }
        },
        "xaxis": {
         "anchor": "y",
         "domain": [
          0,
          1
         ],
         "title": {
          "text": "cluster"
         }
        },
        "yaxis": {
         "anchor": "x",
         "domain": [
          0,
          1
         ],
         "title": {
          "text": "user_score"
         }
        }
       }
      }
     },
     "metadata": {},
     "output_type": "display_data"
    }
   ],
   "source": [
    "px.bar(df, x='cluster', y='user_score')"
   ]
  },
  {
   "cell_type": "code",
   "execution_count": 268,
   "metadata": {},
   "outputs": [
    {
     "data": {
      "text/html": [
       "<div>\n",
       "<style scoped>\n",
       "    .dataframe tbody tr th:only-of-type {\n",
       "        vertical-align: middle;\n",
       "    }\n",
       "\n",
       "    .dataframe tbody tr th {\n",
       "        vertical-align: top;\n",
       "    }\n",
       "\n",
       "    .dataframe thead th {\n",
       "        text-align: right;\n",
       "    }\n",
       "</style>\n",
       "<table border=\"1\" class=\"dataframe\">\n",
       "  <thead>\n",
       "    <tr style=\"text-align: right;\">\n",
       "      <th></th>\n",
       "      <th>meta_score</th>\n",
       "      <th>title</th>\n",
       "      <th>platform</th>\n",
       "      <th>date</th>\n",
       "      <th>user_score</th>\n",
       "      <th>link</th>\n",
       "      <th>esrb_rating</th>\n",
       "      <th>developers</th>\n",
       "      <th>genres</th>\n",
       "      <th>date_dt</th>\n",
       "      <th>...</th>\n",
       "      <th>Card Battle</th>\n",
       "      <th>GT / Street</th>\n",
       "      <th>Tycoon</th>\n",
       "      <th>Volleyball</th>\n",
       "      <th>Stock Car</th>\n",
       "      <th>Trivia / Game Show</th>\n",
       "      <th>Golf</th>\n",
       "      <th>Street</th>\n",
       "      <th>Demo Disc</th>\n",
       "      <th>cluster</th>\n",
       "    </tr>\n",
       "  </thead>\n",
       "  <tbody>\n",
       "    <tr>\n",
       "      <th>92</th>\n",
       "      <td>77.0</td>\n",
       "      <td>Persona 4 Arena Ultimax</td>\n",
       "      <td>PC</td>\n",
       "      <td>Mar 17, 2022</td>\n",
       "      <td>4.9</td>\n",
       "      <td>/game/pc/persona-4-arena-ultimax</td>\n",
       "      <td>T</td>\n",
       "      <td>['Arc System Works']</td>\n",
       "      <td>['Action', 'Fighting', '2D']</td>\n",
       "      <td>2022-03-17</td>\n",
       "      <td>...</td>\n",
       "      <td>0.0</td>\n",
       "      <td>0.0</td>\n",
       "      <td>0.0</td>\n",
       "      <td>0.0</td>\n",
       "      <td>0.0</td>\n",
       "      <td>0.0</td>\n",
       "      <td>0.0</td>\n",
       "      <td>0.0</td>\n",
       "      <td>0.0</td>\n",
       "      <td>20.0</td>\n",
       "    </tr>\n",
       "    <tr>\n",
       "      <th>154</th>\n",
       "      <td>73.0</td>\n",
       "      <td>Football Manager 2021 Touch</td>\n",
       "      <td>Switch</td>\n",
       "      <td>Dec 14, 2020</td>\n",
       "      <td>5.4</td>\n",
       "      <td>/game/switch/football-manager-2021-touch</td>\n",
       "      <td>NaN</td>\n",
       "      <td>['Sports Interactive']</td>\n",
       "      <td>['Action', 'Sports', 'General', 'Team', 'Socce...</td>\n",
       "      <td>2020-12-14</td>\n",
       "      <td>...</td>\n",
       "      <td>0.0</td>\n",
       "      <td>0.0</td>\n",
       "      <td>0.0</td>\n",
       "      <td>0.0</td>\n",
       "      <td>0.0</td>\n",
       "      <td>0.0</td>\n",
       "      <td>0.0</td>\n",
       "      <td>0.0</td>\n",
       "      <td>0.0</td>\n",
       "      <td>20.0</td>\n",
       "    </tr>\n",
       "    <tr>\n",
       "      <th>430</th>\n",
       "      <td>NaN</td>\n",
       "      <td>10 Minute Tower</td>\n",
       "      <td>PC</td>\n",
       "      <td>Jul 26, 2016</td>\n",
       "      <td>5.0</td>\n",
       "      <td>/game/pc/10-minute-tower</td>\n",
       "      <td>NaN</td>\n",
       "      <td>['Team17']</td>\n",
       "      <td>['Puzzle', 'Action']</td>\n",
       "      <td>2016-07-26</td>\n",
       "      <td>...</td>\n",
       "      <td>0.0</td>\n",
       "      <td>0.0</td>\n",
       "      <td>0.0</td>\n",
       "      <td>0.0</td>\n",
       "      <td>0.0</td>\n",
       "      <td>0.0</td>\n",
       "      <td>0.0</td>\n",
       "      <td>0.0</td>\n",
       "      <td>0.0</td>\n",
       "      <td>20.0</td>\n",
       "    </tr>\n",
       "    <tr>\n",
       "      <th>545</th>\n",
       "      <td>NaN</td>\n",
       "      <td>Warhammer 40,000: Kill Team</td>\n",
       "      <td>PC</td>\n",
       "      <td>May 22, 2014</td>\n",
       "      <td>5.2</td>\n",
       "      <td>/game/pc/warhammer-40000-kill-team</td>\n",
       "      <td>NaN</td>\n",
       "      <td>['Nomad Games']</td>\n",
       "      <td>['Action', 'Shooter', 'Third-Person', 'Sci-Fi'...</td>\n",
       "      <td>2014-05-22</td>\n",
       "      <td>...</td>\n",
       "      <td>0.0</td>\n",
       "      <td>0.0</td>\n",
       "      <td>0.0</td>\n",
       "      <td>0.0</td>\n",
       "      <td>0.0</td>\n",
       "      <td>0.0</td>\n",
       "      <td>0.0</td>\n",
       "      <td>0.0</td>\n",
       "      <td>0.0</td>\n",
       "      <td>20.0</td>\n",
       "    </tr>\n",
       "    <tr>\n",
       "      <th>581</th>\n",
       "      <td>NaN</td>\n",
       "      <td>Aliens: Colonial Marines - Stasis Interrupted</td>\n",
       "      <td>PC</td>\n",
       "      <td>Jul 23, 2013</td>\n",
       "      <td>5.5</td>\n",
       "      <td>/game/pc/aliens-colonial-marines---stasis-inte...</td>\n",
       "      <td>M</td>\n",
       "      <td>['Gearbox Software']</td>\n",
       "      <td>['Action', 'Shooter', 'Shooter', 'First-Person...</td>\n",
       "      <td>2013-07-23</td>\n",
       "      <td>...</td>\n",
       "      <td>0.0</td>\n",
       "      <td>0.0</td>\n",
       "      <td>0.0</td>\n",
       "      <td>0.0</td>\n",
       "      <td>0.0</td>\n",
       "      <td>0.0</td>\n",
       "      <td>0.0</td>\n",
       "      <td>0.0</td>\n",
       "      <td>0.0</td>\n",
       "      <td>20.0</td>\n",
       "    </tr>\n",
       "    <tr>\n",
       "      <th>661</th>\n",
       "      <td>59.0</td>\n",
       "      <td>Total War Battles: SHOGUN</td>\n",
       "      <td>PC</td>\n",
       "      <td>Aug 29, 2012</td>\n",
       "      <td>6.3</td>\n",
       "      <td>/game/pc/total-war-battles-shogun</td>\n",
       "      <td>NaN</td>\n",
       "      <td>['Sega']</td>\n",
       "      <td>['Action', 'General', 'General']</td>\n",
       "      <td>2012-08-29</td>\n",
       "      <td>...</td>\n",
       "      <td>0.0</td>\n",
       "      <td>0.0</td>\n",
       "      <td>0.0</td>\n",
       "      <td>0.0</td>\n",
       "      <td>0.0</td>\n",
       "      <td>0.0</td>\n",
       "      <td>0.0</td>\n",
       "      <td>0.0</td>\n",
       "      <td>0.0</td>\n",
       "      <td>20.0</td>\n",
       "    </tr>\n",
       "    <tr>\n",
       "      <th>725</th>\n",
       "      <td>NaN</td>\n",
       "      <td>Renegade Ops: Coldstrike Campaign</td>\n",
       "      <td>PC</td>\n",
       "      <td>Dec 19, 2011</td>\n",
       "      <td>5.7</td>\n",
       "      <td>/game/pc/renegade-ops-coldstrike-campaign</td>\n",
       "      <td>NaN</td>\n",
       "      <td>['Avalanche Studios']</td>\n",
       "      <td>['Action', 'General', 'General', 'Shooter', \"S...</td>\n",
       "      <td>2011-12-19</td>\n",
       "      <td>...</td>\n",
       "      <td>0.0</td>\n",
       "      <td>0.0</td>\n",
       "      <td>0.0</td>\n",
       "      <td>0.0</td>\n",
       "      <td>0.0</td>\n",
       "      <td>0.0</td>\n",
       "      <td>0.0</td>\n",
       "      <td>0.0</td>\n",
       "      <td>0.0</td>\n",
       "      <td>20.0</td>\n",
       "    </tr>\n",
       "    <tr>\n",
       "      <th>739</th>\n",
       "      <td>51.0</td>\n",
       "      <td>Captain America: Super Soldier</td>\n",
       "      <td>3DS</td>\n",
       "      <td>Oct 25, 2011</td>\n",
       "      <td>6.5</td>\n",
       "      <td>/game/3ds/captain-america-super-soldier</td>\n",
       "      <td>T</td>\n",
       "      <td>['High Voltage Software']</td>\n",
       "      <td>['Action', 'Action Adventure', 'General', 'Gen...</td>\n",
       "      <td>2011-10-25</td>\n",
       "      <td>...</td>\n",
       "      <td>0.0</td>\n",
       "      <td>0.0</td>\n",
       "      <td>0.0</td>\n",
       "      <td>0.0</td>\n",
       "      <td>0.0</td>\n",
       "      <td>0.0</td>\n",
       "      <td>0.0</td>\n",
       "      <td>0.0</td>\n",
       "      <td>0.0</td>\n",
       "      <td>20.0</td>\n",
       "    </tr>\n",
       "    <tr>\n",
       "      <th>777</th>\n",
       "      <td>38.0</td>\n",
       "      <td>Thor: God of Thunder</td>\n",
       "      <td>X360</td>\n",
       "      <td>May 3, 2011</td>\n",
       "      <td>5.7</td>\n",
       "      <td>/game/xbox-360/thor-god-of-thunder</td>\n",
       "      <td>T</td>\n",
       "      <td>['Liquid Entertainment']</td>\n",
       "      <td>['Action', 'General', 'General', \"Beat-'Em-Up\"...</td>\n",
       "      <td>2011-05-03</td>\n",
       "      <td>...</td>\n",
       "      <td>0.0</td>\n",
       "      <td>0.0</td>\n",
       "      <td>0.0</td>\n",
       "      <td>0.0</td>\n",
       "      <td>0.0</td>\n",
       "      <td>0.0</td>\n",
       "      <td>0.0</td>\n",
       "      <td>0.0</td>\n",
       "      <td>0.0</td>\n",
       "      <td>20.0</td>\n",
       "    </tr>\n",
       "    <tr>\n",
       "      <th>787</th>\n",
       "      <td>55.0</td>\n",
       "      <td>Super Monkey Ball 3D</td>\n",
       "      <td>3DS</td>\n",
       "      <td>Mar 27, 2011</td>\n",
       "      <td>5.4</td>\n",
       "      <td>/game/3ds/super-monkey-ball-3d</td>\n",
       "      <td>E</td>\n",
       "      <td>['Sega']</td>\n",
       "      <td>['Action', 'General', 'General']</td>\n",
       "      <td>2011-03-27</td>\n",
       "      <td>...</td>\n",
       "      <td>0.0</td>\n",
       "      <td>0.0</td>\n",
       "      <td>0.0</td>\n",
       "      <td>0.0</td>\n",
       "      <td>0.0</td>\n",
       "      <td>0.0</td>\n",
       "      <td>0.0</td>\n",
       "      <td>0.0</td>\n",
       "      <td>0.0</td>\n",
       "      <td>20.0</td>\n",
       "    </tr>\n",
       "    <tr>\n",
       "      <th>820</th>\n",
       "      <td>68.0</td>\n",
       "      <td>Sonic Spinball</td>\n",
       "      <td>iOS</td>\n",
       "      <td>Dec 16, 2010</td>\n",
       "      <td>6.3</td>\n",
       "      <td>/game/ios/sonic-spinball</td>\n",
       "      <td>NaN</td>\n",
       "      <td>['Sega']</td>\n",
       "      <td>['Action', 'Puzzle', 'General', 'General', 'Pi...</td>\n",
       "      <td>2010-12-16</td>\n",
       "      <td>...</td>\n",
       "      <td>0.0</td>\n",
       "      <td>0.0</td>\n",
       "      <td>0.0</td>\n",
       "      <td>0.0</td>\n",
       "      <td>0.0</td>\n",
       "      <td>0.0</td>\n",
       "      <td>0.0</td>\n",
       "      <td>0.0</td>\n",
       "      <td>0.0</td>\n",
       "      <td>20.0</td>\n",
       "    </tr>\n",
       "    <tr>\n",
       "      <th>848</th>\n",
       "      <td>72.0</td>\n",
       "      <td>Sonic the Hedgehog 4: Episode I</td>\n",
       "      <td>X360</td>\n",
       "      <td>Oct 13, 2010</td>\n",
       "      <td>5.1</td>\n",
       "      <td>/game/xbox-360/sonic-the-hedgehog-4-episode-i</td>\n",
       "      <td>E</td>\n",
       "      <td>['Dimps Corporation']</td>\n",
       "      <td>['Action', 'General', 'Platformer', 'Platforme...</td>\n",
       "      <td>2010-10-13</td>\n",
       "      <td>...</td>\n",
       "      <td>0.0</td>\n",
       "      <td>0.0</td>\n",
       "      <td>0.0</td>\n",
       "      <td>0.0</td>\n",
       "      <td>0.0</td>\n",
       "      <td>0.0</td>\n",
       "      <td>0.0</td>\n",
       "      <td>0.0</td>\n",
       "      <td>0.0</td>\n",
       "      <td>20.0</td>\n",
       "    </tr>\n",
       "    <tr>\n",
       "      <th>851</th>\n",
       "      <td>70.0</td>\n",
       "      <td>Sonic the Hedgehog 4: Episode 1</td>\n",
       "      <td>iOS</td>\n",
       "      <td>Oct 7, 2010</td>\n",
       "      <td>5.7</td>\n",
       "      <td>/game/ios/sonic-the-hedgehog-4-episode-1</td>\n",
       "      <td>NaN</td>\n",
       "      <td>['Sega']</td>\n",
       "      <td>['Action', 'General', 'Platformer', 'Platforme...</td>\n",
       "      <td>2010-10-07</td>\n",
       "      <td>...</td>\n",
       "      <td>0.0</td>\n",
       "      <td>0.0</td>\n",
       "      <td>0.0</td>\n",
       "      <td>0.0</td>\n",
       "      <td>0.0</td>\n",
       "      <td>0.0</td>\n",
       "      <td>0.0</td>\n",
       "      <td>0.0</td>\n",
       "      <td>0.0</td>\n",
       "      <td>20.0</td>\n",
       "    </tr>\n",
       "    <tr>\n",
       "      <th>867</th>\n",
       "      <td>NaN</td>\n",
       "      <td>Sonic the Hedgehog Spinball</td>\n",
       "      <td>PC</td>\n",
       "      <td>Sep 13, 2010</td>\n",
       "      <td>6.1</td>\n",
       "      <td>/game/pc/sonic-the-hedgehog-spinball</td>\n",
       "      <td>E</td>\n",
       "      <td>['Sega']</td>\n",
       "      <td>['Action', 'Miscellaneous', 'Puzzle', 'Puzzle'...</td>\n",
       "      <td>2010-09-13</td>\n",
       "      <td>...</td>\n",
       "      <td>0.0</td>\n",
       "      <td>0.0</td>\n",
       "      <td>0.0</td>\n",
       "      <td>0.0</td>\n",
       "      <td>0.0</td>\n",
       "      <td>0.0</td>\n",
       "      <td>0.0</td>\n",
       "      <td>0.0</td>\n",
       "      <td>0.0</td>\n",
       "      <td>20.0</td>\n",
       "    </tr>\n",
       "    <tr>\n",
       "      <th>896</th>\n",
       "      <td>41.0</td>\n",
       "      <td>Iron Man 2</td>\n",
       "      <td>X360</td>\n",
       "      <td>May 4, 2010</td>\n",
       "      <td>5.8</td>\n",
       "      <td>/game/xbox-360/iron-man-2</td>\n",
       "      <td>T</td>\n",
       "      <td>['Sega Studios San Francisco']</td>\n",
       "      <td>['Action', 'Action Adventure', 'General', 'Gen...</td>\n",
       "      <td>2010-05-04</td>\n",
       "      <td>...</td>\n",
       "      <td>0.0</td>\n",
       "      <td>0.0</td>\n",
       "      <td>0.0</td>\n",
       "      <td>0.0</td>\n",
       "      <td>0.0</td>\n",
       "      <td>0.0</td>\n",
       "      <td>0.0</td>\n",
       "      <td>0.0</td>\n",
       "      <td>0.0</td>\n",
       "      <td>20.0</td>\n",
       "    </tr>\n",
       "    <tr>\n",
       "      <th>898</th>\n",
       "      <td>54.0</td>\n",
       "      <td>Iron Man 2</td>\n",
       "      <td>DS</td>\n",
       "      <td>May 4, 2010</td>\n",
       "      <td>6.4</td>\n",
       "      <td>/game/ds/iron-man-2</td>\n",
       "      <td>E10+</td>\n",
       "      <td>['Sega Studios San Francisco']</td>\n",
       "      <td>['Action', 'Action Adventure', 'General', 'Gen...</td>\n",
       "      <td>2010-05-04</td>\n",
       "      <td>...</td>\n",
       "      <td>0.0</td>\n",
       "      <td>0.0</td>\n",
       "      <td>0.0</td>\n",
       "      <td>0.0</td>\n",
       "      <td>0.0</td>\n",
       "      <td>0.0</td>\n",
       "      <td>0.0</td>\n",
       "      <td>0.0</td>\n",
       "      <td>0.0</td>\n",
       "      <td>20.0</td>\n",
       "    </tr>\n",
       "    <tr>\n",
       "      <th>899</th>\n",
       "      <td>49.0</td>\n",
       "      <td>Iron Man 2</td>\n",
       "      <td>PSP</td>\n",
       "      <td>May 3, 2010</td>\n",
       "      <td>6.0</td>\n",
       "      <td>/game/psp/iron-man-2</td>\n",
       "      <td>T</td>\n",
       "      <td>['High Voltage Software']</td>\n",
       "      <td>['Action', 'Action Adventure', 'General', 'Gen...</td>\n",
       "      <td>2010-05-03</td>\n",
       "      <td>...</td>\n",
       "      <td>0.0</td>\n",
       "      <td>0.0</td>\n",
       "      <td>0.0</td>\n",
       "      <td>0.0</td>\n",
       "      <td>0.0</td>\n",
       "      <td>0.0</td>\n",
       "      <td>0.0</td>\n",
       "      <td>0.0</td>\n",
       "      <td>0.0</td>\n",
       "      <td>20.0</td>\n",
       "    </tr>\n",
       "    <tr>\n",
       "      <th>942</th>\n",
       "      <td>53.0</td>\n",
       "      <td>Planet 51 The Game</td>\n",
       "      <td>WII</td>\n",
       "      <td>Nov 17, 2009</td>\n",
       "      <td>5.8</td>\n",
       "      <td>/game/wii/planet-51-the-game</td>\n",
       "      <td>E</td>\n",
       "      <td>['Pyro Studios']</td>\n",
       "      <td>['Action', 'Action Adventure', 'General', 'Gen...</td>\n",
       "      <td>2009-11-17</td>\n",
       "      <td>...</td>\n",
       "      <td>0.0</td>\n",
       "      <td>0.0</td>\n",
       "      <td>0.0</td>\n",
       "      <td>0.0</td>\n",
       "      <td>0.0</td>\n",
       "      <td>0.0</td>\n",
       "      <td>0.0</td>\n",
       "      <td>0.0</td>\n",
       "      <td>0.0</td>\n",
       "      <td>20.0</td>\n",
       "    </tr>\n",
       "    <tr>\n",
       "      <th>1028</th>\n",
       "      <td>45.0</td>\n",
       "      <td>Golden Axe: Beast Rider</td>\n",
       "      <td>X360</td>\n",
       "      <td>Oct 14, 2008</td>\n",
       "      <td>5.9</td>\n",
       "      <td>/game/xbox-360/golden-axe-beast-rider</td>\n",
       "      <td>M</td>\n",
       "      <td>['Secret Level']</td>\n",
       "      <td>['Action', 'General', 'General']</td>\n",
       "      <td>2008-10-14</td>\n",
       "      <td>...</td>\n",
       "      <td>0.0</td>\n",
       "      <td>0.0</td>\n",
       "      <td>0.0</td>\n",
       "      <td>0.0</td>\n",
       "      <td>0.0</td>\n",
       "      <td>0.0</td>\n",
       "      <td>0.0</td>\n",
       "      <td>0.0</td>\n",
       "      <td>0.0</td>\n",
       "      <td>20.0</td>\n",
       "    </tr>\n",
       "    <tr>\n",
       "      <th>1029</th>\n",
       "      <td>44.0</td>\n",
       "      <td>Golden Axe: Beast Rider</td>\n",
       "      <td>PS3</td>\n",
       "      <td>Oct 14, 2008</td>\n",
       "      <td>5.7</td>\n",
       "      <td>/game/playstation-3/golden-axe-beast-rider</td>\n",
       "      <td>M</td>\n",
       "      <td>['Secret Level']</td>\n",
       "      <td>['Action', 'General', 'General']</td>\n",
       "      <td>2008-10-14</td>\n",
       "      <td>...</td>\n",
       "      <td>0.0</td>\n",
       "      <td>0.0</td>\n",
       "      <td>0.0</td>\n",
       "      <td>0.0</td>\n",
       "      <td>0.0</td>\n",
       "      <td>0.0</td>\n",
       "      <td>0.0</td>\n",
       "      <td>0.0</td>\n",
       "      <td>0.0</td>\n",
       "      <td>20.0</td>\n",
       "    </tr>\n",
       "    <tr>\n",
       "      <th>1045</th>\n",
       "      <td>NaN</td>\n",
       "      <td>Happy Tree Friends: False Alarm</td>\n",
       "      <td>PC</td>\n",
       "      <td>Jun 25, 2008</td>\n",
       "      <td>5.1</td>\n",
       "      <td>/game/pc/happy-tree-friends-false-alarm</td>\n",
       "      <td>M</td>\n",
       "      <td>['Stainless Games']</td>\n",
       "      <td>['Action', 'General', 'General']</td>\n",
       "      <td>2008-06-25</td>\n",
       "      <td>...</td>\n",
       "      <td>0.0</td>\n",
       "      <td>0.0</td>\n",
       "      <td>0.0</td>\n",
       "      <td>0.0</td>\n",
       "      <td>0.0</td>\n",
       "      <td>0.0</td>\n",
       "      <td>0.0</td>\n",
       "      <td>0.0</td>\n",
       "      <td>0.0</td>\n",
       "      <td>20.0</td>\n",
       "    </tr>\n",
       "    <tr>\n",
       "      <th>1046</th>\n",
       "      <td>51.0</td>\n",
       "      <td>Happy Tree Friends: False Alarm</td>\n",
       "      <td>X360</td>\n",
       "      <td>Jun 25, 2008</td>\n",
       "      <td>5.8</td>\n",
       "      <td>/game/xbox-360/happy-tree-friends-false-alarm</td>\n",
       "      <td>M</td>\n",
       "      <td>['Stainless Games']</td>\n",
       "      <td>['Action', 'General', 'General']</td>\n",
       "      <td>2008-06-25</td>\n",
       "      <td>...</td>\n",
       "      <td>0.0</td>\n",
       "      <td>0.0</td>\n",
       "      <td>0.0</td>\n",
       "      <td>0.0</td>\n",
       "      <td>0.0</td>\n",
       "      <td>0.0</td>\n",
       "      <td>0.0</td>\n",
       "      <td>0.0</td>\n",
       "      <td>0.0</td>\n",
       "      <td>20.0</td>\n",
       "    </tr>\n",
       "    <tr>\n",
       "      <th>1049</th>\n",
       "      <td>50.0</td>\n",
       "      <td>The Incredible Hulk</td>\n",
       "      <td>PS2</td>\n",
       "      <td>Jun 5, 2008</td>\n",
       "      <td>6.3</td>\n",
       "      <td>/game/playstation-2/the-incredible-hulk</td>\n",
       "      <td>T</td>\n",
       "      <td>['Edge of Reality']</td>\n",
       "      <td>['Action', 'General']</td>\n",
       "      <td>2008-06-05</td>\n",
       "      <td>...</td>\n",
       "      <td>0.0</td>\n",
       "      <td>0.0</td>\n",
       "      <td>0.0</td>\n",
       "      <td>0.0</td>\n",
       "      <td>0.0</td>\n",
       "      <td>0.0</td>\n",
       "      <td>0.0</td>\n",
       "      <td>0.0</td>\n",
       "      <td>0.0</td>\n",
       "      <td>20.0</td>\n",
       "    </tr>\n",
       "    <tr>\n",
       "      <th>1053</th>\n",
       "      <td>46.0</td>\n",
       "      <td>The Incredible Hulk</td>\n",
       "      <td>WII</td>\n",
       "      <td>Jun 5, 2008</td>\n",
       "      <td>6.0</td>\n",
       "      <td>/game/wii/the-incredible-hulk</td>\n",
       "      <td>T</td>\n",
       "      <td>['Edge of Reality']</td>\n",
       "      <td>['Action', 'Action Adventure', 'General', 'Gen...</td>\n",
       "      <td>2008-06-05</td>\n",
       "      <td>...</td>\n",
       "      <td>0.0</td>\n",
       "      <td>0.0</td>\n",
       "      <td>0.0</td>\n",
       "      <td>0.0</td>\n",
       "      <td>0.0</td>\n",
       "      <td>0.0</td>\n",
       "      <td>0.0</td>\n",
       "      <td>0.0</td>\n",
       "      <td>0.0</td>\n",
       "      <td>20.0</td>\n",
       "    </tr>\n",
       "    <tr>\n",
       "      <th>1056</th>\n",
       "      <td>45.0</td>\n",
       "      <td>Iron Man</td>\n",
       "      <td>X360</td>\n",
       "      <td>May 2, 2008</td>\n",
       "      <td>5.8</td>\n",
       "      <td>/game/xbox-360/iron-man</td>\n",
       "      <td>T</td>\n",
       "      <td>['Secret Level']</td>\n",
       "      <td>['Action', 'Action Adventure', 'General', 'Gen...</td>\n",
       "      <td>2008-05-02</td>\n",
       "      <td>...</td>\n",
       "      <td>0.0</td>\n",
       "      <td>0.0</td>\n",
       "      <td>0.0</td>\n",
       "      <td>0.0</td>\n",
       "      <td>0.0</td>\n",
       "      <td>0.0</td>\n",
       "      <td>0.0</td>\n",
       "      <td>0.0</td>\n",
       "      <td>0.0</td>\n",
       "      <td>20.0</td>\n",
       "    </tr>\n",
       "    <tr>\n",
       "      <th>1057</th>\n",
       "      <td>42.0</td>\n",
       "      <td>Iron Man</td>\n",
       "      <td>PS3</td>\n",
       "      <td>May 2, 2008</td>\n",
       "      <td>6.0</td>\n",
       "      <td>/game/playstation-3/iron-man</td>\n",
       "      <td>T</td>\n",
       "      <td>['Secret Level']</td>\n",
       "      <td>['Action', 'Action Adventure', 'General', 'Gen...</td>\n",
       "      <td>2008-05-02</td>\n",
       "      <td>...</td>\n",
       "      <td>0.0</td>\n",
       "      <td>0.0</td>\n",
       "      <td>0.0</td>\n",
       "      <td>0.0</td>\n",
       "      <td>0.0</td>\n",
       "      <td>0.0</td>\n",
       "      <td>0.0</td>\n",
       "      <td>0.0</td>\n",
       "      <td>0.0</td>\n",
       "      <td>20.0</td>\n",
       "    </tr>\n",
       "    <tr>\n",
       "      <th>1058</th>\n",
       "      <td>44.0</td>\n",
       "      <td>Iron Man</td>\n",
       "      <td>WII</td>\n",
       "      <td>May 2, 2008</td>\n",
       "      <td>6.1</td>\n",
       "      <td>/game/wii/iron-man</td>\n",
       "      <td>T</td>\n",
       "      <td>['Artificial Mind and Movement']</td>\n",
       "      <td>['Action', 'Action Adventure', 'General', 'Gen...</td>\n",
       "      <td>2008-05-02</td>\n",
       "      <td>...</td>\n",
       "      <td>0.0</td>\n",
       "      <td>0.0</td>\n",
       "      <td>0.0</td>\n",
       "      <td>0.0</td>\n",
       "      <td>0.0</td>\n",
       "      <td>0.0</td>\n",
       "      <td>0.0</td>\n",
       "      <td>0.0</td>\n",
       "      <td>0.0</td>\n",
       "      <td>20.0</td>\n",
       "    </tr>\n",
       "    <tr>\n",
       "      <th>1059</th>\n",
       "      <td>47.0</td>\n",
       "      <td>Iron Man</td>\n",
       "      <td>PS2</td>\n",
       "      <td>May 2, 2008</td>\n",
       "      <td>5.4</td>\n",
       "      <td>/game/playstation-2/iron-man</td>\n",
       "      <td>T</td>\n",
       "      <td>['Artificial Mind and Movement']</td>\n",
       "      <td>['Action', 'General']</td>\n",
       "      <td>2008-05-02</td>\n",
       "      <td>...</td>\n",
       "      <td>0.0</td>\n",
       "      <td>0.0</td>\n",
       "      <td>0.0</td>\n",
       "      <td>0.0</td>\n",
       "      <td>0.0</td>\n",
       "      <td>0.0</td>\n",
       "      <td>0.0</td>\n",
       "      <td>0.0</td>\n",
       "      <td>0.0</td>\n",
       "      <td>20.0</td>\n",
       "    </tr>\n",
       "    <tr>\n",
       "      <th>1060</th>\n",
       "      <td>56.0</td>\n",
       "      <td>Iron Man</td>\n",
       "      <td>DS</td>\n",
       "      <td>May 2, 2008</td>\n",
       "      <td>5.4</td>\n",
       "      <td>/game/ds/iron-man</td>\n",
       "      <td>E10+</td>\n",
       "      <td>['Artificial Mind and Movement']</td>\n",
       "      <td>['Action', 'Action Adventure', 'General', 'Gen...</td>\n",
       "      <td>2008-05-02</td>\n",
       "      <td>...</td>\n",
       "      <td>0.0</td>\n",
       "      <td>0.0</td>\n",
       "      <td>0.0</td>\n",
       "      <td>0.0</td>\n",
       "      <td>0.0</td>\n",
       "      <td>0.0</td>\n",
       "      <td>0.0</td>\n",
       "      <td>0.0</td>\n",
       "      <td>0.0</td>\n",
       "      <td>20.0</td>\n",
       "    </tr>\n",
       "    <tr>\n",
       "      <th>1061</th>\n",
       "      <td>44.0</td>\n",
       "      <td>Iron Man</td>\n",
       "      <td>PSP</td>\n",
       "      <td>May 2, 2008</td>\n",
       "      <td>6.3</td>\n",
       "      <td>/game/psp/iron-man</td>\n",
       "      <td>T</td>\n",
       "      <td>['Artificial Mind and Movement']</td>\n",
       "      <td>['Action', 'Action Adventure', 'General', 'Gen...</td>\n",
       "      <td>2008-05-02</td>\n",
       "      <td>...</td>\n",
       "      <td>0.0</td>\n",
       "      <td>0.0</td>\n",
       "      <td>0.0</td>\n",
       "      <td>0.0</td>\n",
       "      <td>0.0</td>\n",
       "      <td>0.0</td>\n",
       "      <td>0.0</td>\n",
       "      <td>0.0</td>\n",
       "      <td>0.0</td>\n",
       "      <td>20.0</td>\n",
       "    </tr>\n",
       "    <tr>\n",
       "      <th>1082</th>\n",
       "      <td>67.0</td>\n",
       "      <td>The Club</td>\n",
       "      <td>PC</td>\n",
       "      <td>Feb 19, 2008</td>\n",
       "      <td>5.9</td>\n",
       "      <td>/game/pc/the-club</td>\n",
       "      <td>M</td>\n",
       "      <td>['Bizarre Creations']</td>\n",
       "      <td>['Action', 'Shooter', 'Shooter', 'Third-Person...</td>\n",
       "      <td>2008-02-19</td>\n",
       "      <td>...</td>\n",
       "      <td>0.0</td>\n",
       "      <td>0.0</td>\n",
       "      <td>0.0</td>\n",
       "      <td>0.0</td>\n",
       "      <td>0.0</td>\n",
       "      <td>0.0</td>\n",
       "      <td>0.0</td>\n",
       "      <td>0.0</td>\n",
       "      <td>0.0</td>\n",
       "      <td>20.0</td>\n",
       "    </tr>\n",
       "    <tr>\n",
       "      <th>1180</th>\n",
       "      <td>NaN</td>\n",
       "      <td>Charlotte's Web: Wilbur and Friends</td>\n",
       "      <td>PC</td>\n",
       "      <td>Nov 17, 2006</td>\n",
       "      <td>4.8</td>\n",
       "      <td>/game/pc/charlottes-web-wilbur-and-friends</td>\n",
       "      <td>E</td>\n",
       "      <td>['Sega']</td>\n",
       "      <td>['Action', 'Miscellaneous', 'General', 'Genera...</td>\n",
       "      <td>2006-11-17</td>\n",
       "      <td>...</td>\n",
       "      <td>0.0</td>\n",
       "      <td>0.0</td>\n",
       "      <td>0.0</td>\n",
       "      <td>0.0</td>\n",
       "      <td>0.0</td>\n",
       "      <td>0.0</td>\n",
       "      <td>0.0</td>\n",
       "      <td>0.0</td>\n",
       "      <td>0.0</td>\n",
       "      <td>20.0</td>\n",
       "    </tr>\n",
       "    <tr>\n",
       "      <th>1279</th>\n",
       "      <td>59.0</td>\n",
       "      <td>Samurai Jack: The Shadow of Aku</td>\n",
       "      <td>GC</td>\n",
       "      <td>Mar 24, 2004</td>\n",
       "      <td>6.2</td>\n",
       "      <td>/game/gamecube/samurai-jack-the-shadow-of-aku</td>\n",
       "      <td>T</td>\n",
       "      <td>['Adrenium']</td>\n",
       "      <td>['Action', 'General']</td>\n",
       "      <td>2004-03-24</td>\n",
       "      <td>...</td>\n",
       "      <td>0.0</td>\n",
       "      <td>0.0</td>\n",
       "      <td>0.0</td>\n",
       "      <td>0.0</td>\n",
       "      <td>0.0</td>\n",
       "      <td>0.0</td>\n",
       "      <td>0.0</td>\n",
       "      <td>0.0</td>\n",
       "      <td>0.0</td>\n",
       "      <td>20.0</td>\n",
       "    </tr>\n",
       "    <tr>\n",
       "      <th>1363</th>\n",
       "      <td>81.0</td>\n",
       "      <td>Ooga Booga</td>\n",
       "      <td>DC</td>\n",
       "      <td>Sep 13, 2001</td>\n",
       "      <td>6.2</td>\n",
       "      <td>/game/dreamcast/ooga-booga</td>\n",
       "      <td>E</td>\n",
       "      <td>['Visual Concepts']</td>\n",
       "      <td>['Action', 'General']</td>\n",
       "      <td>2001-09-13</td>\n",
       "      <td>...</td>\n",
       "      <td>0.0</td>\n",
       "      <td>0.0</td>\n",
       "      <td>0.0</td>\n",
       "      <td>0.0</td>\n",
       "      <td>0.0</td>\n",
       "      <td>0.0</td>\n",
       "      <td>0.0</td>\n",
       "      <td>0.0</td>\n",
       "      <td>0.0</td>\n",
       "      <td>20.0</td>\n",
       "    </tr>\n",
       "  </tbody>\n",
       "</table>\n",
       "<p>34 rows × 130 columns</p>\n",
       "</div>"
      ],
      "text/plain": [
       "      meta_score                                          title platform  \\\n",
       "92          77.0                        Persona 4 Arena Ultimax       PC   \n",
       "154         73.0                    Football Manager 2021 Touch   Switch   \n",
       "430          NaN                                10 Minute Tower       PC   \n",
       "545          NaN                    Warhammer 40,000: Kill Team       PC   \n",
       "581          NaN  Aliens: Colonial Marines - Stasis Interrupted       PC   \n",
       "661         59.0                      Total War Battles: SHOGUN       PC   \n",
       "725          NaN              Renegade Ops: Coldstrike Campaign       PC   \n",
       "739         51.0                 Captain America: Super Soldier      3DS   \n",
       "777         38.0                           Thor: God of Thunder     X360   \n",
       "787         55.0                           Super Monkey Ball 3D      3DS   \n",
       "820         68.0                                 Sonic Spinball      iOS   \n",
       "848         72.0                Sonic the Hedgehog 4: Episode I     X360   \n",
       "851         70.0                Sonic the Hedgehog 4: Episode 1      iOS   \n",
       "867          NaN                    Sonic the Hedgehog Spinball       PC   \n",
       "896         41.0                                     Iron Man 2     X360   \n",
       "898         54.0                                     Iron Man 2       DS   \n",
       "899         49.0                                     Iron Man 2      PSP   \n",
       "942         53.0                             Planet 51 The Game      WII   \n",
       "1028        45.0                        Golden Axe: Beast Rider     X360   \n",
       "1029        44.0                        Golden Axe: Beast Rider      PS3   \n",
       "1045         NaN                Happy Tree Friends: False Alarm       PC   \n",
       "1046        51.0                Happy Tree Friends: False Alarm     X360   \n",
       "1049        50.0                            The Incredible Hulk      PS2   \n",
       "1053        46.0                            The Incredible Hulk      WII   \n",
       "1056        45.0                                       Iron Man     X360   \n",
       "1057        42.0                                       Iron Man      PS3   \n",
       "1058        44.0                                       Iron Man      WII   \n",
       "1059        47.0                                       Iron Man      PS2   \n",
       "1060        56.0                                       Iron Man       DS   \n",
       "1061        44.0                                       Iron Man      PSP   \n",
       "1082        67.0                                       The Club       PC   \n",
       "1180         NaN            Charlotte's Web: Wilbur and Friends       PC   \n",
       "1279        59.0                Samurai Jack: The Shadow of Aku       GC   \n",
       "1363        81.0                                     Ooga Booga       DC   \n",
       "\n",
       "              date  user_score  \\\n",
       "92    Mar 17, 2022         4.9   \n",
       "154   Dec 14, 2020         5.4   \n",
       "430   Jul 26, 2016         5.0   \n",
       "545   May 22, 2014         5.2   \n",
       "581   Jul 23, 2013         5.5   \n",
       "661   Aug 29, 2012         6.3   \n",
       "725   Dec 19, 2011         5.7   \n",
       "739   Oct 25, 2011         6.5   \n",
       "777    May 3, 2011         5.7   \n",
       "787   Mar 27, 2011         5.4   \n",
       "820   Dec 16, 2010         6.3   \n",
       "848   Oct 13, 2010         5.1   \n",
       "851    Oct 7, 2010         5.7   \n",
       "867   Sep 13, 2010         6.1   \n",
       "896    May 4, 2010         5.8   \n",
       "898    May 4, 2010         6.4   \n",
       "899    May 3, 2010         6.0   \n",
       "942   Nov 17, 2009         5.8   \n",
       "1028  Oct 14, 2008         5.9   \n",
       "1029  Oct 14, 2008         5.7   \n",
       "1045  Jun 25, 2008         5.1   \n",
       "1046  Jun 25, 2008         5.8   \n",
       "1049   Jun 5, 2008         6.3   \n",
       "1053   Jun 5, 2008         6.0   \n",
       "1056   May 2, 2008         5.8   \n",
       "1057   May 2, 2008         6.0   \n",
       "1058   May 2, 2008         6.1   \n",
       "1059   May 2, 2008         5.4   \n",
       "1060   May 2, 2008         5.4   \n",
       "1061   May 2, 2008         6.3   \n",
       "1082  Feb 19, 2008         5.9   \n",
       "1180  Nov 17, 2006         4.8   \n",
       "1279  Mar 24, 2004         6.2   \n",
       "1363  Sep 13, 2001         6.2   \n",
       "\n",
       "                                                   link esrb_rating  \\\n",
       "92                     /game/pc/persona-4-arena-ultimax           T   \n",
       "154            /game/switch/football-manager-2021-touch         NaN   \n",
       "430                            /game/pc/10-minute-tower         NaN   \n",
       "545                  /game/pc/warhammer-40000-kill-team         NaN   \n",
       "581   /game/pc/aliens-colonial-marines---stasis-inte...           M   \n",
       "661                   /game/pc/total-war-battles-shogun         NaN   \n",
       "725           /game/pc/renegade-ops-coldstrike-campaign         NaN   \n",
       "739             /game/3ds/captain-america-super-soldier           T   \n",
       "777                  /game/xbox-360/thor-god-of-thunder           T   \n",
       "787                      /game/3ds/super-monkey-ball-3d           E   \n",
       "820                            /game/ios/sonic-spinball         NaN   \n",
       "848       /game/xbox-360/sonic-the-hedgehog-4-episode-i           E   \n",
       "851            /game/ios/sonic-the-hedgehog-4-episode-1         NaN   \n",
       "867                /game/pc/sonic-the-hedgehog-spinball           E   \n",
       "896                           /game/xbox-360/iron-man-2           T   \n",
       "898                                 /game/ds/iron-man-2        E10+   \n",
       "899                                /game/psp/iron-man-2           T   \n",
       "942                        /game/wii/planet-51-the-game           E   \n",
       "1028              /game/xbox-360/golden-axe-beast-rider           M   \n",
       "1029         /game/playstation-3/golden-axe-beast-rider           M   \n",
       "1045            /game/pc/happy-tree-friends-false-alarm           M   \n",
       "1046      /game/xbox-360/happy-tree-friends-false-alarm           M   \n",
       "1049            /game/playstation-2/the-incredible-hulk           T   \n",
       "1053                      /game/wii/the-incredible-hulk           T   \n",
       "1056                            /game/xbox-360/iron-man           T   \n",
       "1057                       /game/playstation-3/iron-man           T   \n",
       "1058                                 /game/wii/iron-man           T   \n",
       "1059                       /game/playstation-2/iron-man           T   \n",
       "1060                                  /game/ds/iron-man        E10+   \n",
       "1061                                 /game/psp/iron-man           T   \n",
       "1082                                  /game/pc/the-club           M   \n",
       "1180         /game/pc/charlottes-web-wilbur-and-friends           E   \n",
       "1279      /game/gamecube/samurai-jack-the-shadow-of-aku           T   \n",
       "1363                         /game/dreamcast/ooga-booga           E   \n",
       "\n",
       "                            developers  \\\n",
       "92                ['Arc System Works']   \n",
       "154             ['Sports Interactive']   \n",
       "430                         ['Team17']   \n",
       "545                    ['Nomad Games']   \n",
       "581               ['Gearbox Software']   \n",
       "661                           ['Sega']   \n",
       "725              ['Avalanche Studios']   \n",
       "739          ['High Voltage Software']   \n",
       "777           ['Liquid Entertainment']   \n",
       "787                           ['Sega']   \n",
       "820                           ['Sega']   \n",
       "848              ['Dimps Corporation']   \n",
       "851                           ['Sega']   \n",
       "867                           ['Sega']   \n",
       "896     ['Sega Studios San Francisco']   \n",
       "898     ['Sega Studios San Francisco']   \n",
       "899          ['High Voltage Software']   \n",
       "942                   ['Pyro Studios']   \n",
       "1028                  ['Secret Level']   \n",
       "1029                  ['Secret Level']   \n",
       "1045               ['Stainless Games']   \n",
       "1046               ['Stainless Games']   \n",
       "1049               ['Edge of Reality']   \n",
       "1053               ['Edge of Reality']   \n",
       "1056                  ['Secret Level']   \n",
       "1057                  ['Secret Level']   \n",
       "1058  ['Artificial Mind and Movement']   \n",
       "1059  ['Artificial Mind and Movement']   \n",
       "1060  ['Artificial Mind and Movement']   \n",
       "1061  ['Artificial Mind and Movement']   \n",
       "1082             ['Bizarre Creations']   \n",
       "1180                          ['Sega']   \n",
       "1279                      ['Adrenium']   \n",
       "1363               ['Visual Concepts']   \n",
       "\n",
       "                                                 genres    date_dt  ...  \\\n",
       "92                         ['Action', 'Fighting', '2D'] 2022-03-17  ...   \n",
       "154   ['Action', 'Sports', 'General', 'Team', 'Socce... 2020-12-14  ...   \n",
       "430                                ['Puzzle', 'Action'] 2016-07-26  ...   \n",
       "545   ['Action', 'Shooter', 'Third-Person', 'Sci-Fi'... 2014-05-22  ...   \n",
       "581   ['Action', 'Shooter', 'Shooter', 'First-Person... 2013-07-23  ...   \n",
       "661                    ['Action', 'General', 'General'] 2012-08-29  ...   \n",
       "725   ['Action', 'General', 'General', 'Shooter', \"S... 2011-12-19  ...   \n",
       "739   ['Action', 'Action Adventure', 'General', 'Gen... 2011-10-25  ...   \n",
       "777   ['Action', 'General', 'General', \"Beat-'Em-Up\"... 2011-05-03  ...   \n",
       "787                    ['Action', 'General', 'General'] 2011-03-27  ...   \n",
       "820   ['Action', 'Puzzle', 'General', 'General', 'Pi... 2010-12-16  ...   \n",
       "848   ['Action', 'General', 'Platformer', 'Platforme... 2010-10-13  ...   \n",
       "851   ['Action', 'General', 'Platformer', 'Platforme... 2010-10-07  ...   \n",
       "867   ['Action', 'Miscellaneous', 'Puzzle', 'Puzzle'... 2010-09-13  ...   \n",
       "896   ['Action', 'Action Adventure', 'General', 'Gen... 2010-05-04  ...   \n",
       "898   ['Action', 'Action Adventure', 'General', 'Gen... 2010-05-04  ...   \n",
       "899   ['Action', 'Action Adventure', 'General', 'Gen... 2010-05-03  ...   \n",
       "942   ['Action', 'Action Adventure', 'General', 'Gen... 2009-11-17  ...   \n",
       "1028                   ['Action', 'General', 'General'] 2008-10-14  ...   \n",
       "1029                   ['Action', 'General', 'General'] 2008-10-14  ...   \n",
       "1045                   ['Action', 'General', 'General'] 2008-06-25  ...   \n",
       "1046                   ['Action', 'General', 'General'] 2008-06-25  ...   \n",
       "1049                              ['Action', 'General'] 2008-06-05  ...   \n",
       "1053  ['Action', 'Action Adventure', 'General', 'Gen... 2008-06-05  ...   \n",
       "1056  ['Action', 'Action Adventure', 'General', 'Gen... 2008-05-02  ...   \n",
       "1057  ['Action', 'Action Adventure', 'General', 'Gen... 2008-05-02  ...   \n",
       "1058  ['Action', 'Action Adventure', 'General', 'Gen... 2008-05-02  ...   \n",
       "1059                              ['Action', 'General'] 2008-05-02  ...   \n",
       "1060  ['Action', 'Action Adventure', 'General', 'Gen... 2008-05-02  ...   \n",
       "1061  ['Action', 'Action Adventure', 'General', 'Gen... 2008-05-02  ...   \n",
       "1082  ['Action', 'Shooter', 'Shooter', 'Third-Person... 2008-02-19  ...   \n",
       "1180  ['Action', 'Miscellaneous', 'General', 'Genera... 2006-11-17  ...   \n",
       "1279                              ['Action', 'General'] 2004-03-24  ...   \n",
       "1363                              ['Action', 'General'] 2001-09-13  ...   \n",
       "\n",
       "     Card Battle  GT / Street  Tycoon  Volleyball  Stock Car  \\\n",
       "92           0.0          0.0     0.0         0.0        0.0   \n",
       "154          0.0          0.0     0.0         0.0        0.0   \n",
       "430          0.0          0.0     0.0         0.0        0.0   \n",
       "545          0.0          0.0     0.0         0.0        0.0   \n",
       "581          0.0          0.0     0.0         0.0        0.0   \n",
       "661          0.0          0.0     0.0         0.0        0.0   \n",
       "725          0.0          0.0     0.0         0.0        0.0   \n",
       "739          0.0          0.0     0.0         0.0        0.0   \n",
       "777          0.0          0.0     0.0         0.0        0.0   \n",
       "787          0.0          0.0     0.0         0.0        0.0   \n",
       "820          0.0          0.0     0.0         0.0        0.0   \n",
       "848          0.0          0.0     0.0         0.0        0.0   \n",
       "851          0.0          0.0     0.0         0.0        0.0   \n",
       "867          0.0          0.0     0.0         0.0        0.0   \n",
       "896          0.0          0.0     0.0         0.0        0.0   \n",
       "898          0.0          0.0     0.0         0.0        0.0   \n",
       "899          0.0          0.0     0.0         0.0        0.0   \n",
       "942          0.0          0.0     0.0         0.0        0.0   \n",
       "1028         0.0          0.0     0.0         0.0        0.0   \n",
       "1029         0.0          0.0     0.0         0.0        0.0   \n",
       "1045         0.0          0.0     0.0         0.0        0.0   \n",
       "1046         0.0          0.0     0.0         0.0        0.0   \n",
       "1049         0.0          0.0     0.0         0.0        0.0   \n",
       "1053         0.0          0.0     0.0         0.0        0.0   \n",
       "1056         0.0          0.0     0.0         0.0        0.0   \n",
       "1057         0.0          0.0     0.0         0.0        0.0   \n",
       "1058         0.0          0.0     0.0         0.0        0.0   \n",
       "1059         0.0          0.0     0.0         0.0        0.0   \n",
       "1060         0.0          0.0     0.0         0.0        0.0   \n",
       "1061         0.0          0.0     0.0         0.0        0.0   \n",
       "1082         0.0          0.0     0.0         0.0        0.0   \n",
       "1180         0.0          0.0     0.0         0.0        0.0   \n",
       "1279         0.0          0.0     0.0         0.0        0.0   \n",
       "1363         0.0          0.0     0.0         0.0        0.0   \n",
       "\n",
       "      Trivia / Game Show  Golf  Street  Demo Disc  cluster  \n",
       "92                   0.0   0.0     0.0        0.0     20.0  \n",
       "154                  0.0   0.0     0.0        0.0     20.0  \n",
       "430                  0.0   0.0     0.0        0.0     20.0  \n",
       "545                  0.0   0.0     0.0        0.0     20.0  \n",
       "581                  0.0   0.0     0.0        0.0     20.0  \n",
       "661                  0.0   0.0     0.0        0.0     20.0  \n",
       "725                  0.0   0.0     0.0        0.0     20.0  \n",
       "739                  0.0   0.0     0.0        0.0     20.0  \n",
       "777                  0.0   0.0     0.0        0.0     20.0  \n",
       "787                  0.0   0.0     0.0        0.0     20.0  \n",
       "820                  0.0   0.0     0.0        0.0     20.0  \n",
       "848                  0.0   0.0     0.0        0.0     20.0  \n",
       "851                  0.0   0.0     0.0        0.0     20.0  \n",
       "867                  0.0   0.0     0.0        0.0     20.0  \n",
       "896                  0.0   0.0     0.0        0.0     20.0  \n",
       "898                  0.0   0.0     0.0        0.0     20.0  \n",
       "899                  0.0   0.0     0.0        0.0     20.0  \n",
       "942                  0.0   0.0     0.0        0.0     20.0  \n",
       "1028                 0.0   0.0     0.0        0.0     20.0  \n",
       "1029                 0.0   0.0     0.0        0.0     20.0  \n",
       "1045                 0.0   0.0     0.0        0.0     20.0  \n",
       "1046                 0.0   0.0     0.0        0.0     20.0  \n",
       "1049                 0.0   0.0     0.0        0.0     20.0  \n",
       "1053                 0.0   0.0     0.0        0.0     20.0  \n",
       "1056                 0.0   0.0     0.0        0.0     20.0  \n",
       "1057                 0.0   0.0     0.0        0.0     20.0  \n",
       "1058                 0.0   0.0     0.0        0.0     20.0  \n",
       "1059                 0.0   0.0     0.0        0.0     20.0  \n",
       "1060                 0.0   0.0     0.0        0.0     20.0  \n",
       "1061                 0.0   0.0     0.0        0.0     20.0  \n",
       "1082                 0.0   0.0     0.0        0.0     20.0  \n",
       "1180                 0.0   0.0     0.0        0.0     20.0  \n",
       "1279                 0.0   0.0     0.0        0.0     20.0  \n",
       "1363                 0.0   0.0     0.0        0.0     20.0  \n",
       "\n",
       "[34 rows x 130 columns]"
      ]
     },
     "execution_count": 268,
     "metadata": {},
     "output_type": "execute_result"
    }
   ],
   "source": [
    "df[df['cluster'] == 20]"
   ]
  }
 ],
 "metadata": {
  "kernelspec": {
   "display_name": "Python 3",
   "language": "python",
   "name": "python3"
  },
  "language_info": {
   "codemirror_mode": {
    "name": "ipython",
    "version": 3
   },
   "file_extension": ".py",
   "mimetype": "text/x-python",
   "name": "python",
   "nbconvert_exporter": "python",
   "pygments_lexer": "ipython3",
   "version": "3.10.7"
  },
  "orig_nbformat": 4
 },
 "nbformat": 4,
 "nbformat_minor": 2
}
